{
 "cells": [
  {
   "cell_type": "code",
   "execution_count": 3,
   "id": "cf11e197-2064-45d5-8d66-dd8628022d17",
   "metadata": {},
   "outputs": [
    {
     "name": "stdout",
     "output_type": "stream",
     "text": [
      "# Last run: 2024-08-12\n"
     ]
    }
   ],
   "source": [
    "import pandas as pd\n",
    "import numpy as np\n",
    "import matplotlib.pyplot as plt\n",
    "import os\n",
    "\n",
    "import datetime\n",
    "print('# Last run:', datetime.datetime.now().strftime('%Y-%m-%d'))"
   ]
  },
  {
   "cell_type": "markdown",
   "id": "a56f566e-5238-41dc-aefe-4cdb196c593d",
   "metadata": {},
   "source": [
    "# 0. Install GEMMA\n",
    "```\n",
    "conda install gemma\n",
    "```"
   ]
  },
  {
   "cell_type": "markdown",
   "id": "8ddf7db0-b70f-4f82-88ab-15ff0162b008",
   "metadata": {},
   "source": [
    "# 1. Prepare input files for GEMMA"
   ]
  },
  {
   "cell_type": "code",
   "execution_count": null,
   "id": "9169e868-08d7-41da-8f23-a4ddbc23747c",
   "metadata": {},
   "outputs": [],
   "source": []
  }
 ],
 "metadata": {
  "kernelspec": {
   "display_name": "Python 3 (ipykernel)",
   "language": "python",
   "name": "python3"
  },
  "language_info": {
   "codemirror_mode": {
    "name": "ipython",
    "version": 3
   },
   "file_extension": ".py",
   "mimetype": "text/x-python",
   "name": "python",
   "nbconvert_exporter": "python",
   "pygments_lexer": "ipython3",
   "version": "3.10.14"
  }
 },
 "nbformat": 4,
 "nbformat_minor": 5
}
