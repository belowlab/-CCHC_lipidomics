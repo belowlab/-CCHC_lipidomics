{
 "cells": [
  {
   "cell_type": "code",
   "execution_count": 2,
   "id": "b742622f-d9bc-4702-a63c-18e7edf861ad",
   "metadata": {},
   "outputs": [
    {
     "name": "stdout",
     "output_type": "stream",
     "text": [
      "# Last run: 2024-02-28\n"
     ]
    }
   ],
   "source": [
    "import pandas as pd\n",
    "import matplotlib.pyplot as plt\n",
    "import numpy as np\n",
    "import os\n",
    "import datetime\n",
    "\n",
    "print('# Last run:', datetime.datetime.now().strftime('%Y-%m-%d'))"
   ]
  },
  {
   "cell_type": "code",
   "execution_count": 41,
   "id": "112131bd-91d4-493f-8fe4-368cf21abd5e",
   "metadata": {},
   "outputs": [
    {
     "name": "stdout",
     "output_type": "stream",
     "text": [
      "# Number of values smaller than 0.5: 14\n",
      "C1P 14\n"
     ]
    }
   ],
   "source": [
    "fn = '/data100t1/home/wanying/CCHC/lipidomics/input_docs/lipidomic_measures/lipid_class.no_dup.txt'\n",
    "df = pd.read_csv(fn, sep='\\t')\n",
    "threshold = 1\n",
    "print(f'# Number of values smaller than {threshold}:', (df.iloc[:, 2:]<threshold).sum().sum())\n",
    "for i in range(len((df.iloc[:, 2:]<1).sum())):\n",
    "    if (df.iloc[:, 2:]<threshold).sum()[i] != 0:\n",
    "        print((df.iloc[:, 2:]<threshold).sum().index[i], (df.iloc[:, 2:]<threshold).sum()[i])"
   ]
  },
  {
   "cell_type": "code",
   "execution_count": 43,
   "id": "237b0045-5fee-4ebe-b9cf-d9102a9ab49d",
   "metadata": {},
   "outputs": [
    {
     "name": "stdout",
     "output_type": "stream",
     "text": [
      "# Number of values smaller than 0.1: 648\n",
      "Cer(d19:1/20:0) 1\n",
      "AC(20:3) (b) 29\n",
      "AC(20:5) 66\n",
      "AC(22:5) 462\n",
      "AC(22:6) 10\n",
      "AC(22:5)-OH 79\n",
      "TG(O-50:3) [NL-18:2] 1\n"
     ]
    }
   ],
   "source": [
    "fn = '/data100t1/home/wanying/CCHC/lipidomics/input_docs/lipidomic_measures/lipid_species.no_dup.txt'\n",
    "df = pd.read_csv(fn, sep='\\t')\n",
    "threshold = 0.1\n",
    "print(f'# Number of values smaller than {threshold}:', (df.iloc[:, 2:]<threshold).sum().sum())\n",
    "for i in range(len((df.iloc[:, 2:]<1).sum())):\n",
    "    if (df.iloc[:, 2:]<threshold).sum()[i] != 0:\n",
    "        print((df.iloc[:, 2:]<threshold).sum().index[i], (df.iloc[:, 2:]<threshold).sum()[i])"
   ]
  },
  {
   "cell_type": "code",
   "execution_count": 44,
   "id": "3a74d3fc-a861-4c59-a1e8-d67023722d96",
   "metadata": {},
   "outputs": [
    {
     "data": {
      "text/html": [
       "<div>\n",
       "<style scoped>\n",
       "    .dataframe tbody tr th:only-of-type {\n",
       "        vertical-align: middle;\n",
       "    }\n",
       "\n",
       "    .dataframe tbody tr th {\n",
       "        vertical-align: top;\n",
       "    }\n",
       "\n",
       "    .dataframe thead th {\n",
       "        text-align: right;\n",
       "    }\n",
       "</style>\n",
       "<table border=\"1\" class=\"dataframe\">\n",
       "  <thead>\n",
       "    <tr style=\"text-align: right;\">\n",
       "      <th></th>\n",
       "      <th>LABID</th>\n",
       "      <th>AC(22:5)</th>\n",
       "    </tr>\n",
       "  </thead>\n",
       "  <tbody>\n",
       "    <tr>\n",
       "      <th>1</th>\n",
       "      <td>BD6685</td>\n",
       "      <td>0.049252</td>\n",
       "    </tr>\n",
       "    <tr>\n",
       "      <th>3</th>\n",
       "      <td>LA0113</td>\n",
       "      <td>0.023300</td>\n",
       "    </tr>\n",
       "    <tr>\n",
       "      <th>16</th>\n",
       "      <td>HD4178</td>\n",
       "      <td>0.032535</td>\n",
       "    </tr>\n",
       "    <tr>\n",
       "      <th>19</th>\n",
       "      <td>BD6119</td>\n",
       "      <td>0.035670</td>\n",
       "    </tr>\n",
       "    <tr>\n",
       "      <th>23</th>\n",
       "      <td>BD6701</td>\n",
       "      <td>0.098690</td>\n",
       "    </tr>\n",
       "    <tr>\n",
       "      <th>...</th>\n",
       "      <td>...</td>\n",
       "      <td>...</td>\n",
       "    </tr>\n",
       "    <tr>\n",
       "      <th>2464</th>\n",
       "      <td>BA0287</td>\n",
       "      <td>0.059023</td>\n",
       "    </tr>\n",
       "    <tr>\n",
       "      <th>2471</th>\n",
       "      <td>BA0079</td>\n",
       "      <td>0.058553</td>\n",
       "    </tr>\n",
       "    <tr>\n",
       "      <th>2483</th>\n",
       "      <td>BA0400</td>\n",
       "      <td>0.084367</td>\n",
       "    </tr>\n",
       "    <tr>\n",
       "      <th>2488</th>\n",
       "      <td>BD6169</td>\n",
       "      <td>0.050805</td>\n",
       "    </tr>\n",
       "    <tr>\n",
       "      <th>2489</th>\n",
       "      <td>HD4205</td>\n",
       "      <td>0.082172</td>\n",
       "    </tr>\n",
       "  </tbody>\n",
       "</table>\n",
       "<p>462 rows × 2 columns</p>\n",
       "</div>"
      ],
      "text/plain": [
       "       LABID  AC(22:5)\n",
       "1     BD6685  0.049252\n",
       "3     LA0113  0.023300\n",
       "16    HD4178  0.032535\n",
       "19    BD6119  0.035670\n",
       "23    BD6701  0.098690\n",
       "...      ...       ...\n",
       "2464  BA0287  0.059023\n",
       "2471  BA0079  0.058553\n",
       "2483  BA0400  0.084367\n",
       "2488  BD6169  0.050805\n",
       "2489  HD4205  0.082172\n",
       "\n",
       "[462 rows x 2 columns]"
      ]
     },
     "execution_count": 44,
     "metadata": {},
     "output_type": "execute_result"
    }
   ],
   "source": [
    "df[df['AC(22:5)']<threshold][['LABID', 'AC(22:5)']]"
   ]
  },
  {
   "cell_type": "code",
   "execution_count": null,
   "id": "9ee3d44a-05e3-450b-81a2-30675f2292ef",
   "metadata": {},
   "outputs": [],
   "source": []
  }
 ],
 "metadata": {
  "kernelspec": {
   "display_name": "Python 3",
   "language": "python",
   "name": "python3"
  },
  "language_info": {
   "codemirror_mode": {
    "name": "ipython",
    "version": 3
   },
   "file_extension": ".py",
   "mimetype": "text/x-python",
   "name": "python",
   "nbconvert_exporter": "python",
   "pygments_lexer": "ipython3",
   "version": "3.9.7"
  }
 },
 "nbformat": 4,
 "nbformat_minor": 5
}
