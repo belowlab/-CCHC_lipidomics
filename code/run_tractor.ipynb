{
 "cells": [
  {
   "cell_type": "markdown",
   "id": "9b7dddf5-66c0-4c67-a709-08a38f0832fe",
   "metadata": {},
   "source": [
    "This notebook run Tractor (partially) \n",
    "\n",
    "https://github.com/Atkinson-Lab/Tractor/wiki/"
   ]
  },
  {
   "cell_type": "code",
   "execution_count": 1,
   "id": "11dd03ad-28a1-404e-9d11-2ef0e3192154",
   "metadata": {},
   "outputs": [
    {
     "name": "stdout",
     "output_type": "stream",
     "text": [
      "Last run: 2023-02-08\n"
     ]
    }
   ],
   "source": [
    "import pandas as pd\n",
    "import numpy as np\n",
    "import statsmodels.formula.api as smf\n",
    "import os\n",
    "import gzip\n",
    "import datetime\n",
    "print('Last run:', datetime.datetime.now().strftime('%Y-%m-%d'))"
   ]
  },
  {
   "cell_type": "markdown",
   "id": "3a35867b-af68-457d-98ed-abaa34e57347",
   "metadata": {
    "tags": []
   },
   "source": [
    "# 1. Prepare files for tractor"
   ]
  },
  {
   "cell_type": "markdown",
   "id": "192acfbc-5344-4f9a-bf63-4ee4e639d223",
   "metadata": {},
   "source": [
    "## 1.1 Extract Lipidomic samples from genotype vcfs\n",
    "Use bcftools, run in terminal"
   ]
  },
  {
   "cell_type": "code",
   "execution_count": 42,
   "id": "a2fd4696-f96b-46d4-a0b9-833181ee11a6",
   "metadata": {},
   "outputs": [
    {
     "data": {
      "text/html": [
       "<div>\n",
       "<style scoped>\n",
       "    .dataframe tbody tr th:only-of-type {\n",
       "        vertical-align: middle;\n",
       "    }\n",
       "\n",
       "    .dataframe tbody tr th {\n",
       "        vertical-align: top;\n",
       "    }\n",
       "\n",
       "    .dataframe thead th {\n",
       "        text-align: right;\n",
       "    }\n",
       "</style>\n",
       "<table border=\"1\" class=\"dataframe\">\n",
       "  <thead>\n",
       "    <tr style=\"text-align: right;\">\n",
       "      <th></th>\n",
       "      <th>RRID</th>\n",
       "      <th>LABID</th>\n",
       "      <th>genotype_ID</th>\n",
       "      <th>RNAseq</th>\n",
       "      <th>lipidomic</th>\n",
       "      <th>proteomic</th>\n",
       "    </tr>\n",
       "  </thead>\n",
       "  <tbody>\n",
       "    <tr>\n",
       "      <th>0</th>\n",
       "      <td>BD0001</td>\n",
       "      <td>NaN</td>\n",
       "      <td>BD0001_BD4001</td>\n",
       "      <td>NaN</td>\n",
       "      <td>NaN</td>\n",
       "      <td>NaN</td>\n",
       "    </tr>\n",
       "    <tr>\n",
       "      <th>1</th>\n",
       "      <td>BD0002</td>\n",
       "      <td>NaN</td>\n",
       "      <td>BD0002_BD4002</td>\n",
       "      <td>NaN</td>\n",
       "      <td>NaN</td>\n",
       "      <td>NaN</td>\n",
       "    </tr>\n",
       "    <tr>\n",
       "      <th>2</th>\n",
       "      <td>BD0003</td>\n",
       "      <td>NaN</td>\n",
       "      <td>BD0003_BD4003</td>\n",
       "      <td>NaN</td>\n",
       "      <td>NaN</td>\n",
       "      <td>NaN</td>\n",
       "    </tr>\n",
       "    <tr>\n",
       "      <th>3</th>\n",
       "      <td>BD0004</td>\n",
       "      <td>5Y0277</td>\n",
       "      <td>BD0004_BD4004</td>\n",
       "      <td>NaN</td>\n",
       "      <td>NaN</td>\n",
       "      <td>5Y0277</td>\n",
       "    </tr>\n",
       "    <tr>\n",
       "      <th>4</th>\n",
       "      <td>BD0004</td>\n",
       "      <td>BD4004</td>\n",
       "      <td>BD0004_BD4004</td>\n",
       "      <td>NaN</td>\n",
       "      <td>NaN</td>\n",
       "      <td>BD4004</td>\n",
       "    </tr>\n",
       "  </tbody>\n",
       "</table>\n",
       "</div>"
      ],
      "text/plain": [
       "     RRID   LABID    genotype_ID RNAseq lipidomic proteomic\n",
       "0  BD0001     NaN  BD0001_BD4001    NaN       NaN       NaN\n",
       "1  BD0002     NaN  BD0002_BD4002    NaN       NaN       NaN\n",
       "2  BD0003     NaN  BD0003_BD4003    NaN       NaN       NaN\n",
       "3  BD0004  5Y0277  BD0004_BD4004    NaN       NaN    5Y0277\n",
       "4  BD0004  BD4004  BD0004_BD4004    NaN       NaN    BD4004"
      ]
     },
     "metadata": {},
     "output_type": "display_data"
    },
    {
     "name": "stdout",
     "output_type": "stream",
     "text": [
      "There are 2289 unique samples (by RRID) with both genotype and lipidomic data\n"
     ]
    }
   ],
   "source": [
    "fn_id_mapping = '/data100t1/home/wanying/CCHC/doc/samples_IDs/202211_merged_RNA_lipid_protein_genotype_mapping_and_availability.txt'\n",
    "df_id_mapping = pd.read_csv(fn_id_mapping, sep='\\t')\n",
    "display(df_id_mapping.head())\n",
    "df_keep = df_id_mapping[df_id_mapping['lipidomic'].notna() & df_id_mapping['genotype_ID'].notna()].copy()\n",
    "df_keep.drop_duplicates(subset='RRID', inplace=True)\n",
    "print(f'There are {len(df_keep)} unique samples (by RRID) with both genotype and lipidomic data')\n",
    "\n",
    "# Get genotype list fro original genotype file,\n",
    "# because bcftools need a list with sample order that reflects order in the input file \n",
    "count = 0\n",
    "with gzip.open('/vgipiper04/CCHC/TOPMed_postimpute_042022/chr22.dose.vcf.gz', 'rt') as fh:\n",
    "    while count != 20:\n",
    "        line = fh.readline()\n",
    "        count += 1\n",
    "# line = line.strip().split()[9:]\n",
    "df_gt_id = pd.DataFrame(line.strip().split()[9:], columns=['genotype_ID'])\n",
    "df_keep_merged = df_gt_id.merge(df_keep[['genotype_ID', 'lipidomic']], on='genotype_ID')\n",
    "\n",
    "# Save retained samples in a list for bcftools to extract\n",
    "fn_list_keep = '/data100t1/home/wanying/CCHC/lipidomics/input_docs/sample_list_for_bcftools.txt'\n",
    "if not os.path.isfile(fn_list_keep):\n",
    "    df_keep_merged[['genotype_ID']].to_csv(fn_list_keep, sep='\\t', index=False, header=False)\n",
    "else:\n",
    "    print(f'File already exist, skip saving: {fn_list_keep}')"
   ]
  },
  {
   "cell_type": "code",
   "execution_count": 46,
   "id": "c6028aef-82fd-46f9-b1ab-beb76d66d4ff",
   "metadata": {},
   "outputs": [
    {
     "name": "stdout",
     "output_type": "stream",
     "text": [
      "screen -dmS lip_chr1; screen -S lip_chr1 -X stuff \"./subset_vcfs.sh 1\\n\"\n",
      "screen -dmS lip_chr2; screen -S lip_chr2 -X stuff \"./subset_vcfs.sh 2\\n\"\n",
      "screen -dmS lip_chr3; screen -S lip_chr3 -X stuff \"./subset_vcfs.sh 3\\n\"\n",
      "screen -dmS lip_chr4; screen -S lip_chr4 -X stuff \"./subset_vcfs.sh 4\\n\"\n",
      "screen -dmS lip_chr5; screen -S lip_chr5 -X stuff \"./subset_vcfs.sh 5\\n\"\n",
      "screen -dmS lip_chr6; screen -S lip_chr6 -X stuff \"./subset_vcfs.sh 6\\n\"\n",
      "screen -dmS lip_chr7; screen -S lip_chr7 -X stuff \"./subset_vcfs.sh 7\\n\"\n",
      "screen -dmS lip_chr8; screen -S lip_chr8 -X stuff \"./subset_vcfs.sh 8\\n\"\n",
      "screen -dmS lip_chr9; screen -S lip_chr9 -X stuff \"./subset_vcfs.sh 9\\n\"\n",
      "screen -dmS lip_chr10; screen -S lip_chr10 -X stuff \"./subset_vcfs.sh 10\\n\"\n",
      "screen -dmS lip_chr11; screen -S lip_chr11 -X stuff \"./subset_vcfs.sh 11\\n\"\n",
      "screen -dmS lip_chr12; screen -S lip_chr12 -X stuff \"./subset_vcfs.sh 12\\n\"\n",
      "screen -dmS lip_chr13; screen -S lip_chr13 -X stuff \"./subset_vcfs.sh 13\\n\"\n",
      "screen -dmS lip_chr14; screen -S lip_chr14 -X stuff \"./subset_vcfs.sh 14\\n\"\n",
      "screen -dmS lip_chr15; screen -S lip_chr15 -X stuff \"./subset_vcfs.sh 15\\n\"\n",
      "screen -dmS lip_chr16; screen -S lip_chr16 -X stuff \"./subset_vcfs.sh 16\\n\"\n",
      "screen -dmS lip_chr17; screen -S lip_chr17 -X stuff \"./subset_vcfs.sh 17\\n\"\n",
      "screen -dmS lip_chr18; screen -S lip_chr18 -X stuff \"./subset_vcfs.sh 18\\n\"\n",
      "screen -dmS lip_chr19; screen -S lip_chr19 -X stuff \"./subset_vcfs.sh 19\\n\"\n",
      "screen -dmS lip_chr20; screen -S lip_chr20 -X stuff \"./subset_vcfs.sh 20\\n\"\n",
      "screen -dmS lip_chr21; screen -S lip_chr21 -X stuff \"./subset_vcfs.sh 21\\n\"\n",
      "screen -dmS lip_chr22; screen -S lip_chr22 -X stuff \"./subset_vcfs.sh 22\\n\"\n"
     ]
    }
   ],
   "source": [
    "for i in range(1, 23):\n",
    "    cmd = f'screen -dmS lip_chr{i}; screen -S lip_chr{i} -X stuff '\n",
    "    cmd += f'\"./subset_vcfs.sh {i}\\\\n\"'\n",
    "    print(cmd)"
   ]
  },
  {
   "cell_type": "code",
   "execution_count": null,
   "id": "6b5870de-1904-46d5-9f27-4f8ee118ceac",
   "metadata": {},
   "outputs": [],
   "source": [
    "'''\n",
    "%%bash\n",
    "# Run in terminal with above command\n",
    "chr_num=$1\n",
    "vcf=/vgipiper04/CCHC/TOPMed_postimpute_042022/chr${chr_num}.dose.vcf.gz\n",
    "retained_samples=/data100t1/home/wanying/CCHC/lipidomics/input_docs/sample_list_for_bcftools.txt\n",
    "output_fn=/data100t1/home/wanying/CCHC/lipidomics/input_docs/lipidomic_sample_vcfs/subset_chr${chr_num}.dose.vcf\n",
    "echo \"Processing chr${chr_num} with bcftools\"\n",
    "bcftools view -S ${retained_samples} -Ov ${vcf} > ${output_fn}\n",
    "\n",
    "echo \"bgzip file ${output_fn}\"\n",
    "bgzip ${output_fn}\n",
    "'''"
   ]
  },
  {
   "cell_type": "markdown",
   "id": "efb1d771-87fe-4a78-af05-2854d7d50291",
   "metadata": {},
   "source": [
    "# 2. Local ancestry imputaiton using RFmix2"
   ]
  },
  {
   "cell_type": "code",
   "execution_count": null,
   "id": "ec76e78b-fa4d-476e-80a8-913bebbaf968",
   "metadata": {},
   "outputs": [],
   "source": [
    "%%bash\n",
    "# Run in terminal\n",
    "chr_num=$1\n",
    "vcf=/data100t1/home/wanying/CCHC/lipidomics/input_docs/lipidomic_sample_vcfs/subset_chr${chr_num}.dose.vcf.gz\n",
    "reference=tba\n",
    "sample_map=tba\n",
    "genetic_map=tba\n",
    "output=/data100t1/home/wanying/CCHC/lipidomics/input_docs/rfmix_output/subset_chr${chr_num}.dose.vcf.gz\n",
    "rfmix=/data100t1/home/wanying/downloaded_tools/rfmix/rfmix\n",
    "\n",
    "${rfmix} -f ${vcf} \\\n",
    "-r ${reference} \\\n",
    "--chromosome=${chr_num} \\\n",
    "-m ${sample_map} \\\n",
    "-g ${genetic_map} \\\n",
    "-e 1 -n 5 -o cohort.rfmix.chr$i \\\n",
    "--n-threads 32\n"
   ]
  },
  {
   "cell_type": "markdown",
   "id": "ae6f386b-2a67-4af2-9b76-93c91d4a58d0",
   "metadata": {},
   "source": [
    "# 3. Tractor steps"
   ]
  },
  {
   "cell_type": "markdown",
   "id": "5d05cc9a-75a8-4841-9a1a-85b6585d0a74",
   "metadata": {},
   "source": [
    "## 3.0 Local ancestry imputation (to be redo)"
   ]
  },
  {
   "cell_type": "markdown",
   "id": "f639588e-7f52-4213-bea8-5a7a7f10af7d",
   "metadata": {
    "tags": []
   },
   "source": [
    "## 3.1 Recovering tracts (Optional)\n",
    "To fix switch error"
   ]
  },
  {
   "cell_type": "code",
   "execution_count": 3,
   "id": "ee90f9c5-98ec-4a1a-9d6c-26f4fd732ce7",
   "metadata": {},
   "outputs": [],
   "source": [
    "# RFmix imputed local ancestry: CCHC_rfmix_chr*.rfmix.Q \n",
    "rfmix_output_dir = '/vgipiper04/CCHC/local_ancestry/rfmix/CCHC_rfmix/output/'"
   ]
  },
  {
   "cell_type": "code",
   "execution_count": 47,
   "id": "e695e550-5635-4ed4-833d-6452dc0eb604",
   "metadata": {
    "collapsed": true,
    "jupyter": {
     "outputs_hidden": true
    },
    "tags": []
   },
   "outputs": [
    {
     "name": "stdout",
     "output_type": "stream",
     "text": [
      "CCHC_rfmix_chr10.fb.tsv   CCHC_rfmix_chr17.rfmix.Q  CCHC_rfmix_chr3.fb.tsv\n",
      "CCHC_rfmix_chr10.msp.tsv  CCHC_rfmix_chr17.sis.tsv  CCHC_rfmix_chr3.msp.tsv\n",
      "CCHC_rfmix_chr10.rfmix.Q  CCHC_rfmix_chr18.fb.tsv   CCHC_rfmix_chr3.rfmix.Q\n",
      "CCHC_rfmix_chr10.sis.tsv  CCHC_rfmix_chr18.msp.tsv  CCHC_rfmix_chr3.sis.tsv\n",
      "CCHC_rfmix_chr11.fb.tsv   CCHC_rfmix_chr18.rfmix.Q  CCHC_rfmix_chr4.fb.tsv\n",
      "CCHC_rfmix_chr11.msp.tsv  CCHC_rfmix_chr18.sis.tsv  CCHC_rfmix_chr4.msp.tsv\n",
      "CCHC_rfmix_chr11.rfmix.Q  CCHC_rfmix_chr19.fb.tsv   CCHC_rfmix_chr4.rfmix.Q\n",
      "CCHC_rfmix_chr11.sis.tsv  CCHC_rfmix_chr19.msp.tsv  CCHC_rfmix_chr4.sis.tsv\n",
      "CCHC_rfmix_chr12.fb.tsv   CCHC_rfmix_chr19.rfmix.Q  CCHC_rfmix_chr5.fb.tsv\n",
      "CCHC_rfmix_chr12.msp.tsv  CCHC_rfmix_chr19.sis.tsv  CCHC_rfmix_chr5.msp.tsv\n",
      "CCHC_rfmix_chr12.rfmix.Q  CCHC_rfmix_chr1.fb.tsv    CCHC_rfmix_chr5.rfmix.Q\n",
      "CCHC_rfmix_chr12.sis.tsv  CCHC_rfmix_chr1.msp.tsv   CCHC_rfmix_chr5.sis.tsv\n",
      "CCHC_rfmix_chr13.fb.tsv   CCHC_rfmix_chr1.rfmix.Q   CCHC_rfmix_chr6.fb.tsv\n",
      "CCHC_rfmix_chr13.msp.tsv  CCHC_rfmix_chr1.sis.tsv   CCHC_rfmix_chr6.msp.tsv\n",
      "CCHC_rfmix_chr13.rfmix.Q  CCHC_rfmix_chr20.fb.tsv   CCHC_rfmix_chr6.rfmix.Q\n",
      "CCHC_rfmix_chr13.sis.tsv  CCHC_rfmix_chr20.msp.tsv  CCHC_rfmix_chr6.sis.tsv\n",
      "CCHC_rfmix_chr14.fb.tsv   CCHC_rfmix_chr20.rfmix.Q  CCHC_rfmix_chr7.fb.tsv\n",
      "CCHC_rfmix_chr14.msp.tsv  CCHC_rfmix_chr20.sis.tsv  CCHC_rfmix_chr7.msp.tsv\n",
      "CCHC_rfmix_chr14.rfmix.Q  CCHC_rfmix_chr21.fb.tsv   CCHC_rfmix_chr7.rfmix.Q\n",
      "CCHC_rfmix_chr14.sis.tsv  CCHC_rfmix_chr21.msp.tsv  CCHC_rfmix_chr7.sis.tsv\n",
      "CCHC_rfmix_chr15.fb.tsv   CCHC_rfmix_chr21.rfmix.Q  CCHC_rfmix_chr8.fb.tsv\n",
      "CCHC_rfmix_chr15.msp.tsv  CCHC_rfmix_chr21.sis.tsv  CCHC_rfmix_chr8.msp.tsv\n",
      "CCHC_rfmix_chr15.rfmix.Q  CCHC_rfmix_chr22.fb.tsv   CCHC_rfmix_chr8.rfmix.Q\n",
      "CCHC_rfmix_chr15.sis.tsv  CCHC_rfmix_chr22.msp.tsv  CCHC_rfmix_chr8.sis.tsv\n",
      "CCHC_rfmix_chr16.fb.tsv   CCHC_rfmix_chr22.rfmix.Q  CCHC_rfmix_chr9.fb.tsv\n",
      "CCHC_rfmix_chr16.msp.tsv  CCHC_rfmix_chr22.sis.tsv  CCHC_rfmix_chr9.msp.tsv\n",
      "CCHC_rfmix_chr16.rfmix.Q  CCHC_rfmix_chr2.fb.tsv    CCHC_rfmix_chr9.rfmix.Q\n",
      "CCHC_rfmix_chr16.sis.tsv  CCHC_rfmix_chr2.msp.tsv   CCHC_rfmix_chr9.sis.tsv\n",
      "CCHC_rfmix_chr17.fb.tsv   CCHC_rfmix_chr2.rfmix.Q\n",
      "CCHC_rfmix_chr17.msp.tsv  CCHC_rfmix_chr2.sis.tsv\n"
     ]
    }
   ],
   "source": [
    "! ls /vgipiper04/CCHC/local_ancestry/rfmix/CCHC_rfmix/output/ | head -n"
   ]
  },
  {
   "cell_type": "markdown",
   "id": "5a4a5a43-f1db-4351-b9fa-e4b910b777ed",
   "metadata": {},
   "source": [
    "## 3.2 Extracting tracts and ancestral dosages"
   ]
  },
  {
   "cell_type": "code",
   "execution_count": null,
   "id": "dfc329b1-086d-4aa6-8818-ef0da0532b15",
   "metadata": {},
   "outputs": [],
   "source": [
    "%%bash\n",
    "# Run in terminal\n",
    "chr_num=$1\n",
    "tractor=/data100t1/home/wanying/downloaded_tools/Tractor/ExtractTracts.py\n",
    "MSP_FILE=/vgipiper04/CCHC/local_ancestry/rfmix/CCHC_rfmix/output/CCHC_rfmix_chr${chr_num}\n",
    "VCF_FILE=/vgipiper04/CCHC/TOPMed_postimpute_042022/chr${chr_num}.dose\n",
    "output_dir=/data100t1/home/wanying/CCHC/lipidomics/output/snp_la_dosage/\n",
    "\n",
    "python ${tractor} \\\n",
    "--msp ${MSP_FILE} \\\n",
    "--vcf ${VCF_FILE} \\\n",
    "--output-path ${output_dir} \\\n",
    "--num-ancs 4\n"
   ]
  },
  {
   "cell_type": "code",
   "execution_count": null,
   "id": "25663ee4-a805-4121-874a-856caadd30a5",
   "metadata": {},
   "outputs": [],
   "source": [
    "for i in range(1, 23):\n",
    "    cmd = f'screen -dmS lip_chr{i}; screen -S lip_chr{i} -X stuff '\n",
    "    cmd += f'\"./step2_extract_tracts.sh {i}\\\\n\"'\n",
    "    print(cmd)"
   ]
  }
 ],
 "metadata": {
  "kernelspec": {
   "display_name": "Python 3",
   "language": "python",
   "name": "python3"
  },
  "language_info": {
   "codemirror_mode": {
    "name": "ipython",
    "version": 3
   },
   "file_extension": ".py",
   "mimetype": "text/x-python",
   "name": "python",
   "nbconvert_exporter": "python",
   "pygments_lexer": "ipython3",
   "version": "3.9.7"
  }
 },
 "nbformat": 4,
 "nbformat_minor": 5
}
