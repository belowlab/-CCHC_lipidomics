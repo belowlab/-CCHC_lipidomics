{
 "cells": [
  {
   "cell_type": "markdown",
   "id": "5805549b-b4b9-4ab1-909c-7c65ff05280e",
   "metadata": {},
   "source": [
    "## Rerun heritability estimation\n",
    "\n",
    "(2023/08/31)\n",
    "\n",
    "* Genome wide heritability estimation might not be suitable when comparing prediction model performance (R2). Try to redo heritability estimation using SNPs with GWAS pval<1e-3 (the same threshold as in prediction model training)\n",
    "\n",
    "\n",
    "* The Predixcan paper did similar thing:\n",
    "```\n",
    "We estimated the heritability of gene expression in DGN attributable to SNPs in the vicinity of each gene using a mixed-effects model\n",
    "```\n",
    "\n",
    "\n",
    "* Reference paper:\n",
    "\n",
    "    Torres JM, Gamazon ER, Parra EJ, Below JE, Valladares-Salgado A, Wacher N, Cruz M, Hanis CL, Cox NJ. Cross-tissue and tissue-specific eQTLs: partitioning the heritability of a complex trait. Am J Hum Genet. 2014 Nov 6;95(5):521-34. doi: 10.1016/j.ajhg.2014.10.001. Epub 2014 Oct 30. PMID: 25439722; PMCID: PMC4225593.\n",
    "\n",
    "* GCTA accepts ```--extract ``` option to specify a list of SNPs to be included in the analysis."
   ]
  },
  {
   "cell_type": "code",
   "execution_count": 50,
   "id": "baa18513-f4bf-40e5-ba64-a13794d0650c",
   "metadata": {},
   "outputs": [
    {
     "name": "stdout",
     "output_type": "stream",
     "text": [
      "Last run: 2023-08-31\n"
     ]
    }
   ],
   "source": [
    "import pandas as pd\n",
    "import os\n",
    "import re\n",
    "import numpy as np\n",
    "import matplotlib.pyplot as plt\n",
    "import datetime\n",
    "print('Last run:', datetime.datetime.now().strftime('%Y-%m-%d'))\n"
   ]
  },
  {
   "cell_type": "markdown",
   "id": "74254ed0-b751-451c-a685-12cde5edb392",
   "metadata": {},
   "source": [
    "## 1. Re-run heritability estimation"
   ]
  },
  {
   "cell_type": "code",
   "execution_count": 14,
   "id": "dae06890-53bf-4bd3-9bd1-a1c90ce2c36f",
   "metadata": {},
   "outputs": [],
   "source": [
    "df = pd.read_csv(os.path.join(input_dir, 'all_SNPs_combined_no_dup_no_multiallelic_species.txt'), sep='\\t')\n",
    "df[['SNP']].to_csv(os.path.join(output_dir, f'all_SNPs_combined_no_dup_no_multiallelic_species.snplist'), sep='\\t', index=False, header=False)"
   ]
  },
  {
   "cell_type": "code",
   "execution_count": 10,
   "id": "38ff6a7e-7532-47aa-bef9-9de698f666a6",
   "metadata": {},
   "outputs": [
    {
     "name": "stdout",
     "output_type": "stream",
     "text": [
      "# Processing 830/830  # Done\n"
     ]
    }
   ],
   "source": [
    "# Create *.snplist for each lipid species, filter by GWAS pval<1e-3\n",
    "# Ignore file \"all_SNPs_combined_no_dup_no_multiallelic_species.txt\" in the input directory\n",
    "input_dir = '/data100t1/home/wanying/CCHC/lipidomics/output/traininig_set_lipid_species_GWAS/adj_for_sex_age_pval_1e-3'\n",
    "output_dir = '/data100t1/home/wanying/CCHC/lipidomics/output/traininig_set_lipid_species_GWAS/heritability_by_GREML_species_subset_SNP_pval_1e-3'\n",
    "\n",
    "count = 0\n",
    "for fn in os.listdir(input_dir):\n",
    "    if fn != 'all_SNPs_combined_no_dup_no_multiallelic_species.txt':\n",
    "        lipid = fn.split('_SNPs_pval_0.001.txt')[0]\n",
    "        df = pd.read_csv(os.path.join(input_dir, fn), sep='\\t')\n",
    "        df[['SNP']].to_csv(os.path.join(output_dir, f'{lipid}.snplist'), sep='\\t', index=False, header=False)\n",
    "        count += 1\n",
    "        print(f'\\r# Processing {count}/830  ', flush=True, end='')\n",
    "print('\\n# Done')"
   ]
  },
  {
   "cell_type": "markdown",
   "id": "e242e26f-aa3c-49e1-b1d8-0742b5224f22",
   "metadata": {},
   "source": [
    "Heritability estimation in family data:\n",
    "\n",
    "\n",
    "Reference:\n",
    "https://yanglab.westlake.edu.cn/software/gcta/#GREMLinfamilydata"
   ]
  },
  {
   "cell_type": "code",
   "execution_count": 12,
   "id": "3f418975-cd74-45f5-a70a-2ba9804227e6",
   "metadata": {},
   "outputs": [
    {
     "name": "stdout",
     "output_type": "stream",
     "text": [
      "Process is interrupted.\n"
     ]
    }
   ],
   "source": [
    "%%bash\n",
    "# Estimate heritability using filtered SNPs only.\n",
    "# Execute the script in terminal\n",
    "\n",
    "# example run: ./heritability_estimation_GREML_train_set_only.sh Sph-d18:1-\n",
    "\n",
    "lipid=$1\n",
    "lip_type='species'\n",
    "output_dir=/data100t1/home/wanying/CCHC/lipidomics/output/traininig_set_lipid_species_GWAS/heritability_by_GREML_species_subset_SNP_pval_1e-3\n",
    "\n",
    "out=${output_dir}/${lipid}\n",
    "pheno=/data100t1/home/wanying/CCHC/lipidomics/input_docs/pheno_covar_files/lipid_${lip_type}_pheno/${lipid}.pheno\n",
    "qcovar=/data100t1/home/wanying/CCHC/lipidomics/input_docs/pheno_covar_files/AGE_AT_VISIT-PC1-PC2-PC3-PC4-PC5.qcovar\n",
    "covar=/data100t1/home/wanying/CCHC/lipidomics/input_docs/pheno_covar_files/GENDER.covar\n",
    "# grm=/data100t1/home/wanying/CCHC/lipidomics/input_docs/lipidomic_GRM/lipidomic_grm\n",
    "grm=/data100t1/home/wanying/CCHC/lipidomics/output/traininig_set_lipid_species_GWAS/heritability_by_GREML_species_subset_SNP_pval_1e-3/grm/all_SNPs_combined_no_dup_no_multiallelic_species\n",
    "snp_list=${output_dir}/${lipid}.snplist\n",
    "\n",
    "# Making a GRM from subset of SNPs in a family data set\n",
    "# Use *.snplist to only use a subset of SNPs\n",
    "gcta64 --mbfile /data100t1/home/wanying/CCHC/lipidomics/input_docs/lipidomic_sample_plink_imputed/plink_files.txt \\\n",
    "--extract ${snp_list} \\\n",
    "--make-grm \\\n",
    "--out ${out}\n",
    "\n",
    "# Creating an additional GRM from the GRM above (setting the off-diagonals that are < 0.05 to 0)\n",
    "gcta64 --grm ${out} --make-bK 0.05 --out ${out}_bK\n",
    "\n",
    "# Run a REML analysis on training set only, use test.indi.list to specify\n",
    "# This step ignore --extract flag\n",
    "gcta64 --reml \\\n",
    "--keep /data100t1/home/wanying/CCHC/lipidomics/input_docs/lipidomic_sample_vcfs/training_max_unrelated_sampels_3rd_degree/max_unrelated_set.indi.list \\\n",
    "--grm ${grm} \\\n",
    "--pheno ${pheno} \\\n",
    "--covar ${covar} \\\n",
    "--qcovar ${qcovar} \\\n",
    "--thread-num 32 \\\n",
    "--out ${out}"
   ]
  },
  {
   "cell_type": "code",
   "execution_count": 27,
   "id": "00fb35b5-0296-4ce8-8838-3a72e690801a",
   "metadata": {},
   "outputs": [
    {
     "name": "stdout",
     "output_type": "stream",
     "text": [
      "# Processing 829/830"
     ]
    }
   ],
   "source": [
    "# Create commands to run in terminal using subset of SNPs from all lipid species GWAS with pval <10-3\n",
    "\n",
    "# screen -dmS chr22; screen -S chr22 -X stuff \"plink2 --vcf ../subset_chr22.dose.vcf.gz 'dosage'=DS --out subset_chr22;exit\\n\"\n",
    "fn_output_cmd = 'heritability_subset_SNPs.txt'\n",
    "count = 0\n",
    "\n",
    "fh_output_cmd = open(fn_output_cmd, 'w')\n",
    "\n",
    "for fn in os.listdir(output_dir):\n",
    "    if ('.snplist' in fn) and fn!='all_SNPs_combined_no_dup_no_multiallelic_species.snplist':\n",
    "        lipid = fn.split('.snplist')[0]\n",
    "        \n",
    "        cmd = f'/data100t1/home/wanying/CCHC/lipidomics/code/heritability_estimation_GREML_subset_SNPs.sh {lipid}'\n",
    "        cmd = f'screen -dmS {lipid}; screen -S {lipid} -X stuff \"{cmd};exit\\\\n\"'\n",
    "        fh_output_cmd.write(cmd+'\\n')\n",
    "        count += 1\n",
    "        print(f'\\r# Processing {count}/830', flush=True, end='')\n",
    "    # break\n",
    "fh_output_cmd.close()"
   ]
  },
  {
   "cell_type": "markdown",
   "id": "77f6b2bd-2dab-432f-ad3b-589f4e74b455",
   "metadata": {},
   "source": [
    "## 2. Merge result into one file\n",
    "\n",
    "Result looks wrong, haha...."
   ]
  },
  {
   "cell_type": "code",
   "execution_count": 44,
   "id": "b5e09879-5392-4ac6-b960-29bdbb37d700",
   "metadata": {},
   "outputs": [],
   "source": [
    "# Save heritabilities and plot\n",
    "def get_heritability(path):\n",
    "    '''\n",
    "    Param:\n",
    "    - path: path to heritability estimation results\n",
    "    '''\n",
    "    dict_heritability = {}\n",
    "    pattern = r'V\\(G\\)\\/Vp\\s+\\d+\\.\\d+\\s+\\d+\\.\\d+'\n",
    "    count = 0\n",
    "    for fn in os.listdir(path):\n",
    "        if fn.endswith('.hsq'):\n",
    "            lip = fn.split('.hsq')[0]\n",
    "            with open(os.path.join(path, fn)) as fh:\n",
    "                file_content = fh.read()\n",
    "                match = re.search(pattern, file_content)\n",
    "                if match: # if match is not none, ie. find something\n",
    "                    heritability = float(match.group(0).split()[-2])\n",
    "                    se = float(match.group(0).split()[-1]) # STD\n",
    "                    if not dict_heritability.get(lip):\n",
    "                        dict_heritability[lip] = [heritability, se]\n",
    "            count += 1\n",
    "            print(f'\\r# Processed: {count}', flush=True, end='')\n",
    "    return dict_heritability"
   ]
  },
  {
   "cell_type": "code",
   "execution_count": 45,
   "id": "79989d66-5935-48ed-8f40-1c54074a84ff",
   "metadata": {},
   "outputs": [
    {
     "name": "stdout",
     "output_type": "stream",
     "text": [
      "# Processed: 829"
     ]
    }
   ],
   "source": [
    "heritability_dir = '/data100t1/home/wanying/CCHC/lipidomics/output/traininig_set_lipid_species_GWAS/heritability_by_GREML_species_subset_SNP_pval_1e-3'\n",
    "h2_dict = get_heritability(heritability_dir)"
   ]
  },
  {
   "cell_type": "code",
   "execution_count": 57,
   "id": "2867e878-7a63-44b2-af38-e6e8f5562662",
   "metadata": {},
   "outputs": [
    {
     "data": {
      "text/html": [
       "<div>\n",
       "<style scoped>\n",
       "    .dataframe tbody tr th:only-of-type {\n",
       "        vertical-align: middle;\n",
       "    }\n",
       "\n",
       "    .dataframe tbody tr th {\n",
       "        vertical-align: top;\n",
       "    }\n",
       "\n",
       "    .dataframe thead th {\n",
       "        text-align: right;\n",
       "    }\n",
       "</style>\n",
       "<table border=\"1\" class=\"dataframe\">\n",
       "  <thead>\n",
       "    <tr style=\"text-align: right;\">\n",
       "      <th></th>\n",
       "      <th>h2</th>\n",
       "      <th>SE</th>\n",
       "    </tr>\n",
       "  </thead>\n",
       "  <tbody>\n",
       "    <tr>\n",
       "      <th>CE-18:2-</th>\n",
       "      <td>0.999999</td>\n",
       "      <td>0.062549</td>\n",
       "    </tr>\n",
       "    <tr>\n",
       "      <th>SM-d18:1-24:0-</th>\n",
       "      <td>0.999999</td>\n",
       "      <td>0.062067</td>\n",
       "    </tr>\n",
       "    <tr>\n",
       "      <th>TG-48:2-_[SIM]</th>\n",
       "      <td>0.999999</td>\n",
       "      <td>0.068574</td>\n",
       "    </tr>\n",
       "    <tr>\n",
       "      <th>LPC-20:0-_[sn2]</th>\n",
       "      <td>0.999999</td>\n",
       "      <td>0.065055</td>\n",
       "    </tr>\n",
       "    <tr>\n",
       "      <th>PI-16:0_20:4-</th>\n",
       "      <td>0.999999</td>\n",
       "      <td>0.063471</td>\n",
       "    </tr>\n",
       "    <tr>\n",
       "      <th>LPC-O-20:0-</th>\n",
       "      <td>0.999999</td>\n",
       "      <td>0.065262</td>\n",
       "    </tr>\n",
       "    <tr>\n",
       "      <th>TG-O-52:1-_[NL-16:0]</th>\n",
       "      <td>0.999999</td>\n",
       "      <td>0.062631</td>\n",
       "    </tr>\n",
       "    <tr>\n",
       "      <th>PI-18:0_22:6-</th>\n",
       "      <td>0.999999</td>\n",
       "      <td>0.063810</td>\n",
       "    </tr>\n",
       "    <tr>\n",
       "      <th>PI-18:0_22:5-_-n3-</th>\n",
       "      <td>0.999999</td>\n",
       "      <td>0.062019</td>\n",
       "    </tr>\n",
       "    <tr>\n",
       "      <th>TG-54:7-_[NL-22:6]</th>\n",
       "      <td>0.999999</td>\n",
       "      <td>0.069203</td>\n",
       "    </tr>\n",
       "  </tbody>\n",
       "</table>\n",
       "</div>"
      ],
      "text/plain": [
       "                            h2        SE\n",
       "CE-18:2-              0.999999  0.062549\n",
       "SM-d18:1-24:0-        0.999999  0.062067\n",
       "TG-48:2-_[SIM]        0.999999  0.068574\n",
       "LPC-20:0-_[sn2]       0.999999  0.065055\n",
       "PI-16:0_20:4-         0.999999  0.063471\n",
       "LPC-O-20:0-           0.999999  0.065262\n",
       "TG-O-52:1-_[NL-16:0]  0.999999  0.062631\n",
       "PI-18:0_22:6-         0.999999  0.063810\n",
       "PI-18:0_22:5-_-n3-    0.999999  0.062019\n",
       "TG-54:7-_[NL-22:6]    0.999999  0.069203"
      ]
     },
     "execution_count": 57,
     "metadata": {},
     "output_type": "execute_result"
    }
   ],
   "source": [
    "df_h2 = pd.DataFrame(h2_dict).T.rename(columns={0:'h2', 1:'SE'}).sort_values(by='h2', ascending=False)\n",
    "df_h2.head(10)"
   ]
  },
  {
   "cell_type": "code",
   "execution_count": 58,
   "id": "8981b348-7129-4d1d-8ec2-5afdfbaf590a",
   "metadata": {},
   "outputs": [
    {
     "data": {
      "text/plain": [
       "[<matplotlib.lines.Line2D at 0x7f5211f38dc0>]"
      ]
     },
     "execution_count": 58,
     "metadata": {},
     "output_type": "execute_result"
    },
    {
     "data": {
      "image/png": "[encoded data removed]",
      "text/plain": [
       "<Figure size 576x360 with 1 Axes>"
      ]
     },
     "metadata": {
      "needs_background": "light"
     },
     "output_type": "display_data"
    }
   ],
   "source": [
    "fig, ax = plt.subplots(figsize=(10, 5))\n",
    "ax.plot(range(len(df_h2)), df_h2['h2'], ls='', marker='.')"
   ]
  },
  {
   "cell_type": "code",
   "execution_count": null,
   "id": "b0b69213-f3bf-4eaa-8335-bc21c3e96d76",
   "metadata": {},
   "outputs": [],
   "source": []
  }
 ],
 "metadata": {
  "kernelspec": {
   "display_name": "Python 3",
   "language": "python",
   "name": "python3"
  },
  "language_info": {
   "codemirror_mode": {
    "name": "ipython",
    "version": 3
   },
   "file_extension": ".py",
   "mimetype": "text/x-python",
   "name": "python",
   "nbconvert_exporter": "python",
   "pygments_lexer": "ipython3",
   "version": "3.9.7"
  }
 },
 "nbformat": 4,
 "nbformat_minor": 5
}
