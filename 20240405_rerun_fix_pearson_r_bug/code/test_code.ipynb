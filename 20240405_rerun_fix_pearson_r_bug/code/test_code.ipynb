{
 "cells": [
  {
   "cell_type": "markdown",
   "id": "f21f4b36-6ceb-471f-bee6-c95da97e74a4",
   "metadata": {},
   "source": [
    "Test other .py code"
   ]
  },
  {
   "cell_type": "code",
   "execution_count": 11,
   "id": "2c66d6b1-7bc1-499c-8f1c-b9da27e12d95",
   "metadata": {},
   "outputs": [],
   "source": [
    "import pandas as pd\n",
    "import numpy as np\n",
    "import matplotlib.pyplot as plt\n",
    "import os\n",
    "import logging\n",
    "# import sys\n",
    "import subprocess\n",
    "logging.basicConfig(level=logging.DEBUG)\n",
    "\n",
    "# from setup_logger import setup_log\n",
    "# setup_log('test.log', mode='w')\n",
    "\n",
    "# Test get dosage\n",
    "from load_dosage import get_dosage_of_snps_from_file, get_dosage_matrix"
   ]
  },
  {
   "cell_type": "markdown",
   "id": "c58e4986-7055-4e58-9d50-7a1e7ca351fc",
   "metadata": {},
   "source": [
    "## 1. Test load_dosage.py (done)"
   ]
  },
  {
   "cell_type": "code",
   "execution_count": 23,
   "id": "dff985a2-9e24-4eef-9695-3908df8e2157",
   "metadata": {},
   "outputs": [
    {
     "name": "stderr",
     "output_type": "stream",
     "text": [
      "# - Getting dosage from chr1: 100%|███████████████████████████████████████████████████████████████████████████████████| 4/4 [00:00<00:00,  5.56it/s]\n",
      "root - INFO - # CHRchr1: Number of multiallelic sites dropped=0; Number of SNPs not found=0\n",
      "# - Getting dosage from chr2: 100%|███████████████████████████████████████████████████████████████████████████████████| 2/2 [00:00<00:00,  4.59it/s]\n",
      "root - INFO - # CHRchr2: Number of multiallelic sites dropped=0; Number of SNPs not found=0\n",
      "# - Getting dosage from chr4: 100%|█████████████████████████████████████████████████████████████████████████████████| 12/12 [00:01<00:00, 11.53it/s]\n",
      "root - INFO - # CHRchr4: Number of multiallelic sites dropped=0; Number of SNPs not found=0\n",
      "# - Getting dosage from chr5: 100%|█████████████████████████████████████████████████████████████████████████████████| 81/81 [00:05<00:00, 15.55it/s]\n",
      "root - INFO - # CHRchr5: Number of multiallelic sites dropped=3; Number of SNPs not found=0\n",
      "# - Getting dosage from chr6: 100%|███████████████████████████████████████████████████████████████████████████████████| 1/1 [00:00<00:00,  4.08it/s]\n",
      "root - INFO - # CHRchr6: Number of multiallelic sites dropped=0; Number of SNPs not found=0\n",
      "# - Getting dosage from chr7: 100%|███████████████████████████████████████████████████████████████████████████████████| 1/1 [00:00<00:00,  3.75it/s]\n",
      "root - INFO - # CHRchr7: Number of multiallelic sites dropped=0; Number of SNPs not found=0\n",
      "# - Getting dosage from chr9: 100%|███████████████████████████████████████████████████████████████████████████████████| 5/5 [00:00<00:00,  6.96it/s]\n",
      "root - INFO - # CHRchr9: Number of multiallelic sites dropped=0; Number of SNPs not found=0\n",
      "# - Getting dosage from chr10: 100%|██████████████████████████████████████████████████████████████████████████████████| 4/4 [00:00<00:00,  5.45it/s]\n",
      "root - INFO - # CHRchr10: Number of multiallelic sites dropped=0; Number of SNPs not found=0\n",
      "# - Getting dosage from chr12: 100%|██████████████████████████████████████████████████████████████████████████████████| 1/1 [00:00<00:00,  3.49it/s]\n",
      "root - INFO - # CHRchr12: Number of multiallelic sites dropped=0; Number of SNPs not found=0\n",
      "# - Getting dosage from chr14: 100%|██████████████████████████████████████████████████████████████████████████████████| 2/2 [00:00<00:00,  6.28it/s]\n",
      "root - INFO - # CHRchr14: Number of multiallelic sites dropped=0; Number of SNPs not found=0\n",
      "# - Getting dosage from chr15: 100%|██████████████████████████████████████████████████████████████████████████████████| 4/4 [00:00<00:00,  8.22it/s]\n",
      "root - INFO - # CHRchr15: Number of multiallelic sites dropped=0; Number of SNPs not found=0\n",
      "# - Getting dosage from chr16: 100%|██████████████████████████████████████████████████████████████████████████████████| 1/1 [00:00<00:00,  3.38it/s]\n",
      "root - INFO - # CHRchr16: Number of multiallelic sites dropped=0; Number of SNPs not found=0\n",
      "# - Getting dosage from chr17: 100%|██████████████████████████████████████████████████████████████████████████████████| 1/1 [00:00<00:00,  5.13it/s]\n",
      "root - INFO - # CHRchr17: Number of multiallelic sites dropped=0; Number of SNPs not found=0\n",
      "# - Getting dosage from chr19: 100%|████████████████████████████████████████████████████████████████████████████████| 19/19 [00:01<00:00, 13.02it/s]\n",
      "root - INFO - # CHRchr19: Number of multiallelic sites dropped=0; Number of SNPs not found=0\n",
      "# - Getting dosage from chr20: 100%|██████████████████████████████████████████████████████████████████████████████████| 6/6 [00:00<00:00,  8.55it/s]\n",
      "root - INFO - # CHRchr20: Number of multiallelic sites dropped=0; Number of SNPs not found=0\n",
      "# - Getting dosage from chr22: 100%|██████████████████████████████████████████████████████████████████████████████████| 1/1 [00:00<00:00,  3.29it/s]\n",
      "root - INFO - # CHRchr22: Number of multiallelic sites dropped=0; Number of SNPs not found=0\n"
     ]
    }
   ],
   "source": [
    "# Test get dosage\n",
    "vcf_path = '/data100t1/home/wanying/CCHC/lipidomics/input_docs/lipidomic_sample_vcfs/202312_redo_training_vcfs'\n",
    "vcf_fn = 'max_unrelated_set_chr*.vcf.gz'\n",
    "snp_fn = '/data100t1/home/wanying/CCHC/lipidomics/20231211_rerun/outputs/fastGWA/lipid_class_filter_by_pval_1e-05_maf_0.01/AC-OH_SNPs.pval_1e-05.maf_0.01.txt'\n",
    "df_dosage = get_dosage_of_snps_from_file(vcf_path, vcf_fn, snp_fn, chr_col='CHR', pos_col='POS', drop_multiallelic=True)"
   ]
  },
  {
   "cell_type": "code",
   "execution_count": 2,
   "id": "e67aed0f-537a-4ee6-b8f5-96797dc4b329",
   "metadata": {
    "collapsed": true,
    "jupyter": {
     "outputs_hidden": true
    },
    "tags": []
   },
   "outputs": [
    {
     "name": "stderr",
     "output_type": "stream",
     "text": [
      "# - Getting dosage from chr1: 100%|███████████████████████████████████████████████████████████████████████████████████| 9/9 [00:00<00:00, 41.24it/s]\n",
      "# - Getting dosage from chr2: 100%|█████████████████████████████████████████████████████████████████████████████████| 11/11 [00:00<00:00, 46.49it/s]\n",
      "# - Getting dosage from chr3: 100%|█████████████████████████████████████████████████████████████████████████████████| 16/16 [00:00<00:00, 44.43it/s]\n",
      "# - Getting dosage from chr4: 100%|███████████████████████████████████████████████████████████████████████████████████| 4/4 [00:00<00:00, 62.19it/s]\n",
      "# - Getting dosage from chr5: 100%|█████████████████████████████████████████████████████████████████████████████████| 35/35 [00:00<00:00, 42.09it/s]\n",
      "# - Getting dosage from chr6: 100%|█████████████████████████████████████████████████████████████████████████████████| 12/12 [00:00<00:00, 43.36it/s]\n",
      "# - Getting dosage from chr7: 100%|███████████████████████████████████████████████████████████████████████████████████| 4/4 [00:00<00:00, 35.72it/s]\n",
      "# - Getting dosage from chr8: 100%|███████████████████████████████████████████████████████████████████████████████████| 9/9 [00:00<00:00, 33.24it/s]\n",
      "# - Getting dosage from chr9: 100%|█████████████████████████████████████████████████████████████████████████████████| 11/11 [00:00<00:00, 45.32it/s]\n",
      "# - Getting dosage from chr10: 100%|████████████████████████████████████████████████████████████████████████████████| 13/13 [00:00<00:00, 44.49it/s]\n",
      "# - Getting dosage from chr11: 100%|████████████████████████████████████████████████████████████████████████████| 2498/2498 [01:15<00:00, 33.26it/s]\n",
      "# - Getting dosage from chr12: 100%|██████████████████████████████████████████████████████████████████████████████████| 3/3 [00:00<00:00,  5.96it/s]\n",
      "# - Getting dosage from chr13: 100%|██████████████████████████████████████████████████████████████████████████████████| 4/4 [00:00<00:00,  7.04it/s]\n",
      "# - Getting dosage from chr14: 100%|██████████████████████████████████████████████████████████████████████████████████| 9/9 [00:00<00:00, 11.13it/s]\n",
      "# - Getting dosage from chr15: 100%|██████████████████████████████████████████████████████████████████████████████████| 7/7 [00:00<00:00, 10.29it/s]\n",
      "# - Getting dosage from chr16: 100%|██████████████████████████████████████████████████████████████████████████████████| 1/1 [00:00<00:00,  5.08it/s]\n",
      "# - Getting dosage from chr17: 100%|██████████████████████████████████████████████████████████████████████████████████| 6/6 [00:00<00:00,  8.41it/s]\n",
      "# - Getting dosage from chr18: 100%|██████████████████████████████████████████████████████████████████████████████████| 2/2 [00:00<00:00,  6.24it/s]\n",
      "# - Getting dosage from chr19: 100%|██████████████████████████████████████████████████████████████████████████████████| 1/1 [00:00<00:00,  4.25it/s]\n",
      "# - Getting dosage from chr20: 100%|██████████████████████████████████████████████████████████████████████████████████| 2/2 [00:00<00:00,  6.16it/s]\n",
      "# - Getting dosage from chr22: 100%|██████████████████████████████████████████████████████████████████████████████████| 1/1 [00:00<00:00,  4.37it/s]\n"
     ]
    }
   ],
   "source": [
    "d = get_dosage_of_snps_from_file('/data100t1/home/wanying/CCHC/lipidomics/20231211_rerun/inputs/genotype_dosage/train/lipid_species',\n",
    "                             'lipid_species_chr*.pval_0.001_maf_0.05.vcf.gz',\n",
    "                             '/data100t1/home/wanying/CCHC/lipidomics/20231211_rerun/outputs/fastGWA/lipid_species_filter_by_pval_1e-05/PC-44:5-_SNPs.pval_1e-05.txt',\n",
    "                             chr_col='CHR', pos_col='POS', drop_multiallelic=True)\n"
   ]
  },
  {
   "cell_type": "markdown",
   "id": "e19d3e1e-32e8-4f48-8c4a-d5a721850806",
   "metadata": {},
   "source": [
    "# 2. Create commands to run all traits"
   ]
  },
  {
   "cell_type": "code",
   "execution_count": null,
   "id": "fbf3b5e5-e7c8-4aa8-a850-ff628de5bd45",
   "metadata": {},
   "outputs": [],
   "source": [
    "'''\n",
    "lip_type=species\n",
    "lipid=\"PC(28:0)\"\n",
    "python run_ml_model.py \\\n",
    "--output_prefix \"${lipid}\" \\\n",
    "--output_dir /data100t1/home/wanying/CCHC/lipidomics/20240405_rerun_fix_pearson_r_bug/output/${lip_type} \\\n",
    "--train_vcf_path /data100t1/home/wanying/CCHC/lipidomics/20231211_rerun/inputs/genotype_dosage/train/lipid_${lip_type} \\\n",
    "--train_vcf_fn lipid_${lip_type}_chr*.pval_0.001_maf_0.05.vcf.gz \\\n",
    "--test_vcf_path /data100t1/home/wanying/CCHC/lipidomics/20231211_rerun/inputs/genotype_dosage/test/lipid_${lip_type} \\\n",
    "--test_vcf_fn lipid_${lip_type}_chr*.pval_0.001_maf_0.05.test.vcf.gz \\\n",
    "--snp_fn /data100t1/home/wanying/CCHC/lipidomics/20231211_rerun/outputs/fastGWA/lipid_species_filter_by_pval_1e-05/PC-28:0-_SNPs.pval_1e-05.txt \\\n",
    "--trait_name ${lipid} \\\n",
    "--trait_fn /data100t1/home/wanying/CCHC/lipidomics/20231211_rerun/inputs/lipid_trait/lipid_${lip_type}_ID_matched.no_dup.residual.all.txt \\\n",
    "--n_alphas 100 \\\n",
    "--drop_multiallelic True \\\n",
    "--reg_type elastic_net \\\n",
    "--id_col genotype_id\n",
    "'''"
   ]
  },
  {
   "cell_type": "code",
   "execution_count": 13,
   "id": "728114dd-100d-40a9-8829-3890114939d7",
   "metadata": {},
   "outputs": [],
   "source": [
    "# Load lipid species to run\n",
    "lip_fn = '/data100t1/home/wanying/CCHC/lipidomics/20231211_rerun/inputs/lipid_trait/lipid_species.list'\n",
    "df_lip = pd.read_csv(lip_fn, sep='\\t', header=None)\n",
    "lip_type = 'species'\n",
    "path_code = '/data100t1/home/wanying/CCHC/lipidomics/20240405_rerun_fix_pearson_r_bug/code'\n",
    "fh = open('./slurm/lip_species.txt', 'w')\n",
    "\n",
    "for lip in df_lip[0]:\n",
    "    if '/' in lip: prefix = lip.replace('/', '_') # To avoid / in output file name\n",
    "    else: prefix = lip\n",
    "        \n",
    "    modified_lip_name = lip.replace('/', '-').replace('(','-').replace(')','-').replace(' ','_') # Replace special character\n",
    "    cmd = f'lip_type=species;lipid=\"{lip}\";python {path_code}/run_ml_model.py '\n",
    "    cmd += f'--output_prefix \"{prefix}\" '\n",
    "    cmd += '--output_dir /data100t1/home/wanying/CCHC/lipidomics/20240405_rerun_fix_pearson_r_bug/output/${lip_type} '\n",
    "    cmd += '--train_vcf_path /data100t1/home/wanying/CCHC/lipidomics/20231211_rerun/inputs/genotype_dosage/train/lipid_${lip_type} '\n",
    "    cmd += '--train_vcf_fn lipid_${lip_type}_chr*.pval_0.001_maf_0.05.vcf.gz '\n",
    "    cmd += '--test_vcf_path /data100t1/home/wanying/CCHC/lipidomics/20231211_rerun/inputs/genotype_dosage/test/lipid_${lip_type} '\n",
    "    cmd += '--test_vcf_fn lipid_${lip_type}_chr*.pval_0.001_maf_0.05.test.vcf.gz '\n",
    "    cmd += f'--snp_fn /data100t1/home/wanying/CCHC/lipidomics/20231211_rerun/outputs/fastGWA/lipid_species_filter_by_pval_1e-05/{modified_lip_name}_SNPs.pval_1e-05.txt '\n",
    "    cmd += '--trait_name \"${lipid}\" '\n",
    "    cmd += '--trait_fn /data100t1/home/wanying/CCHC/lipidomics/20231211_rerun/inputs/lipid_trait/lipid_${lip_type}_ID_matched.no_dup.residual.all.txt '\n",
    "    cmd += '--n_alphas 100 --drop_multiallelic True --reg_type elastic_net --id_col genotype_id --overwrite False'\n",
    "    fh.write(cmd+'\\n')\n",
    "fh.close()"
   ]
  },
  {
   "cell_type": "code",
   "execution_count": 19,
   "id": "193be7e5-5706-41bf-8ebd-66165d9281e6",
   "metadata": {},
   "outputs": [],
   "source": [
    "# Load lipid class to run\n",
    "lip_fn = '/data100t1/home/wanying/CCHC/lipidomics/20231211_rerun/inputs/lipid_trait/lipid_class.list'\n",
    "df_lip = pd.read_csv(lip_fn, sep='\\t', header=None)\n",
    "lip_type = 'class'\n",
    "path_code = '/data100t1/home/wanying/CCHC/lipidomics/20240405_rerun_fix_pearson_r_bug/code'\n",
    "fh = open('./slurm/lip_class.txt', 'w')\n",
    "\n",
    "for lip in df_lip[0]:\n",
    "    modified_lip_name = lip.replace('/', '-').replace('(','-').replace(')','-').replace(' ','_') # Replace special character\n",
    "    cmd = f'lip_type=class;lipid=\"{lip}\";python {path_code}/run_ml_model.py '\n",
    "    cmd += '--output_prefix \"${lipid}\" --output_dir /data100t1/home/wanying/CCHC/lipidomics/20240405_rerun_fix_pearson_r_bug/output/${lip_type} '\n",
    "    cmd += '--train_vcf_path /data100t1/home/wanying/CCHC/lipidomics/20231211_rerun/inputs/genotype_dosage/train/lipid_${lip_type} '\n",
    "    cmd += '--train_vcf_fn lipid_${lip_type}_chr*.pval_0.001_maf_0.05.vcf.gz '\n",
    "    cmd += '--test_vcf_path /data100t1/home/wanying/CCHC/lipidomics/20231211_rerun/inputs/genotype_dosage/test/lipid_${lip_type} '\n",
    "    cmd += '--test_vcf_fn lipid_${lip_type}_chr*.pval_0.001_maf_0.05.test.vcf.gz '\n",
    "    cmd += f'--snp_fn /data100t1/home/wanying/CCHC/lipidomics/20231211_rerun/outputs/fastGWA/lipid_class_filter_by_pval_1e-05/{modified_lip_name}_SNPs.pval_1e-05.txt '\n",
    "    cmd += '--trait_name \"${lipid}\" '\n",
    "    cmd += '--trait_fn /data100t1/home/wanying/CCHC/lipidomics/20231211_rerun/inputs/lipid_trait/lipid_${lip_type}_ID_matched.no_dup.residual.all.txt '\n",
    "    cmd += '--n_alphas 100 --drop_multiallelic True --reg_type elastic_net --id_col genotype_id --overwrite False'\n",
    "    fh.write(cmd+'\\n')\n",
    "fh.close()"
   ]
  },
  {
   "cell_type": "code",
   "execution_count": null,
   "id": "869fe3a8-c4be-4d4d-9ffe-2d0a7e08b74c",
   "metadata": {},
   "outputs": [],
   "source": []
  }
 ],
 "metadata": {
  "kernelspec": {
   "display_name": "Python 3",
   "language": "python",
   "name": "python3"
  },
  "language_info": {
   "codemirror_mode": {
    "name": "ipython",
    "version": 3
   },
   "file_extension": ".py",
   "mimetype": "text/x-python",
   "name": "python",
   "nbconvert_exporter": "python",
   "pygments_lexer": "ipython3",
   "version": "3.9.7"
  }
 },
 "nbformat": 4,
 "nbformat_minor": 5
}
