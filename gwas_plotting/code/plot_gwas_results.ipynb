{
 "cells": [
  {
   "cell_type": "code",
   "execution_count": 1,
   "id": "480ca2ea-847a-4065-989b-835b6ae9619b",
   "metadata": {},
   "outputs": [],
   "source": [
    "import pandas as pd\n",
    "import os"
   ]
  },
  {
   "cell_type": "markdown",
   "id": "2b67fdb1-cc7e-47d4-8a8c-9830157d91d4",
   "metadata": {},
   "source": [
    "## 1. Create commands to plot GWAS results"
   ]
  },
  {
   "cell_type": "code",
   "execution_count": 12,
   "id": "10134f9f-846a-440b-878e-d838f011123a",
   "metadata": {},
   "outputs": [],
   "source": [
    "# Load lipid list\n",
    "df_lipid_list = pd.read_csv('/data100t1/home/wanying/CCHC/lipidomics/supporting_files/lipid_species.list.with_rename', sep='\\t')\n",
    "# df_lipid_list.head()\n",
    "\n",
    "code_path ='/data100t1/home/wanying/CCHC/lipidomics/gwas_plotting/code/utils'\n",
    "out_fn = 'bash_slurm_cmd/cmd_gwas_plot.sh'\n",
    "\n",
    "with open(out_fn, 'w') as out_fh:\n",
    "    for i in range(len(df_lipid_list)):\n",
    "        lipid, lipid_rename = df_lipid_list.iloc[i, :]\n",
    "        cmd = f'python {code_path}/plot_GWAS_results.py'\n",
    "        input_path = '/data100t1/home/wanying/CCHC/lipidomics/output/lip_species_GWAS_noadj_BMI_AGE2'\n",
    "        cmd += f' --input {input_path}/{lipid_rename}.fastGWA'\n",
    "        output_path = '/data100t1/home/wanying/CCHC/lipidomics/gwas_plotting/output/lipid_species'\n",
    "        cmd += f' --output_path {output_path}'\n",
    "        cmd += f' --output_prefix \"{lipid_rename}\" --title \"{lipid}\"'\n",
    "        out_fh.write(cmd + '\\n')"
   ]
  },
  {
   "cell_type": "code",
   "execution_count": null,
   "id": "cce77865-4b6a-43de-8307-73ad688453c5",
   "metadata": {},
   "outputs": [],
   "source": []
  }
 ],
 "metadata": {
  "kernelspec": {
   "display_name": "Python 3 (ipykernel)",
   "language": "python",
   "name": "python3"
  },
  "language_info": {
   "codemirror_mode": {
    "name": "ipython",
    "version": 3
   },
   "file_extension": ".py",
   "mimetype": "text/x-python",
   "name": "python",
   "nbconvert_exporter": "python",
   "pygments_lexer": "ipython3",
   "version": "3.10.14"
  }
 },
 "nbformat": 4,
 "nbformat_minor": 5
}
