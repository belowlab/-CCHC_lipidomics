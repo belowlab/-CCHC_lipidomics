{
 "cells": [
  {
   "cell_type": "markdown",
   "id": "29ad9ac3-e5e9-4e7d-8f59-cd1651f34442",
   "metadata": {},
   "source": [
    "Elastic-net model did not work very well. Try non-linear models"
   ]
  },
  {
   "cell_type": "markdown",
   "id": "7b92863c-1cbd-4749-9e5b-18c63ca45dae",
   "metadata": {},
   "source": [
    "# 0. Import modules"
   ]
  },
  {
   "cell_type": "code",
   "execution_count": 109,
   "id": "4ab3dfe1-fe4e-4fe2-b752-333b3243730f",
   "metadata": {
    "ExecuteTime": {
     "end_time": "2024-01-15T06:07:29.686123Z",
     "start_time": "2024-01-15T06:06:36.984544Z"
    }
   },
   "outputs": [
    {
     "name": "stdout",
     "output_type": "stream",
     "text": [
      "2024-01-16\n"
     ]
    }
   ],
   "source": [
    "from sklearn.ensemble import AdaBoostRegressor\n",
    "from sklearn.ensemble import GradientBoostingRegressor\n",
    "from sklearn.datasets import make_regression\n",
    "import logging\n",
    "import matplotlib.pyplot as plt\n",
    "import subprocess\n",
    "from scipy import stats\n",
    "import matplotlib.pyplot as plt\n",
    "\n",
    "import pandas as pd\n",
    "import numpy as np\n",
    "import os\n",
    "import datetime\n",
    "print(datetime.datetime.now().strftime('%Y-%m-%d'))\n",
    "\n",
    "logging.getLogger().setLevel(logging.INFO)\n",
    "logging.basicConfig(level=logging.INFO)"
   ]
  },
  {
   "cell_type": "code",
   "execution_count": 175,
   "id": "dff47b5a-5420-4d80-86b3-faf5f4dec3a7",
   "metadata": {},
   "outputs": [
    {
     "data": {
      "text/plain": [
       "<matplotlib.legend.Legend at 0x7f48c74cd790>"
      ]
     },
     "execution_count": 175,
     "metadata": {},
     "output_type": "execute_result"
    },
    {
     "data": {
      "image/png": "[encoded data removed]",
      "text/plain": [
       "<Figure size 432x288 with 1 Axes>"
      ]
     },
     "metadata": {
      "needs_background": "light"
     },
     "output_type": "display_data"
    }
   ],
   "source": [
    "# Testing example\n",
    "X, y = make_regression(n_features=4, n_informative=2,\n",
    "                       random_state=0, shuffle=False)\n",
    "regr = AdaBoostRegressor(random_state=0, n_estimators=50)\n",
    "regr.fit(X, y)\n",
    "regr.predict([[0, 0, 0, 0]])\n",
    "regr.score(X, y)\n",
    "fig, ax = plt.subplots()\n",
    "df_data = pd.DataFrame({'y_true':y, 'y_pred':regr.predict(X)})\n",
    "df_data.sort_values(by='y_true', inplace=True)\n",
    "ax.plot(range(len(df_data)), df_data['y_true'], label='True', ls='', marker='.')\n",
    "ax.plot(range(len(df_data)), df_data['y_pred'], label='Pred', ls='', marker='.')\n",
    "ax.legend()"
   ]
  },
  {
   "cell_type": "markdown",
   "id": "dbc4892a-3576-4164-834a-bf3c63a70550",
   "metadata": {},
   "source": [
    "# 1. Pick a few lipid species to test based on heritability"
   ]
  },
  {
   "cell_type": "code",
   "execution_count": 10,
   "id": "fc7eff2f-3374-41b3-8477-c14f4236a13e",
   "metadata": {
    "tags": []
   },
   "outputs": [
    {
     "name": "stdout",
     "output_type": "stream",
     "text": [
      "merged_h2_r2_train_species_pval_1e-07_maf_0.01.txt\n"
     ]
    },
    {
     "data": {
      "text/html": [
       "<div>\n",
       "<style scoped>\n",
       "    .dataframe tbody tr th:only-of-type {\n",
       "        vertical-align: middle;\n",
       "    }\n",
       "\n",
       "    .dataframe tbody tr th {\n",
       "        vertical-align: top;\n",
       "    }\n",
       "\n",
       "    .dataframe thead th {\n",
       "        text-align: right;\n",
       "    }\n",
       "</style>\n",
       "<table border=\"1\" class=\"dataframe\">\n",
       "  <thead>\n",
       "    <tr style=\"text-align: right;\">\n",
       "      <th></th>\n",
       "      <th>Lipid_name</th>\n",
       "      <th>h2</th>\n",
       "      <th>se</th>\n",
       "      <th>95CI</th>\n",
       "      <th>Lipid</th>\n",
       "      <th>pearson_r2</th>\n",
       "      <th>pearson_pval</th>\n",
       "      <th>model_fitting_r2</th>\n",
       "    </tr>\n",
       "  </thead>\n",
       "  <tbody>\n",
       "    <tr>\n",
       "      <th>469</th>\n",
       "      <td>CE-20:4-</td>\n",
       "      <td>0.999999</td>\n",
       "      <td>0.185907</td>\n",
       "      <td>0.364378</td>\n",
       "      <td>CE(20:4)</td>\n",
       "      <td>0.024245</td>\n",
       "      <td>3.575895e-10</td>\n",
       "      <td>-0.017679</td>\n",
       "    </tr>\n",
       "    <tr>\n",
       "      <th>468</th>\n",
       "      <td>CE-20:5-</td>\n",
       "      <td>0.999999</td>\n",
       "      <td>0.188218</td>\n",
       "      <td>0.368907</td>\n",
       "      <td>CE(20:5)</td>\n",
       "      <td>0.019479</td>\n",
       "      <td>1.970866e-08</td>\n",
       "      <td>-0.007307</td>\n",
       "    </tr>\n",
       "    <tr>\n",
       "      <th>467</th>\n",
       "      <td>DE-20:4-</td>\n",
       "      <td>0.998330</td>\n",
       "      <td>0.191236</td>\n",
       "      <td>0.374823</td>\n",
       "      <td>DE(20:4)</td>\n",
       "      <td>0.019253</td>\n",
       "      <td>2.383185e-08</td>\n",
       "      <td>-0.013485</td>\n",
       "    </tr>\n",
       "    <tr>\n",
       "      <th>466</th>\n",
       "      <td>PC-16:0_20:4-</td>\n",
       "      <td>0.976646</td>\n",
       "      <td>0.179809</td>\n",
       "      <td>0.352426</td>\n",
       "      <td>PC(16:0_20:4)</td>\n",
       "      <td>0.044155</td>\n",
       "      <td>1.785337e-17</td>\n",
       "      <td>-0.029422</td>\n",
       "    </tr>\n",
       "    <tr>\n",
       "      <th>465</th>\n",
       "      <td>PC-18:0_20:4-</td>\n",
       "      <td>0.946600</td>\n",
       "      <td>0.180321</td>\n",
       "      <td>0.353429</td>\n",
       "      <td>PC(18:0_20:4)</td>\n",
       "      <td>0.041298</td>\n",
       "      <td>2.017023e-16</td>\n",
       "      <td>-0.009982</td>\n",
       "    </tr>\n",
       "  </tbody>\n",
       "</table>\n",
       "</div>"
      ],
      "text/plain": [
       "        Lipid_name        h2        se      95CI          Lipid  pearson_r2  \\\n",
       "469       CE-20:4-  0.999999  0.185907  0.364378       CE(20:4)    0.024245   \n",
       "468       CE-20:5-  0.999999  0.188218  0.368907       CE(20:5)    0.019479   \n",
       "467       DE-20:4-  0.998330  0.191236  0.374823       DE(20:4)    0.019253   \n",
       "466  PC-16:0_20:4-  0.976646  0.179809  0.352426  PC(16:0_20:4)    0.044155   \n",
       "465  PC-18:0_20:4-  0.946600  0.180321  0.353429  PC(18:0_20:4)    0.041298   \n",
       "\n",
       "     pearson_pval  model_fitting_r2  \n",
       "469  3.575895e-10         -0.017679  \n",
       "468  1.970866e-08         -0.007307  \n",
       "467  2.383185e-08         -0.013485  \n",
       "466  1.785337e-17         -0.029422  \n",
       "465  2.017023e-16         -0.009982  "
      ]
     },
     "metadata": {},
     "output_type": "display_data"
    },
    {
     "data": {
      "text/html": [
       "<div>\n",
       "<style scoped>\n",
       "    .dataframe tbody tr th:only-of-type {\n",
       "        vertical-align: middle;\n",
       "    }\n",
       "\n",
       "    .dataframe tbody tr th {\n",
       "        vertical-align: top;\n",
       "    }\n",
       "\n",
       "    .dataframe thead th {\n",
       "        text-align: right;\n",
       "    }\n",
       "</style>\n",
       "<table border=\"1\" class=\"dataframe\">\n",
       "  <thead>\n",
       "    <tr style=\"text-align: right;\">\n",
       "      <th></th>\n",
       "      <th>Lipid_name</th>\n",
       "      <th>h2</th>\n",
       "      <th>se</th>\n",
       "      <th>95CI</th>\n",
       "      <th>Lipid</th>\n",
       "      <th>pearson_r2</th>\n",
       "      <th>pearson_pval</th>\n",
       "      <th>model_fitting_r2</th>\n",
       "    </tr>\n",
       "  </thead>\n",
       "  <tbody>\n",
       "    <tr>\n",
       "      <th>56</th>\n",
       "      <td>PG-34:1-</td>\n",
       "      <td>0.000001</td>\n",
       "      <td>0.179375</td>\n",
       "      <td>0.351575</td>\n",
       "      <td>PG(34:1)</td>\n",
       "      <td>0.004812</td>\n",
       "      <td>0.005431</td>\n",
       "      <td>0.000651</td>\n",
       "    </tr>\n",
       "    <tr>\n",
       "      <th>57</th>\n",
       "      <td>PC-16:0_18:3-_-a-</td>\n",
       "      <td>0.000001</td>\n",
       "      <td>0.187640</td>\n",
       "      <td>0.367774</td>\n",
       "      <td>PC(16:0_18:3) (a)</td>\n",
       "      <td>0.004396</td>\n",
       "      <td>0.007882</td>\n",
       "      <td>-0.014758</td>\n",
       "    </tr>\n",
       "    <tr>\n",
       "      <th>58</th>\n",
       "      <td>TG-54:0-_[SIM]</td>\n",
       "      <td>0.000001</td>\n",
       "      <td>0.188249</td>\n",
       "      <td>0.368968</td>\n",
       "      <td>TG(54:0) [SIM]</td>\n",
       "      <td>0.000073</td>\n",
       "      <td>0.731602</td>\n",
       "      <td>-0.019749</td>\n",
       "    </tr>\n",
       "    <tr>\n",
       "      <th>59</th>\n",
       "      <td>PC-16:0_20:3-_-b-</td>\n",
       "      <td>0.000001</td>\n",
       "      <td>0.176448</td>\n",
       "      <td>0.345838</td>\n",
       "      <td>PC(16:0_20:3) (b)</td>\n",
       "      <td>0.003784</td>\n",
       "      <td>0.013710</td>\n",
       "      <td>-0.000812</td>\n",
       "    </tr>\n",
       "    <tr>\n",
       "      <th>0</th>\n",
       "      <td>LPE-16:0-_[sn1]</td>\n",
       "      <td>0.000001</td>\n",
       "      <td>0.179871</td>\n",
       "      <td>0.352547</td>\n",
       "      <td>LPE(16:0) [sn1]</td>\n",
       "      <td>0.004266</td>\n",
       "      <td>0.008863</td>\n",
       "      <td>-0.013856</td>\n",
       "    </tr>\n",
       "  </tbody>\n",
       "</table>\n",
       "</div>"
      ],
      "text/plain": [
       "           Lipid_name        h2        se      95CI              Lipid  \\\n",
       "56           PG-34:1-  0.000001  0.179375  0.351575           PG(34:1)   \n",
       "57  PC-16:0_18:3-_-a-  0.000001  0.187640  0.367774  PC(16:0_18:3) (a)   \n",
       "58     TG-54:0-_[SIM]  0.000001  0.188249  0.368968     TG(54:0) [SIM]   \n",
       "59  PC-16:0_20:3-_-b-  0.000001  0.176448  0.345838  PC(16:0_20:3) (b)   \n",
       "0     LPE-16:0-_[sn1]  0.000001  0.179871  0.352547    LPE(16:0) [sn1]   \n",
       "\n",
       "    pearson_r2  pearson_pval  model_fitting_r2  \n",
       "56    0.004812      0.005431          0.000651  \n",
       "57    0.004396      0.007882         -0.014758  \n",
       "58    0.000073      0.731602         -0.019749  \n",
       "59    0.003784      0.013710         -0.000812  \n",
       "0     0.004266      0.008863         -0.013856  "
      ]
     },
     "metadata": {},
     "output_type": "display_data"
    }
   ],
   "source": [
    "# Load h2 data to selet lipid with highest h2\n",
    "h2_dir = '/data100t1/home/wanying/CCHC/lipidomics/20231211_rerun/outputs/prediction_models/elastic_net/merged_h2_r2'\n",
    "fn = f'merged_h2_r2_{data_type}_{lipid_type}_{pval_threshold}_{maf_threshold}.txt'\n",
    "print(fn)\n",
    "df_h2 = pd.read_csv(os.path.join(h2_dir, fn), sep='\\t').sort_values('h2', ascending=False)\n",
    "display(df_h2.head(5))\n",
    "display(df_h2.tail(5))\n"
   ]
  },
  {
   "cell_type": "markdown",
   "id": "1a717b30-d8fb-473d-acfd-f3ece8064b11",
   "metadata": {},
   "source": [
    "## 1.1 Model training"
   ]
  },
  {
   "cell_type": "code",
   "execution_count": 77,
   "id": "70995053-23c4-46ac-8455-81c4efb72a26",
   "metadata": {
    "tags": []
   },
   "outputs": [],
   "source": [
    "# Load SNP dosage, use pval threshold 1e-05, maf 0.01\n",
    "def load_dosage(snp_dir, snp_fn, lipid = 'CE-20:5-',\n",
    "                dosage_dir = '/data100t1/home/wanying/CCHC/lipidomics/20231211_rerun/inputs/genotype_dosage/train/lipid_species',\n",
    "                dosage_fn = 'lipid_species_chr*.pval_0.001_maf_0.05.vcf.dosage.gz'):\n",
    "    # logging.getLogger().setLevel(logging.WARNING)\n",
    "    # logging.basicConfig(level=logging.WARNING)\n",
    "\n",
    "    # threshold = f'{pval_threshold}_maf_0.01'\n",
    "    # lipid = 'CE-20:5-'\n",
    "    logging.info('# Load filtered SNPs')\n",
    "    # snp_dir = f'/data100t1/home/wanying/CCHC/lipidomics/20231211_rerun/outputs/fastGWA/lipid_{lipid_type}_filter_by_{threshold}'\n",
    "    # snp_fn = f'{lipid}_SNPs.{pval_threshold}.{maf_threshold}.txt'\n",
    "    # snp_fn = f'{lipid}_SNPs.{threshold}.txt'\n",
    "    # print(os.path.join(snp_dir, snp_fn))\n",
    "    df_snps = pd.read_csv(os.path.join(snp_dir, snp_fn), sep='\\t')\n",
    "\n",
    "    logging.info('# Get SNP dosage')\n",
    "    for i in range(1,23):\n",
    "        if not os.path.isfile(os.path.join(dosage_dir, dosage_fn.replace('*', str(i)))):\n",
    "            logging.error('# Dosage file not found: %s' % dosage_fn)\n",
    "\n",
    "    snps_all, dosage_all,lst_sample_ids = [], [], [] # SNPs and dosage found and used in model\n",
    "    total_num_snps = len(df_snps)\n",
    "    c = 0\n",
    "    for chr_num, df in df_snps.groupby(by='CHR'):\n",
    "        logging.info('# Get dosage from CHR%s'%chr_num)\n",
    "        # Create a list of positions to search by tabix\n",
    "        lst_pos = 'chr' + df['CHR'].astype('str') + ':' + df['POS'].astype('str') + '-' + df['POS'].astype('str')\n",
    "        for pos in lst_pos:\n",
    "            cmd = f'tabix {os.path.join(dosage_dir, dosage_fn.replace(\"*\", str(chr_num)))} {pos} | cut -f 1-5,10-'\n",
    "            dosage = subprocess.run(cmd, shell=True, text=True, capture_output=True).stdout\n",
    "            if dosage != '' and len(dosage.split('\\n'))==2: # Ignore multiallelic sites\n",
    "                tmp_lst = dosage.split()\n",
    "                snps_all.append(tmp_lst[2])\n",
    "                dosage_all.append(tmp_lst[5:])\n",
    "                c += 1\n",
    "                print(f'\\r# Process {c}/{total_num_snps}', end='', flush=True)\n",
    "            if c == 1:\n",
    "                cmd = f'tabix -H {os.path.join(dosage_dir, dosage_fn.replace(\"*\", str(chr_num)))} {pos} | cut -f 10-'\n",
    "                sample_ids = subprocess.run(cmd, shell=True, text=True, capture_output=True).stdout\n",
    "                lst_sample_ids = sample_ids.split('\\n')[-2].split('\\t')      \n",
    "    df_dosage_all = pd.DataFrame(data=np.array(dosage_all), columns=lst_sample_ids, index=snps_all)\n",
    "    logging.info('# Number of SNPs loaded: %s' % c)  \n",
    "    logging.info('# DONE')\n",
    "    # return np.array(dosage_all), snps_all, lst_sample_ids\n",
    "    return df_dosage_all.T.reset_index().rename(columns={'index':'genotype_ID'})\n",
    "    # return df_dosage_all\n",
    "\n",
    "\n",
    "def load_trait_values(trait_dir = '/data100t1/home/wanying/CCHC/lipidomics/20231211_rerun/inputs/lipid_trait',\n",
    "                      trait_fn = ''):\n",
    "    # logging.getLogger().setLevel(logging.INFO)\n",
    "    # logging.basicConfig(level=logging.INFO)\n",
    "\n",
    "    # Load lipid trait\n",
    "    # create a dictionary for modified lipid name matching\n",
    "    fn_trait_name_matching = f'/data100t1/home/wanying/CCHC/lipidomics/20231211_rerun/inputs/lipid_trait/lipid_{lipid_type}.list'\n",
    "    df_trait_name_matching = pd.read_csv(fn_trait_name_matching, sep='\\t', header=None).rename(columns={0:'Lipid'})\n",
    "    df_trait_name_matching['Lipid_name'] = df_trait_name_matching['Lipid'].apply(lambda x: x.replace('\\\\', '-').replace('/', '-').replace('(','-').replace(')','-').replace(' ', '_'))\n",
    "    dict_trait_name_matching = df_trait_name_matching.set_index(keys='Lipid_name').to_dict()['Lipid']\n",
    "\n",
    "    logging.info('# Load trait values: %s'%lipid)\n",
    "    # trait_dir = '/data100t1/home/wanying/CCHC/lipidomics/20231211_rerun/inputs/lipid_trait'\n",
    "    # trait_fn = f'lipid_{lipid_type}_ID_matched.no_dup.residual.{data_type}.txt'\n",
    "    df_trait = pd.read_csv(os.path.join(trait_dir, trait_fn), sep='\\t')\n",
    "    return df_trait, dict_trait_name_matching\n"
   ]
  },
  {
   "cell_type": "code",
   "execution_count": 61,
   "id": "9c102d03-b77e-4cf6-832a-1861a74a00d0",
   "metadata": {
    "collapsed": true,
    "jupyter": {
     "outputs_hidden": true
    },
    "tags": []
   },
   "outputs": [
    {
     "name": "stdout",
     "output_type": "stream",
     "text": [
      "# Process 1183/1199"
     ]
    },
    {
     "ename": "IsADirectoryError",
     "evalue": "[Errno 21] Is a directory: '/data100t1/home/wanying/CCHC/lipidomics/20231211_rerun/inputs/lipid_trait/'",
     "output_type": "error",
     "traceback": [
      "\u001b[0;31m---------------------------------------------------------------------------\u001b[0m",
      "\u001b[0;31mIsADirectoryError\u001b[0m                         Traceback (most recent call last)",
      "\u001b[0;32m/tmp/ipykernel_1858115/3528573851.py\u001b[0m in \u001b[0;36m<module>\u001b[0;34m\u001b[0m\n\u001b[1;32m     11\u001b[0m                             \u001b[0mdosage_dir\u001b[0m \u001b[0;34m=\u001b[0m \u001b[0;34m'/data100t1/home/wanying/CCHC/lipidomics/20231211_rerun/inputs/genotype_dosage/train/lipid_species'\u001b[0m\u001b[0;34m,\u001b[0m\u001b[0;34m\u001b[0m\u001b[0;34m\u001b[0m\u001b[0m\n\u001b[1;32m     12\u001b[0m                             dosage_fn = 'lipid_species_chr*.pval_0.001_maf_0.05.vcf.dosage.gz')\n\u001b[0;32m---> 13\u001b[0;31m \u001b[0mdf_trait\u001b[0m \u001b[0;34m=\u001b[0m \u001b[0mload_trait_values\u001b[0m\u001b[0;34m(\u001b[0m\u001b[0;34m)\u001b[0m\u001b[0;34m\u001b[0m\u001b[0;34m\u001b[0m\u001b[0m\n\u001b[0m",
      "\u001b[0;32m/tmp/ipykernel_1858115/623962510.py\u001b[0m in \u001b[0;36mload_trait_values\u001b[0;34m(trait_dir, trait_fn)\u001b[0m\n\u001b[1;32m     63\u001b[0m     \u001b[0;31m# trait_dir = '/data100t1/home/wanying/CCHC/lipidomics/20231211_rerun/inputs/lipid_trait'\u001b[0m\u001b[0;34m\u001b[0m\u001b[0;34m\u001b[0m\u001b[0m\n\u001b[1;32m     64\u001b[0m     \u001b[0;31m# trait_fn = f'lipid_{lipid_type}_ID_matched.no_dup.residual.{data_type}.txt'\u001b[0m\u001b[0;34m\u001b[0m\u001b[0;34m\u001b[0m\u001b[0m\n\u001b[0;32m---> 65\u001b[0;31m     \u001b[0mdf_trait\u001b[0m \u001b[0;34m=\u001b[0m \u001b[0mpd\u001b[0m\u001b[0;34m.\u001b[0m\u001b[0mread_csv\u001b[0m\u001b[0;34m(\u001b[0m\u001b[0mos\u001b[0m\u001b[0;34m.\u001b[0m\u001b[0mpath\u001b[0m\u001b[0;34m.\u001b[0m\u001b[0mjoin\u001b[0m\u001b[0;34m(\u001b[0m\u001b[0mtrait_dir\u001b[0m\u001b[0;34m,\u001b[0m \u001b[0mtrait_fn\u001b[0m\u001b[0;34m)\u001b[0m\u001b[0;34m,\u001b[0m \u001b[0msep\u001b[0m\u001b[0;34m=\u001b[0m\u001b[0;34m'\\t'\u001b[0m\u001b[0;34m)\u001b[0m\u001b[0;34m\u001b[0m\u001b[0;34m\u001b[0m\u001b[0m\n\u001b[0m\u001b[1;32m     66\u001b[0m     \u001b[0;32mreturn\u001b[0m \u001b[0mdf_trait\u001b[0m\u001b[0;34m\u001b[0m\u001b[0;34m\u001b[0m\u001b[0m\n",
      "\u001b[0;32m~/.local/lib/python3.9/site-packages/pandas/util/_decorators.py\u001b[0m in \u001b[0;36mwrapper\u001b[0;34m(*args, **kwargs)\u001b[0m\n\u001b[1;32m    309\u001b[0m                     \u001b[0mstacklevel\u001b[0m\u001b[0;34m=\u001b[0m\u001b[0mstacklevel\u001b[0m\u001b[0;34m,\u001b[0m\u001b[0;34m\u001b[0m\u001b[0;34m\u001b[0m\u001b[0m\n\u001b[1;32m    310\u001b[0m                 )\n\u001b[0;32m--> 311\u001b[0;31m             \u001b[0;32mreturn\u001b[0m \u001b[0mfunc\u001b[0m\u001b[0;34m(\u001b[0m\u001b[0;34m*\u001b[0m\u001b[0margs\u001b[0m\u001b[0;34m,\u001b[0m \u001b[0;34m**\u001b[0m\u001b[0mkwargs\u001b[0m\u001b[0;34m)\u001b[0m\u001b[0;34m\u001b[0m\u001b[0;34m\u001b[0m\u001b[0m\n\u001b[0m\u001b[1;32m    312\u001b[0m \u001b[0;34m\u001b[0m\u001b[0m\n\u001b[1;32m    313\u001b[0m         \u001b[0;32mreturn\u001b[0m \u001b[0mwrapper\u001b[0m\u001b[0;34m\u001b[0m\u001b[0;34m\u001b[0m\u001b[0m\n",
      "\u001b[0;32m~/.local/lib/python3.9/site-packages/pandas/io/parsers/readers.py\u001b[0m in \u001b[0;36mread_csv\u001b[0;34m(filepath_or_buffer, sep, delimiter, header, names, index_col, usecols, squeeze, prefix, mangle_dupe_cols, dtype, engine, converters, true_values, false_values, skipinitialspace, skiprows, skipfooter, nrows, na_values, keep_default_na, na_filter, verbose, skip_blank_lines, parse_dates, infer_datetime_format, keep_date_col, date_parser, dayfirst, cache_dates, iterator, chunksize, compression, thousands, decimal, lineterminator, quotechar, quoting, doublequote, escapechar, comment, encoding, encoding_errors, dialect, error_bad_lines, warn_bad_lines, on_bad_lines, delim_whitespace, low_memory, memory_map, float_precision, storage_options)\u001b[0m\n\u001b[1;32m    676\u001b[0m     \u001b[0mkwds\u001b[0m\u001b[0;34m.\u001b[0m\u001b[0mupdate\u001b[0m\u001b[0;34m(\u001b[0m\u001b[0mkwds_defaults\u001b[0m\u001b[0;34m)\u001b[0m\u001b[0;34m\u001b[0m\u001b[0;34m\u001b[0m\u001b[0m\n\u001b[1;32m    677\u001b[0m \u001b[0;34m\u001b[0m\u001b[0m\n\u001b[0;32m--> 678\u001b[0;31m     \u001b[0;32mreturn\u001b[0m \u001b[0m_read\u001b[0m\u001b[0;34m(\u001b[0m\u001b[0mfilepath_or_buffer\u001b[0m\u001b[0;34m,\u001b[0m \u001b[0mkwds\u001b[0m\u001b[0;34m)\u001b[0m\u001b[0;34m\u001b[0m\u001b[0;34m\u001b[0m\u001b[0m\n\u001b[0m\u001b[1;32m    679\u001b[0m \u001b[0;34m\u001b[0m\u001b[0m\n\u001b[1;32m    680\u001b[0m \u001b[0;34m\u001b[0m\u001b[0m\n",
      "\u001b[0;32m~/.local/lib/python3.9/site-packages/pandas/io/parsers/readers.py\u001b[0m in \u001b[0;36m_read\u001b[0;34m(filepath_or_buffer, kwds)\u001b[0m\n\u001b[1;32m    573\u001b[0m \u001b[0;34m\u001b[0m\u001b[0m\n\u001b[1;32m    574\u001b[0m     \u001b[0;31m# Create the parser.\u001b[0m\u001b[0;34m\u001b[0m\u001b[0;34m\u001b[0m\u001b[0m\n\u001b[0;32m--> 575\u001b[0;31m     \u001b[0mparser\u001b[0m \u001b[0;34m=\u001b[0m \u001b[0mTextFileReader\u001b[0m\u001b[0;34m(\u001b[0m\u001b[0mfilepath_or_buffer\u001b[0m\u001b[0;34m,\u001b[0m \u001b[0;34m**\u001b[0m\u001b[0mkwds\u001b[0m\u001b[0;34m)\u001b[0m\u001b[0;34m\u001b[0m\u001b[0;34m\u001b[0m\u001b[0m\n\u001b[0m\u001b[1;32m    576\u001b[0m \u001b[0;34m\u001b[0m\u001b[0m\n\u001b[1;32m    577\u001b[0m     \u001b[0;32mif\u001b[0m \u001b[0mchunksize\u001b[0m \u001b[0;32mor\u001b[0m \u001b[0miterator\u001b[0m\u001b[0;34m:\u001b[0m\u001b[0;34m\u001b[0m\u001b[0;34m\u001b[0m\u001b[0m\n",
      "\u001b[0;32m~/.local/lib/python3.9/site-packages/pandas/io/parsers/readers.py\u001b[0m in \u001b[0;36m__init__\u001b[0;34m(self, f, engine, **kwds)\u001b[0m\n\u001b[1;32m    930\u001b[0m \u001b[0;34m\u001b[0m\u001b[0m\n\u001b[1;32m    931\u001b[0m         \u001b[0mself\u001b[0m\u001b[0;34m.\u001b[0m\u001b[0mhandles\u001b[0m\u001b[0;34m:\u001b[0m \u001b[0mIOHandles\u001b[0m \u001b[0;34m|\u001b[0m \u001b[0;32mNone\u001b[0m \u001b[0;34m=\u001b[0m \u001b[0;32mNone\u001b[0m\u001b[0;34m\u001b[0m\u001b[0;34m\u001b[0m\u001b[0m\n\u001b[0;32m--> 932\u001b[0;31m         \u001b[0mself\u001b[0m\u001b[0;34m.\u001b[0m\u001b[0m_engine\u001b[0m \u001b[0;34m=\u001b[0m \u001b[0mself\u001b[0m\u001b[0;34m.\u001b[0m\u001b[0m_make_engine\u001b[0m\u001b[0;34m(\u001b[0m\u001b[0mf\u001b[0m\u001b[0;34m,\u001b[0m \u001b[0mself\u001b[0m\u001b[0;34m.\u001b[0m\u001b[0mengine\u001b[0m\u001b[0;34m)\u001b[0m\u001b[0;34m\u001b[0m\u001b[0;34m\u001b[0m\u001b[0m\n\u001b[0m\u001b[1;32m    933\u001b[0m \u001b[0;34m\u001b[0m\u001b[0m\n\u001b[1;32m    934\u001b[0m     \u001b[0;32mdef\u001b[0m \u001b[0mclose\u001b[0m\u001b[0;34m(\u001b[0m\u001b[0mself\u001b[0m\u001b[0;34m)\u001b[0m\u001b[0;34m:\u001b[0m\u001b[0;34m\u001b[0m\u001b[0;34m\u001b[0m\u001b[0m\n",
      "\u001b[0;32m~/.local/lib/python3.9/site-packages/pandas/io/parsers/readers.py\u001b[0m in \u001b[0;36m_make_engine\u001b[0;34m(self, f, engine)\u001b[0m\n\u001b[1;32m   1214\u001b[0m             \u001b[0;31m# \"Union[str, PathLike[str], ReadCsvBuffer[bytes], ReadCsvBuffer[str]]\"\u001b[0m\u001b[0;34m\u001b[0m\u001b[0;34m\u001b[0m\u001b[0m\n\u001b[1;32m   1215\u001b[0m             \u001b[0;31m# , \"str\", \"bool\", \"Any\", \"Any\", \"Any\", \"Any\", \"Any\"\u001b[0m\u001b[0;34m\u001b[0m\u001b[0;34m\u001b[0m\u001b[0m\n\u001b[0;32m-> 1216\u001b[0;31m             self.handles = get_handle(  # type: ignore[call-overload]\n\u001b[0m\u001b[1;32m   1217\u001b[0m                 \u001b[0mf\u001b[0m\u001b[0;34m,\u001b[0m\u001b[0;34m\u001b[0m\u001b[0;34m\u001b[0m\u001b[0m\n\u001b[1;32m   1218\u001b[0m                 \u001b[0mmode\u001b[0m\u001b[0;34m,\u001b[0m\u001b[0;34m\u001b[0m\u001b[0;34m\u001b[0m\u001b[0m\n",
      "\u001b[0;32m~/.local/lib/python3.9/site-packages/pandas/io/common.py\u001b[0m in \u001b[0;36mget_handle\u001b[0;34m(path_or_buf, mode, encoding, compression, memory_map, is_text, errors, storage_options)\u001b[0m\n\u001b[1;32m    784\u001b[0m         \u001b[0;32mif\u001b[0m \u001b[0mioargs\u001b[0m\u001b[0;34m.\u001b[0m\u001b[0mencoding\u001b[0m \u001b[0;32mand\u001b[0m \u001b[0;34m\"b\"\u001b[0m \u001b[0;32mnot\u001b[0m \u001b[0;32min\u001b[0m \u001b[0mioargs\u001b[0m\u001b[0;34m.\u001b[0m\u001b[0mmode\u001b[0m\u001b[0;34m:\u001b[0m\u001b[0;34m\u001b[0m\u001b[0;34m\u001b[0m\u001b[0m\n\u001b[1;32m    785\u001b[0m             \u001b[0;31m# Encoding\u001b[0m\u001b[0;34m\u001b[0m\u001b[0;34m\u001b[0m\u001b[0m\n\u001b[0;32m--> 786\u001b[0;31m             handle = open(\n\u001b[0m\u001b[1;32m    787\u001b[0m                 \u001b[0mhandle\u001b[0m\u001b[0;34m,\u001b[0m\u001b[0;34m\u001b[0m\u001b[0;34m\u001b[0m\u001b[0m\n\u001b[1;32m    788\u001b[0m                 \u001b[0mioargs\u001b[0m\u001b[0;34m.\u001b[0m\u001b[0mmode\u001b[0m\u001b[0;34m,\u001b[0m\u001b[0;34m\u001b[0m\u001b[0;34m\u001b[0m\u001b[0m\n",
      "\u001b[0;31mIsADirectoryError\u001b[0m: [Errno 21] Is a directory: '/data100t1/home/wanying/CCHC/lipidomics/20231211_rerun/inputs/lipid_trait/'"
     ]
    }
   ],
   "source": [
    "data_type = 'train'\n",
    "lipid_type = 'species'\n",
    "pval_threshold = 'pval_1e-07'\n",
    "maf_threshold = 'maf_0.01'\n",
    "\n",
    "snp_dir = f'/data100t1/home/wanying/CCHC/lipidomics/20231211_rerun/outputs/fastGWA/lipid_{lipid_type}_filter_by_{pval_threshold}_{maf_threshold}'\n",
    "snp_fn = f'{lipid}_SNPs.{pval_threshold}.{maf_threshold}.txt'\n",
    "df_dosage_all = load_dosage(snp_fn = snp_fn,\n",
    "                            snp_dir = snp_dir,\n",
    "                            lipid = 'CE-20:5-',\n",
    "                            dosage_dir = '/data100t1/home/wanying/CCHC/lipidomics/20231211_rerun/inputs/genotype_dosage/train/lipid_species',\n",
    "                            dosage_fn = 'lipid_species_chr*.pval_0.001_maf_0.05.vcf.dosage.gz')\n"
   ]
  },
  {
   "cell_type": "code",
   "execution_count": 84,
   "id": "2bc5c296-b6fa-4769-b001-2bfd1acb0f8f",
   "metadata": {},
   "outputs": [],
   "source": [
    "trait_fn = f'lipid_{lipid_type}_ID_matched.no_dup.residual.{data_type}.txt'\n",
    "df_trait, dict_trait_name_matching = load_trait_values(trait_dir = '/data100t1/home/wanying/CCHC/lipidomics/20231211_rerun/inputs/lipid_trait',\n",
    "                                                       trait_fn = trait_fn)\n",
    "df_dosage_all = df_dosage_all.set_index(keys='genotype_ID').reindex(df_trait['genotype_ID']).reset_index()\n",
    "\n",
    "# Train model\n",
    "X = df_dosage_all.iloc[:, 1:].values\n",
    "y = df_trait[dict_trait_name_matching[lipid]]"
   ]
  },
  {
   "cell_type": "code",
   "execution_count": 89,
   "id": "261d08c1-dba3-4c68-a3e8-2ceb27c809f4",
   "metadata": {},
   "outputs": [
    {
     "name": "stdout",
     "output_type": "stream",
     "text": [
      "Model_ fitting r2: 0.21986711101476508\n"
     ]
    },
    {
     "data": {
      "text/plain": [
       "<matplotlib.legend.Legend at 0x7fef88525a60>"
      ]
     },
     "execution_count": 89,
     "metadata": {},
     "output_type": "execute_result"
    },
    {
     "data": {
      "image/png": "[encoded data removed]",
      "text/plain": [
       "<Figure size 432x288 with 1 Axes>"
      ]
     },
     "metadata": {
      "needs_background": "light"
     },
     "output_type": "display_data"
    }
   ],
   "source": [
    "n_estimators = 10\n",
    "regr = AdaBoostRegressor(random_state=0, n_estimators=n_estimators)\n",
    "regr.fit(X, y)\n",
    "print('# Model_ fitting r2:', regr.score(X, y))\n",
    "print('# Pearson r2')\n",
    "\n",
    "fig, ax = plt.subplots()\n",
    "df_data = pd.DataFrame({'y_true':y, 'y_pred':regr.predict(X)})\n",
    "df_data.sort_values(by='y_true', inplace=True)\n",
    "ax.plot(range(len(df_data)), df_data['y_true'], label='True', ls='', marker='.')\n",
    "ax.plot(range(len(df_data)), df_data['y_pred'], label='Pred', ls='', marker='.')\n",
    "ax.set_title(f'{n_estimators} estimator')\n",
    "ax.legend()"
   ]
  },
  {
   "cell_type": "code",
   "execution_count": 92,
   "id": "fcac7fd7-62a7-47d0-ac8e-c26dcd359803",
   "metadata": {},
   "outputs": [
    {
     "name": "stdout",
     "output_type": "stream",
     "text": [
      "Model_ fitting r2: 0.2535529403668435\n"
     ]
    },
    {
     "data": {
      "text/plain": [
       "<matplotlib.legend.Legend at 0x7fef8864af70>"
      ]
     },
     "execution_count": 92,
     "metadata": {},
     "output_type": "execute_result"
    },
    {
     "data": {
      "image/png": "[encoded data removed]",
      "text/plain": [
       "<Figure size 432x288 with 1 Axes>"
      ]
     },
     "metadata": {
      "needs_background": "light"
     },
     "output_type": "display_data"
    }
   ],
   "source": [
    "n_estimators = 25\n",
    "regr = AdaBoostRegressor(random_state=0, n_estimators=n_estimators)\n",
    "regr.fit(X, y)\n",
    "print('Model_ fitting r2:', regr.score(X, y))\n",
    "\n",
    "fig, ax = plt.subplots()\n",
    "df_data = pd.DataFrame({'y_true':y, 'y_pred':regr.predict(X)})\n",
    "df_data.sort_values(by='y_true', inplace=True)\n",
    "ax.plot(range(len(df_data)), df_data['y_true'], label='True', ls='', marker='.')\n",
    "ax.plot(range(len(df_data)), df_data['y_pred'], label='Pred', ls='', marker='.')\n",
    "ax.set_title(f'{n_estimators} estimator')\n",
    "ax.legend()"
   ]
  },
  {
   "cell_type": "code",
   "execution_count": 93,
   "id": "ea549003-eb3c-4be0-9367-7f039ca68fd7",
   "metadata": {
    "tags": []
   },
   "outputs": [
    {
     "name": "stdout",
     "output_type": "stream",
     "text": [
      "Model_ fitting r2: 0.2918060652470871\n"
     ]
    },
    {
     "data": {
      "text/plain": [
       "<matplotlib.legend.Legend at 0x7fef891b5640>"
      ]
     },
     "execution_count": 93,
     "metadata": {},
     "output_type": "execute_result"
    },
    {
     "data": {
      "image/png": "[encoded data removed]",
      "text/plain": [
       "<Figure size 432x288 with 1 Axes>"
      ]
     },
     "metadata": {
      "needs_background": "light"
     },
     "output_type": "display_data"
    }
   ],
   "source": [
    "n_estimators = 50\n",
    "regr = AdaBoostRegressor(random_state=0, n_estimators=n_estimators)\n",
    "regr.fit(X, y)\n",
    "print('Model_ fitting r2:', regr.score(X, y))\n",
    "\n",
    "fig, ax = plt.subplots()\n",
    "df_data = pd.DataFrame({'y_true':y, 'y_pred':regr.predict(X)})\n",
    "df_data.sort_values(by='y_true', inplace=True)\n",
    "ax.plot(range(len(df_data)), df_data['y_true'], label='True', ls='', marker='.')\n",
    "ax.plot(range(len(df_data)), df_data['y_pred'], label='Pred', ls='', marker='.')\n",
    "ax.set_title(f'{n_estimators} estimator')\n",
    "ax.legend()"
   ]
  },
  {
   "cell_type": "code",
   "execution_count": 94,
   "id": "ecdd7cf7-7f95-4c6f-ac88-7dcdfd892db4",
   "metadata": {},
   "outputs": [
    {
     "name": "stdout",
     "output_type": "stream",
     "text": [
      "Model_ fitting r2: 0.32709808541769325\n"
     ]
    },
    {
     "data": {
      "text/plain": [
       "<matplotlib.legend.Legend at 0x7fef84ea9220>"
      ]
     },
     "execution_count": 94,
     "metadata": {},
     "output_type": "execute_result"
    },
    {
     "data": {
      "image/png": "[encoded data removed]",
      "text/plain": [
       "<Figure size 432x288 with 1 Axes>"
      ]
     },
     "metadata": {
      "needs_background": "light"
     },
     "output_type": "display_data"
    }
   ],
   "source": [
    "n_estimators = 100\n",
    "regr = AdaBoostRegressor(random_state=0, n_estimators=n_estimators)\n",
    "regr.fit(X, y)\n",
    "print('Model_ fitting r2:', regr.score(X, y))\n",
    "\n",
    "fig, ax = plt.subplots()\n",
    "df_data = pd.DataFrame({'y_true':y, 'y_pred':regr.predict(X)})\n",
    "df_data.sort_values(by='y_true', inplace=True)\n",
    "ax.plot(range(len(df_data)), df_data['y_true'], label='True', ls='', marker='.')\n",
    "ax.plot(range(len(df_data)), df_data['y_pred'], label='Pred', ls='', marker='.')\n",
    "ax.set_title(f'{n_estimators} estimator')\n",
    "ax.legend()"
   ]
  },
  {
   "cell_type": "code",
   "execution_count": 100,
   "id": "e2bf9085-fa6a-488f-80fa-62b673f6cbdc",
   "metadata": {},
   "outputs": [
    {
     "name": "stdout",
     "output_type": "stream",
     "text": [
      "#  #################### N estimators = 10 ####################\n",
      "# Model_ fitting r2: 0.21986711101476508\n",
      "# Pearson r2: 0.23471378538196913 ; Pearson pval: 2.75349076901062e-95\n",
      "#  #################### N estimators = 25 ####################\n",
      "# Model_ fitting r2: 0.2535529403668435\n",
      "# Pearson r2: 0.28280855191603727 ; Pearson pval: 6.197162553040592e-118\n",
      "#  #################### N estimators = 50 ####################\n",
      "# Model_ fitting r2: 0.2918060652470871\n",
      "# Pearson r2: 0.32255507128855954 ; Pearson pval: 8.041683328438136e-138\n",
      "#  #################### N estimators = 100 ####################\n",
      "# Model_ fitting r2: 0.32709808541769325\n",
      "# Pearson r2: 0.36129149382692577 ; Pearson pval: 2.358468018669879e-158\n"
     ]
    }
   ],
   "source": [
    "lst_pearson_r2 = []\n",
    "lst_n_estimators = [10, 25, 50, 100]\n",
    "for n_estimators in lst_n_estimators:\n",
    "    print('# ', '#'*20, 'N estimators =', n_estimators, '#'*20)\n",
    "    regr = AdaBoostRegressor(random_state=0, n_estimators=n_estimators)\n",
    "    regr.fit(X, y)\n",
    "    pearson_r, pearson_pval = stats.pearsonr(y, regr.predict(X))\n",
    "    lst_pearson_r2.appendpend(pearson_r**2)\n",
    "    print('# Model_fitting r2:', regr.score(X, y))\n",
    "    print('# Pearson r2:', pearson_r**2, '; Pearson pval:', pearson_pval)"
   ]
  },
  {
   "cell_type": "markdown",
   "id": "bdbe91c3-0030-4387-8aa1-99c41eabb19a",
   "metadata": {},
   "source": [
    "## 1.2 Apply on test set\n"
   ]
  },
  {
   "cell_type": "code",
   "execution_count": 103,
   "id": "02ee2ecc-c03f-48ab-bb2c-b63300a3250c",
   "metadata": {},
   "outputs": [
    {
     "data": {
      "text/plain": [
       "'/data100t1/home/wanying/CCHC/lipidomics/20231211_rerun/outputs/fastGWA/lipid_species_filter_by_pval_1e-07_maf_0.01'"
      ]
     },
     "execution_count": 103,
     "metadata": {},
     "output_type": "execute_result"
    }
   ],
   "source": [
    "snp_dir"
   ]
  },
  {
   "cell_type": "code",
   "execution_count": 104,
   "id": "00371ac7-7c03-483b-8456-0f88d81e2c96",
   "metadata": {},
   "outputs": [
    {
     "name": "stderr",
     "output_type": "stream",
     "text": [
      "INFO:root:# Load filtered SNPs\n",
      "INFO:root:# Get SNP dosage\n",
      "INFO:root:# Get dosage from CHR11\n"
     ]
    },
    {
     "name": "stdout",
     "output_type": "stream",
     "text": [
      "# Process 1183/1199"
     ]
    },
    {
     "name": "stderr",
     "output_type": "stream",
     "text": [
      "INFO:root:# Number of SNPs loaded: 1183\n",
      "INFO:root:# DONE\n"
     ]
    }
   ],
   "source": [
    "# Load dosage\n",
    "snp_dir = f'/data100t1/home/wanying/CCHC/lipidomics/20231211_rerun/outputs/fastGWA/lipid_{lipid_type}_filter_by_{pval_threshold}_{maf_threshold}'\n",
    "snp_fn = f'{lipid}_SNPs.{pval_threshold}.{maf_threshold}.txt'\n",
    "df_dosage_all = load_dosage(snp_fn = snp_fn,\n",
    "                            snp_dir = snp_dir,\n",
    "                            lipid = 'CE-20:5-',\n",
    "                            dosage_dir = '/data100t1/home/wanying/CCHC/lipidomics/20231211_rerun/inputs/genotype_dosage/test/lipid_species',\n",
    "                            dosage_fn = 'lipid_species_chr*.pval_0.001_maf_0.05.test.vcf.dosage.gz')\n",
    "\n",
    "data_type = 'test'\n",
    "trait_fn = f'lipid_{lipid_type}_ID_matched.no_dup.residual.{data_type}.txt'\n",
    "df_trait, dict_trait_name_matching = load_trait_values(trait_dir = '/data100t1/home/wanying/CCHC/lipidomics/20231211_rerun/inputs/lipid_trait',\n",
    "                                                       trait_fn = trait_fn)\n",
    "df_dosage_all = df_dosage_all.set_index(keys='genotype_ID').reindex(df_trait['genotype_ID']).reset_index()\n",
    "\n",
    "# Test model\n",
    "X = df_dosage_all.iloc[:, 1:].values\n",
    "y = df_trait[dict_trait_name_matching[lipid]]"
   ]
  },
  {
   "cell_type": "code",
   "execution_count": 108,
   "id": "40df6dea-a3c8-4fa7-92e9-e341c689ea8d",
   "metadata": {},
   "outputs": [
    {
     "name": "stdout",
     "output_type": "stream",
     "text": [
      "# Pearson r2: 0.10322747302944672 ; Pearson pval: 8.113580280659784e-18\n"
     ]
    }
   ],
   "source": [
    "# Get predicted performance\n",
    "pearson_r, pearson_pval = stats.pearsonr(y, regr.predict(X))\n",
    "print('# Pearson r2:', pearson_r**2, '; Pearson pval:', pearson_pval)"
   ]
  },
  {
   "cell_type": "markdown",
   "id": "5a727fc0-5243-45e3-956d-cdb028ace393",
   "metadata": {},
   "source": [
    "## 1.3 Test another lipid with high pearson r2"
   ]
  },
  {
   "cell_type": "code",
   "execution_count": 114,
   "id": "9e9b9e68-5a63-4a5b-b877-cc2b10fe9d54",
   "metadata": {},
   "outputs": [
    {
     "name": "stderr",
     "output_type": "stream",
     "text": [
      "INFO:root:# Load filtered SNPs\n",
      "INFO:root:# Get SNP dosage\n",
      "INFO:root:# Get dosage from CHR11\n"
     ]
    },
    {
     "name": "stdout",
     "output_type": "stream",
     "text": [
      "# Process 3921/3980"
     ]
    },
    {
     "name": "stderr",
     "output_type": "stream",
     "text": [
      "INFO:root:# Number of SNPs loaded: 3921\n",
      "INFO:root:# DONE\n",
      "INFO:root:# Load trait values: PC-16:0_20:4-\n"
     ]
    },
    {
     "name": "stdout",
     "output_type": "stream",
     "text": [
      "# Model_ fitting r2: 0.3781231635278587\n",
      "# Pearson r2\n"
     ]
    }
   ],
   "source": [
    "# Test another lipid with high pearson r2\n",
    "# lipid = 'Hex3Cer-d18:1-22:0-'\n",
    "lipid = 'PC-16:0_20:4-'\n",
    "\n",
    "data_type = 'train'\n",
    "lipid_type = 'species'\n",
    "pval_threshold = 'pval_1e-07'\n",
    "maf_threshold = 'maf_0.01'\n",
    "\n",
    "snp_dir = f'/data100t1/home/wanying/CCHC/lipidomics/20231211_rerun/outputs/fastGWA/lipid_{lipid_type}_filter_by_{pval_threshold}_{maf_threshold}'\n",
    "snp_fn = f'{lipid}_SNPs.{pval_threshold}.{maf_threshold}.txt'\n",
    "df_dosage_all = load_dosage(snp_fn = snp_fn,\n",
    "                            snp_dir = snp_dir,\n",
    "                            lipid = lipid,\n",
    "                            dosage_dir = '/data100t1/home/wanying/CCHC/lipidomics/20231211_rerun/inputs/genotype_dosage/train/lipid_species',\n",
    "                            dosage_fn = 'lipid_species_chr*.pval_0.001_maf_0.05.vcf.dosage.gz')\n",
    "\n",
    "\n",
    "trait_fn = f'lipid_{lipid_type}_ID_matched.no_dup.residual.{data_type}.txt'\n",
    "df_trait, dict_trait_name_matching = load_trait_values(trait_dir = '/data100t1/home/wanying/CCHC/lipidomics/20231211_rerun/inputs/lipid_trait',\n",
    "                                                       trait_fn = trait_fn)\n",
    "df_dosage_all = df_dosage_all.set_index(keys='genotype_ID').reindex(df_trait['genotype_ID']).reset_index()\n",
    "\n",
    "# Train model\n",
    "X = df_dosage_all.iloc[:, 1:].values\n",
    "y = df_trait[dict_trait_name_matching[lipid]]\n",
    "\n",
    "n_estimators = 50\n",
    "regr = AdaBoostRegressor(random_state=0, n_estimators=n_estimators)\n",
    "regr.fit(X, y)\n",
    "print('# Model_ fitting r2:', regr.score(X, y))\n",
    "print('# Pearson r2')"
   ]
  },
  {
   "cell_type": "code",
   "execution_count": 111,
   "id": "d66c33c6-0a74-4e0b-afea-ced2c1213a66",
   "metadata": {},
   "outputs": [
    {
     "data": {
      "text/html": [
       "<div>\n",
       "<style scoped>\n",
       "    .dataframe tbody tr th:only-of-type {\n",
       "        vertical-align: middle;\n",
       "    }\n",
       "\n",
       "    .dataframe tbody tr th {\n",
       "        vertical-align: top;\n",
       "    }\n",
       "\n",
       "    .dataframe thead th {\n",
       "        text-align: right;\n",
       "    }\n",
       "</style>\n",
       "<table border=\"1\" class=\"dataframe\">\n",
       "  <thead>\n",
       "    <tr style=\"text-align: right;\">\n",
       "      <th></th>\n",
       "      <th>Lipid_name</th>\n",
       "      <th>h2</th>\n",
       "      <th>se</th>\n",
       "      <th>95CI</th>\n",
       "      <th>Lipid</th>\n",
       "      <th>pearson_r2</th>\n",
       "      <th>pearson_pval</th>\n",
       "      <th>model_fitting_r2</th>\n",
       "    </tr>\n",
       "  </thead>\n",
       "  <tbody>\n",
       "    <tr>\n",
       "      <th>388</th>\n",
       "      <td>TG-54:3-_[NL-18:2]</td>\n",
       "      <td>0.405313</td>\n",
       "      <td>0.187952</td>\n",
       "      <td>0.368386</td>\n",
       "      <td>TG(54:3) [NL-18:2]</td>\n",
       "      <td>1.141431e-07</td>\n",
       "      <td>9.892093e-01</td>\n",
       "      <td>-0.032902</td>\n",
       "    </tr>\n",
       "    <tr>\n",
       "      <th>21</th>\n",
       "      <td>TG-53:2-_[NL-17:1]</td>\n",
       "      <td>0.000001</td>\n",
       "      <td>0.185299</td>\n",
       "      <td>0.363186</td>\n",
       "      <td>TG(53:2) [NL-17:1]</td>\n",
       "      <td>7.814042e-07</td>\n",
       "      <td>9.717716e-01</td>\n",
       "      <td>-0.017538</td>\n",
       "    </tr>\n",
       "    <tr>\n",
       "      <th>96</th>\n",
       "      <td>TG-50:3-_[NL-18:2]</td>\n",
       "      <td>0.014372</td>\n",
       "      <td>0.184023</td>\n",
       "      <td>0.360685</td>\n",
       "      <td>TG(50:3) [NL-18:2]</td>\n",
       "      <td>1.515924e-06</td>\n",
       "      <td>9.606901e-01</td>\n",
       "      <td>-0.017239</td>\n",
       "    </tr>\n",
       "    <tr>\n",
       "      <th>199</th>\n",
       "      <td>LPE-22:6-_[sn2]</td>\n",
       "      <td>0.130315</td>\n",
       "      <td>0.181657</td>\n",
       "      <td>0.356048</td>\n",
       "      <td>LPE(22:6) [sn2]</td>\n",
       "      <td>1.538673e-06</td>\n",
       "      <td>9.603965e-01</td>\n",
       "      <td>-0.019482</td>\n",
       "    </tr>\n",
       "    <tr>\n",
       "      <th>304</th>\n",
       "      <td>LPC-O-24:1-</td>\n",
       "      <td>0.267635</td>\n",
       "      <td>0.187928</td>\n",
       "      <td>0.368339</td>\n",
       "      <td>LPC(O-24:1)</td>\n",
       "      <td>5.247518e-06</td>\n",
       "      <td>9.269352e-01</td>\n",
       "      <td>-0.016334</td>\n",
       "    </tr>\n",
       "    <tr>\n",
       "      <th>...</th>\n",
       "      <td>...</td>\n",
       "      <td>...</td>\n",
       "      <td>...</td>\n",
       "      <td>...</td>\n",
       "      <td>...</td>\n",
       "      <td>...</td>\n",
       "      <td>...</td>\n",
       "      <td>...</td>\n",
       "    </tr>\n",
       "    <tr>\n",
       "      <th>464</th>\n",
       "      <td>methyl-CE-20:4-</td>\n",
       "      <td>0.939089</td>\n",
       "      <td>0.193115</td>\n",
       "      <td>0.378505</td>\n",
       "      <td>methyl-CE(20:4)</td>\n",
       "      <td>3.655456e-02</td>\n",
       "      <td>1.118192e-14</td>\n",
       "      <td>-0.005064</td>\n",
       "    </tr>\n",
       "    <tr>\n",
       "      <th>451</th>\n",
       "      <td>LPC-20:4-_[sn2]</td>\n",
       "      <td>0.725859</td>\n",
       "      <td>0.179554</td>\n",
       "      <td>0.351926</td>\n",
       "      <td>LPC(20:4) [sn2]</td>\n",
       "      <td>4.000868e-02</td>\n",
       "      <td>6.015979e-16</td>\n",
       "      <td>-0.028139</td>\n",
       "    </tr>\n",
       "    <tr>\n",
       "      <th>465</th>\n",
       "      <td>PC-18:0_20:4-</td>\n",
       "      <td>0.946600</td>\n",
       "      <td>0.180321</td>\n",
       "      <td>0.353429</td>\n",
       "      <td>PC(18:0_20:4)</td>\n",
       "      <td>4.129825e-02</td>\n",
       "      <td>2.017023e-16</td>\n",
       "      <td>-0.009982</td>\n",
       "    </tr>\n",
       "    <tr>\n",
       "      <th>466</th>\n",
       "      <td>PC-16:0_20:4-</td>\n",
       "      <td>0.976646</td>\n",
       "      <td>0.179809</td>\n",
       "      <td>0.352426</td>\n",
       "      <td>PC(16:0_20:4)</td>\n",
       "      <td>4.415522e-02</td>\n",
       "      <td>1.785337e-17</td>\n",
       "      <td>-0.029422</td>\n",
       "    </tr>\n",
       "    <tr>\n",
       "      <th>215</th>\n",
       "      <td>Hex3Cer-d18:1-22:0-</td>\n",
       "      <td>0.146955</td>\n",
       "      <td>0.192921</td>\n",
       "      <td>0.378125</td>\n",
       "      <td>Hex3Cer(d18:1/22:0)</td>\n",
       "      <td>4.669910e-02</td>\n",
       "      <td>2.052301e-18</td>\n",
       "      <td>-0.051866</td>\n",
       "    </tr>\n",
       "  </tbody>\n",
       "</table>\n",
       "<p>470 rows × 8 columns</p>\n",
       "</div>"
      ],
      "text/plain": [
       "              Lipid_name        h2        se      95CI                Lipid  \\\n",
       "388   TG-54:3-_[NL-18:2]  0.405313  0.187952  0.368386   TG(54:3) [NL-18:2]   \n",
       "21    TG-53:2-_[NL-17:1]  0.000001  0.185299  0.363186   TG(53:2) [NL-17:1]   \n",
       "96    TG-50:3-_[NL-18:2]  0.014372  0.184023  0.360685   TG(50:3) [NL-18:2]   \n",
       "199      LPE-22:6-_[sn2]  0.130315  0.181657  0.356048      LPE(22:6) [sn2]   \n",
       "304          LPC-O-24:1-  0.267635  0.187928  0.368339          LPC(O-24:1)   \n",
       "..                   ...       ...       ...       ...                  ...   \n",
       "464      methyl-CE-20:4-  0.939089  0.193115  0.378505      methyl-CE(20:4)   \n",
       "451      LPC-20:4-_[sn2]  0.725859  0.179554  0.351926      LPC(20:4) [sn2]   \n",
       "465        PC-18:0_20:4-  0.946600  0.180321  0.353429        PC(18:0_20:4)   \n",
       "466        PC-16:0_20:4-  0.976646  0.179809  0.352426        PC(16:0_20:4)   \n",
       "215  Hex3Cer-d18:1-22:0-  0.146955  0.192921  0.378125  Hex3Cer(d18:1/22:0)   \n",
       "\n",
       "       pearson_r2  pearson_pval  model_fitting_r2  \n",
       "388  1.141431e-07  9.892093e-01         -0.032902  \n",
       "21   7.814042e-07  9.717716e-01         -0.017538  \n",
       "96   1.515924e-06  9.606901e-01         -0.017239  \n",
       "199  1.538673e-06  9.603965e-01         -0.019482  \n",
       "304  5.247518e-06  9.269352e-01         -0.016334  \n",
       "..            ...           ...               ...  \n",
       "464  3.655456e-02  1.118192e-14         -0.005064  \n",
       "451  4.000868e-02  6.015979e-16         -0.028139  \n",
       "465  4.129825e-02  2.017023e-16         -0.009982  \n",
       "466  4.415522e-02  1.785337e-17         -0.029422  \n",
       "215  4.669910e-02  2.052301e-18         -0.051866  \n",
       "\n",
       "[470 rows x 8 columns]"
      ]
     },
     "execution_count": 111,
     "metadata": {},
     "output_type": "execute_result"
    }
   ],
   "source": [
    "df_h2.sort_values(by='pearson_r2')"
   ]
  },
  {
   "cell_type": "code",
   "execution_count": 116,
   "id": "c220deb2-227a-46f6-832b-8ea59e516345",
   "metadata": {},
   "outputs": [
    {
     "name": "stderr",
     "output_type": "stream",
     "text": [
      "INFO:root:# Load filtered SNPs\n",
      "INFO:root:# Get SNP dosage\n",
      "INFO:root:# Get dosage from CHR11\n"
     ]
    },
    {
     "name": "stdout",
     "output_type": "stream",
     "text": [
      "# Process 3921/3980"
     ]
    },
    {
     "name": "stderr",
     "output_type": "stream",
     "text": [
      "INFO:root:# Number of SNPs loaded: 3921\n",
      "INFO:root:# DONE\n",
      "INFO:root:# Load trait values: PC-16:0_20:4-\n"
     ]
    },
    {
     "name": "stdout",
     "output_type": "stream",
     "text": [
      "# Pearson r2: 0.2251912045345951 ; Pearson pval: 1.5450741890833307e-39\n"
     ]
    }
   ],
   "source": [
    "# Load dosage\n",
    "snp_dir = f'/data100t1/home/wanying/CCHC/lipidomics/20231211_rerun/outputs/fastGWA/lipid_{lipid_type}_filter_by_{pval_threshold}_{maf_threshold}'\n",
    "snp_fn = f'{lipid}_SNPs.{pval_threshold}.{maf_threshold}.txt'\n",
    "df_dosage_all = load_dosage(snp_fn = snp_fn,\n",
    "                            snp_dir = snp_dir,\n",
    "                            lipid = lipid,\n",
    "                            dosage_dir = '/data100t1/home/wanying/CCHC/lipidomics/20231211_rerun/inputs/genotype_dosage/test/lipid_species',\n",
    "                            dosage_fn = 'lipid_species_chr*.pval_0.001_maf_0.05.test.vcf.dosage.gz')\n",
    "\n",
    "data_type = 'test'\n",
    "trait_fn = f'lipid_{lipid_type}_ID_matched.no_dup.residual.{data_type}.txt'\n",
    "df_trait, dict_trait_name_matching = load_trait_values(trait_dir = '/data100t1/home/wanying/CCHC/lipidomics/20231211_rerun/inputs/lipid_trait',\n",
    "                                                       trait_fn = trait_fn)\n",
    "df_dosage_all = df_dosage_all.set_index(keys='genotype_ID').reindex(df_trait['genotype_ID']).reset_index()\n",
    "\n",
    "# Test model\n",
    "X = df_dosage_all.iloc[:, 1:].values\n",
    "y = df_trait[dict_trait_name_matching[lipid]]\n",
    "\n",
    "# Get predicted performance\n",
    "pearson_r, pearson_pval = stats.pearsonr(y, regr.predict(X))\n",
    "print('# Pearson r2:', pearson_r**2, '; Pearson pval:', pearson_pval)"
   ]
  },
  {
   "cell_type": "code",
   "execution_count": 122,
   "id": "bb331e6b-a6b0-4719-8432-fef42ec440b0",
   "metadata": {},
   "outputs": [
    {
     "data": {
      "text/html": [
       "<div>\n",
       "<style scoped>\n",
       "    .dataframe tbody tr th:only-of-type {\n",
       "        vertical-align: middle;\n",
       "    }\n",
       "\n",
       "    .dataframe tbody tr th {\n",
       "        vertical-align: top;\n",
       "    }\n",
       "\n",
       "    .dataframe thead th {\n",
       "        text-align: right;\n",
       "    }\n",
       "</style>\n",
       "<table border=\"1\" class=\"dataframe\">\n",
       "  <thead>\n",
       "    <tr style=\"text-align: right;\">\n",
       "      <th></th>\n",
       "      <th>Lipid_name</th>\n",
       "      <th>h2</th>\n",
       "      <th>se</th>\n",
       "      <th>95CI</th>\n",
       "      <th>Lipid</th>\n",
       "      <th>pearson_r2</th>\n",
       "      <th>pearson_pval</th>\n",
       "      <th>model_fitting_r2</th>\n",
       "    </tr>\n",
       "  </thead>\n",
       "  <tbody>\n",
       "    <tr>\n",
       "      <th>424</th>\n",
       "      <td>CE-16:2-</td>\n",
       "      <td>0.551395</td>\n",
       "      <td>0.191033</td>\n",
       "      <td>0.374425</td>\n",
       "      <td>CE(16:2)</td>\n",
       "      <td>0.000940</td>\n",
       "      <td>2.196160e-01</td>\n",
       "      <td>-0.027788</td>\n",
       "    </tr>\n",
       "    <tr>\n",
       "      <th>423</th>\n",
       "      <td>PC-P-17:0-20:4-_-b-</td>\n",
       "      <td>0.539768</td>\n",
       "      <td>0.182473</td>\n",
       "      <td>0.357647</td>\n",
       "      <td>PC(P-17:0/20:4) (b)</td>\n",
       "      <td>0.017591</td>\n",
       "      <td>9.662530e-08</td>\n",
       "      <td>0.000928</td>\n",
       "    </tr>\n",
       "    <tr>\n",
       "      <th>422</th>\n",
       "      <td>PC-34:5-</td>\n",
       "      <td>0.532437</td>\n",
       "      <td>0.191718</td>\n",
       "      <td>0.375767</td>\n",
       "      <td>PC(34:5)</td>\n",
       "      <td>0.013700</td>\n",
       "      <td>2.580600e-06</td>\n",
       "      <td>0.006240</td>\n",
       "    </tr>\n",
       "    <tr>\n",
       "      <th>421</th>\n",
       "      <td>AC-20:5-</td>\n",
       "      <td>0.530738</td>\n",
       "      <td>0.191970</td>\n",
       "      <td>0.376261</td>\n",
       "      <td>AC(20:5)</td>\n",
       "      <td>0.012043</td>\n",
       "      <td>1.050935e-05</td>\n",
       "      <td>0.007069</td>\n",
       "    </tr>\n",
       "    <tr>\n",
       "      <th>420</th>\n",
       "      <td>CE-20:4-_[+OH]</td>\n",
       "      <td>0.527121</td>\n",
       "      <td>0.183202</td>\n",
       "      <td>0.359076</td>\n",
       "      <td>CE(20:4) [+OH]</td>\n",
       "      <td>0.016493</td>\n",
       "      <td>2.437478e-07</td>\n",
       "      <td>-0.011294</td>\n",
       "    </tr>\n",
       "  </tbody>\n",
       "</table>\n",
       "</div>"
      ],
      "text/plain": [
       "              Lipid_name        h2        se      95CI                Lipid  \\\n",
       "424             CE-16:2-  0.551395  0.191033  0.374425             CE(16:2)   \n",
       "423  PC-P-17:0-20:4-_-b-  0.539768  0.182473  0.357647  PC(P-17:0/20:4) (b)   \n",
       "422             PC-34:5-  0.532437  0.191718  0.375767             PC(34:5)   \n",
       "421             AC-20:5-  0.530738  0.191970  0.376261             AC(20:5)   \n",
       "420       CE-20:4-_[+OH]  0.527121  0.183202  0.359076       CE(20:4) [+OH]   \n",
       "\n",
       "     pearson_r2  pearson_pval  model_fitting_r2  \n",
       "424    0.000940  2.196160e-01         -0.027788  \n",
       "423    0.017591  9.662530e-08          0.000928  \n",
       "422    0.013700  2.580600e-06          0.006240  \n",
       "421    0.012043  1.050935e-05          0.007069  \n",
       "420    0.016493  2.437478e-07         -0.011294  "
      ]
     },
     "execution_count": 122,
     "metadata": {},
     "output_type": "execute_result"
    }
   ],
   "source": [
    "df_h2.head(50).tail()"
   ]
  },
  {
   "cell_type": "code",
   "execution_count": 121,
   "id": "ad788641-09ce-4aee-a926-26887a9df720",
   "metadata": {},
   "outputs": [
    {
     "name": "stderr",
     "output_type": "stream",
     "text": [
      "INFO:root:# Load filtered SNPs\n",
      "INFO:root:# Get SNP dosage\n",
      "INFO:root:# Get dosage from CHR11\n"
     ]
    },
    {
     "name": "stdout",
     "output_type": "stream",
     "text": [
      "# Process 7/7"
     ]
    },
    {
     "name": "stderr",
     "output_type": "stream",
     "text": [
      "INFO:root:# Number of SNPs loaded: 7\n",
      "INFO:root:# DONE\n",
      "INFO:root:# Load trait values: TG-54:3-_[SIM]\n",
      "INFO:root:# Load filtered SNPs\n",
      "INFO:root:# Get SNP dosage\n",
      "INFO:root:# Get dosage from CHR11\n"
     ]
    },
    {
     "name": "stdout",
     "output_type": "stream",
     "text": [
      "# Model_ fitting r2: 0.04670831793959651\n",
      "# Pearson r2\n",
      "# Process 7/7"
     ]
    },
    {
     "name": "stderr",
     "output_type": "stream",
     "text": [
      "INFO:root:# Number of SNPs loaded: 7\n",
      "INFO:root:# DONE\n",
      "INFO:root:# Load trait values: TG-54:3-_[SIM]\n"
     ]
    },
    {
     "name": "stdout",
     "output_type": "stream",
     "text": [
      "# Pearson r2: 0.03449598264409439 ; Pearson pval: 1.0584299608721402e-06\n"
     ]
    }
   ],
   "source": [
    "lipid = 'TG-54:3-_[SIM]'\n",
    "\n",
    "# Test another lipid with high pearson r2\n",
    "# lipid = 'Hex3Cer-d18:1-22:0-'\n",
    "\n",
    "data_type = 'train'\n",
    "lipid_type = 'species'\n",
    "pval_threshold = 'pval_1e-07'\n",
    "maf_threshold = 'maf_0.01'\n",
    "\n",
    "snp_dir = f'/data100t1/home/wanying/CCHC/lipidomics/20231211_rerun/outputs/fastGWA/lipid_{lipid_type}_filter_by_{pval_threshold}_{maf_threshold}'\n",
    "snp_fn = f'{lipid}_SNPs.{pval_threshold}.{maf_threshold}.txt'\n",
    "df_dosage_all = load_dosage(snp_fn = snp_fn,\n",
    "                            snp_dir = snp_dir,\n",
    "                            lipid = lipid,\n",
    "                            dosage_dir = '/data100t1/home/wanying/CCHC/lipidomics/20231211_rerun/inputs/genotype_dosage/train/lipid_species',\n",
    "                            dosage_fn = 'lipid_species_chr*.pval_0.001_maf_0.05.vcf.dosage.gz')\n",
    "\n",
    "\n",
    "trait_fn = f'lipid_{lipid_type}_ID_matched.no_dup.residual.{data_type}.txt'\n",
    "df_trait, dict_trait_name_matching = load_trait_values(trait_dir = '/data100t1/home/wanying/CCHC/lipidomics/20231211_rerun/inputs/lipid_trait',\n",
    "                                                       trait_fn = trait_fn)\n",
    "df_dosage_all = df_dosage_all.set_index(keys='genotype_ID').reindex(df_trait['genotype_ID']).reset_index()\n",
    "\n",
    "# Train model\n",
    "X = df_dosage_all.iloc[:, 1:].values\n",
    "y = df_trait[dict_trait_name_matching[lipid]]\n",
    "\n",
    "n_estimators = 50\n",
    "regr = AdaBoostRegressor(random_state=0, n_estimators=n_estimators)\n",
    "regr.fit(X, y)\n",
    "print('# Model_ fitting r2:', regr.score(X, y))\n",
    "print('# Pearson r2')\n",
    "\n",
    "# Load dosage\n",
    "snp_dir = f'/data100t1/home/wanying/CCHC/lipidomics/20231211_rerun/outputs/fastGWA/lipid_{lipid_type}_filter_by_{pval_threshold}_{maf_threshold}'\n",
    "snp_fn = f'{lipid}_SNPs.{pval_threshold}.{maf_threshold}.txt'\n",
    "df_dosage_all = load_dosage(snp_fn = snp_fn,\n",
    "                            snp_dir = snp_dir,\n",
    "                            lipid = lipid,\n",
    "                            dosage_dir = '/data100t1/home/wanying/CCHC/lipidomics/20231211_rerun/inputs/genotype_dosage/test/lipid_species',\n",
    "                            dosage_fn = 'lipid_species_chr*.pval_0.001_maf_0.05.test.vcf.dosage.gz')\n",
    "\n",
    "data_type = 'test'\n",
    "trait_fn = f'lipid_{lipid_type}_ID_matched.no_dup.residual.{data_type}.txt'\n",
    "df_trait, dict_trait_name_matching = load_trait_values(trait_dir = '/data100t1/home/wanying/CCHC/lipidomics/20231211_rerun/inputs/lipid_trait',\n",
    "                                                       trait_fn = trait_fn)\n",
    "df_dosage_all = df_dosage_all.set_index(keys='genotype_ID').reindex(df_trait['genotype_ID']).reset_index()\n",
    "\n",
    "# Test model\n",
    "X = df_dosage_all.iloc[:, 1:].values\n",
    "y = df_trait[dict_trait_name_matching[lipid]]\n",
    "\n",
    "# Get predicted performance\n",
    "pearson_r, pearson_pval = stats.pearsonr(y, regr.predict(X))\n",
    "print('# Pearson r2:', pearson_r**2, '; Pearson pval:', pearson_pval)"
   ]
  },
  {
   "cell_type": "code",
   "execution_count": 124,
   "id": "e33e5fe4-f1fd-4b6a-888c-f0e83c83e7a4",
   "metadata": {},
   "outputs": [
    {
     "name": "stderr",
     "output_type": "stream",
     "text": [
      "INFO:root:# Load filtered SNPs\n",
      "INFO:root:# Get SNP dosage\n",
      "INFO:root:# Get dosage from CHR11\n"
     ]
    },
    {
     "name": "stdout",
     "output_type": "stream",
     "text": [
      "# Process 82/82"
     ]
    },
    {
     "name": "stderr",
     "output_type": "stream",
     "text": [
      "INFO:root:# Number of SNPs loaded: 82\n",
      "INFO:root:# DONE\n",
      "INFO:root:# Load trait values: AC-20:5-\n",
      "INFO:root:# Load filtered SNPs\n",
      "INFO:root:# Get SNP dosage\n",
      "INFO:root:# Get dosage from CHR11\n"
     ]
    },
    {
     "name": "stdout",
     "output_type": "stream",
     "text": [
      "# Model_ fitting r2: 0.07818065614003467\n",
      "# Pearson r2 0.0881129551759923\n",
      "# Process 82/82"
     ]
    },
    {
     "name": "stderr",
     "output_type": "stream",
     "text": [
      "INFO:root:# Number of SNPs loaded: 82\n",
      "INFO:root:# DONE\n",
      "INFO:root:# Load trait values: AC-20:5-\n"
     ]
    },
    {
     "name": "stdout",
     "output_type": "stream",
     "text": [
      "# Pearson r2: 0.044617955798424834 ; Pearson pval: 2.6211116808340287e-08\n"
     ]
    }
   ],
   "source": [
    "lipid = 'AC-20:5-'\n",
    "\n",
    "# Test another lipid with high pearson r2\n",
    "# lipid = 'Hex3Cer-d18:1-22:0-'\n",
    "\n",
    "data_type = 'train'\n",
    "lipid_type = 'species'\n",
    "pval_threshold = 'pval_1e-07'\n",
    "maf_threshold = 'maf_0.01'\n",
    "\n",
    "snp_dir = f'/data100t1/home/wanying/CCHC/lipidomics/20231211_rerun/outputs/fastGWA/lipid_{lipid_type}_filter_by_{pval_threshold}_{maf_threshold}'\n",
    "snp_fn = f'{lipid}_SNPs.{pval_threshold}.{maf_threshold}.txt'\n",
    "df_dosage_all = load_dosage(snp_fn = snp_fn,\n",
    "                            snp_dir = snp_dir,\n",
    "                            lipid = lipid,\n",
    "                            dosage_dir = '/data100t1/home/wanying/CCHC/lipidomics/20231211_rerun/inputs/genotype_dosage/train/lipid_species',\n",
    "                            dosage_fn = 'lipid_species_chr*.pval_0.001_maf_0.05.vcf.dosage.gz')\n",
    "\n",
    "\n",
    "trait_fn = f'lipid_{lipid_type}_ID_matched.no_dup.residual.{data_type}.txt'\n",
    "df_trait, dict_trait_name_matching = load_trait_values(trait_dir = '/data100t1/home/wanying/CCHC/lipidomics/20231211_rerun/inputs/lipid_trait',\n",
    "                                                       trait_fn = trait_fn)\n",
    "df_dosage_all = df_dosage_all.set_index(keys='genotype_ID').reindex(df_trait['genotype_ID']).reset_index()\n",
    "\n",
    "# Train model\n",
    "X = df_dosage_all.iloc[:, 1:].values\n",
    "y = df_trait[dict_trait_name_matching[lipid]]\n",
    "\n",
    "n_estimators = 50\n",
    "regr = AdaBoostRegressor(random_state=0, n_estimators=n_estimators)\n",
    "regr.fit(X, y)\n",
    "print('# Model_ fitting r2:', regr.score(X, y))\n",
    "print('# Pearson r2', stats.pearsonr(y, regr.predict(X))[0]**2)\n",
    "\n",
    "# Load dosage\n",
    "snp_dir = f'/data100t1/home/wanying/CCHC/lipidomics/20231211_rerun/outputs/fastGWA/lipid_{lipid_type}_filter_by_{pval_threshold}_{maf_threshold}'\n",
    "snp_fn = f'{lipid}_SNPs.{pval_threshold}.{maf_threshold}.txt'\n",
    "df_dosage_all = load_dosage(snp_fn = snp_fn,\n",
    "                            snp_dir = snp_dir,\n",
    "                            lipid = lipid,\n",
    "                            dosage_dir = '/data100t1/home/wanying/CCHC/lipidomics/20231211_rerun/inputs/genotype_dosage/test/lipid_species',\n",
    "                            dosage_fn = 'lipid_species_chr*.pval_0.001_maf_0.05.test.vcf.dosage.gz')\n",
    "\n",
    "data_type = 'test'\n",
    "trait_fn = f'lipid_{lipid_type}_ID_matched.no_dup.residual.{data_type}.txt'\n",
    "df_trait, dict_trait_name_matching = load_trait_values(trait_dir = '/data100t1/home/wanying/CCHC/lipidomics/20231211_rerun/inputs/lipid_trait',\n",
    "                                                       trait_fn = trait_fn)\n",
    "df_dosage_all = df_dosage_all.set_index(keys='genotype_ID').reindex(df_trait['genotype_ID']).reset_index()\n",
    "\n",
    "# Test model\n",
    "X = df_dosage_all.iloc[:, 1:].values\n",
    "y = df_trait[dict_trait_name_matching[lipid]]\n",
    "\n",
    "# Get predicted performance\n",
    "pearson_r, pearson_pval = stats.pearsonr(y, regr.predict(X))\n",
    "print('# Pearson r2:', pearson_r**2, '; Pearson pval:', pearson_pval)"
   ]
  },
  {
   "cell_type": "markdown",
   "id": "71561eb1",
   "metadata": {},
   "source": [
    "# 2. Use cross validation and grid search to tune parameters"
   ]
  },
  {
   "cell_type": "markdown",
   "id": "83ba9434",
   "metadata": {},
   "source": [
    "## 2.1 Test run of AdaBoost"
   ]
  },
  {
   "cell_type": "code",
   "execution_count": 121,
   "id": "4e087912",
   "metadata": {
    "ExecuteTime": {
     "end_time": "2024-01-15T06:08:54.408373Z",
     "start_time": "2024-01-15T06:08:54.292958Z"
    }
   },
   "outputs": [],
   "source": [
    "from sklearn.experimental import enable_halving_search_cv # Required for HalvingGridSearch\n",
    "from sklearn.model_selection import HalvingGridSearchCV\n",
    "from sklearn.model_selection import GridSearchCV\n",
    "import sys\n",
    "sys.path.insert(0, '/data100t1/home/wanying/CCHC/lipidomics/code/utils') # Search util first\n",
    "\n",
    "# Import functions from my mudule\n",
    "import load_dosage\n",
    "import load_trait_values\n",
    "import set_logging\n",
    "from sklearn.linear_model import LinearRegression, ElasticNet, Lasso"
   ]
  },
  {
   "cell_type": "code",
   "execution_count": 21,
   "id": "c2235fc0-4eed-4f2a-964c-091ae67ec891",
   "metadata": {},
   "outputs": [
    {
     "name": "stderr",
     "output_type": "stream",
     "text": [
      "INFO:root:# Load filtered SNPs based on GWAS pvalues\n",
      "INFO:root:# Get SNP dosage\n",
      "INFO:root:# - PASS\n",
      "INFO:root:# Get dosage from CHR5\n"
     ]
    },
    {
     "name": "stdout",
     "output_type": "stream",
     "text": [
      "# ############################## Load dosage ##############################\n",
      "# Process 10/11"
     ]
    },
    {
     "name": "stderr",
     "output_type": "stream",
     "text": [
      "INFO:root:# Get dosage from CHR19\n"
     ]
    },
    {
     "name": "stdout",
     "output_type": "stream",
     "text": [
      "# Process 11/11"
     ]
    },
    {
     "name": "stderr",
     "output_type": "stream",
     "text": [
      "INFO:root:# Number of SNPs loaded: 11\n",
      "INFO:root:# Number of SNPs not_found: 0\n",
      "INFO:root:# Number of multiallelic SNPs ignored: 0\n",
      "INFO:root:# DONE\n",
      "INFO:root:# Load trait values\n"
     ]
    },
    {
     "name": "stdout",
     "output_type": "stream",
     "text": [
      "\n",
      "# ############################## Load lipid trait ##############################\n",
      "\n",
      "# ############################## Reorder samples ##############################\n",
      "# - Reorder samples, remove sample with missing value\n",
      "# - Shape of lipid trait, dosage: (1606, 833) (1606, 12)\n"
     ]
    },
    {
     "data": {
      "text/html": [
       "<div>\n",
       "<style scoped>\n",
       "    .dataframe tbody tr th:only-of-type {\n",
       "        vertical-align: middle;\n",
       "    }\n",
       "\n",
       "    .dataframe tbody tr th {\n",
       "        vertical-align: top;\n",
       "    }\n",
       "\n",
       "    .dataframe thead th {\n",
       "        text-align: right;\n",
       "    }\n",
       "</style>\n",
       "<table border=\"1\" class=\"dataframe\">\n",
       "  <thead>\n",
       "    <tr style=\"text-align: right;\">\n",
       "      <th></th>\n",
       "      <th>RRID</th>\n",
       "      <th>genotype_ID</th>\n",
       "      <th>LABID</th>\n",
       "      <th>Sph(d18:1)</th>\n",
       "      <th>Sph(d18:2)</th>\n",
       "      <th>S1P(d16:1)</th>\n",
       "      <th>S1P(d18:0)</th>\n",
       "      <th>S1P(d18:1)</th>\n",
       "      <th>S1P(d18:2)</th>\n",
       "      <th>dhCer(d18:0/16:0)</th>\n",
       "      <th>...</th>\n",
       "      <th>TG(O-54:4) [NL-18:2]</th>\n",
       "      <th>Ubiquinone</th>\n",
       "      <th>CE(18:2) [+OH]</th>\n",
       "      <th>CE(20:4) [+OH]</th>\n",
       "      <th>LPC(18:2) [+OH]</th>\n",
       "      <th>LPC(20:4) [+OH]</th>\n",
       "      <th>LPC(22:6) [+OH]</th>\n",
       "      <th>PC(34:2) [+OH]</th>\n",
       "      <th>PC(36:4) [+OH]</th>\n",
       "      <th>PC(38:6) [+OH]</th>\n",
       "    </tr>\n",
       "  </thead>\n",
       "  <tbody>\n",
       "    <tr>\n",
       "      <th>0</th>\n",
       "      <td>BD0009</td>\n",
       "      <td>BD0009_BD4009</td>\n",
       "      <td>10Y0308</td>\n",
       "      <td>0.275791</td>\n",
       "      <td>0.549473</td>\n",
       "      <td>0.721941</td>\n",
       "      <td>1.557758</td>\n",
       "      <td>1.322990</td>\n",
       "      <td>0.270136</td>\n",
       "      <td>1.181562</td>\n",
       "      <td>...</td>\n",
       "      <td>-0.065122</td>\n",
       "      <td>0.033647</td>\n",
       "      <td>1.205709</td>\n",
       "      <td>0.897438</td>\n",
       "      <td>0.353739</td>\n",
       "      <td>0.117593</td>\n",
       "      <td>-0.357713</td>\n",
       "      <td>0.627687</td>\n",
       "      <td>-0.706694</td>\n",
       "      <td>-0.918218</td>\n",
       "    </tr>\n",
       "    <tr>\n",
       "      <th>1</th>\n",
       "      <td>BD0058</td>\n",
       "      <td>BD0058_BD4058</td>\n",
       "      <td>10Y0246</td>\n",
       "      <td>2.874146</td>\n",
       "      <td>2.689427</td>\n",
       "      <td>0.118917</td>\n",
       "      <td>1.633277</td>\n",
       "      <td>1.847306</td>\n",
       "      <td>1.474152</td>\n",
       "      <td>0.553985</td>\n",
       "      <td>...</td>\n",
       "      <td>-0.411708</td>\n",
       "      <td>0.301072</td>\n",
       "      <td>1.222128</td>\n",
       "      <td>1.754571</td>\n",
       "      <td>1.206090</td>\n",
       "      <td>1.780087</td>\n",
       "      <td>1.669920</td>\n",
       "      <td>-0.772111</td>\n",
       "      <td>1.120944</td>\n",
       "      <td>0.108486</td>\n",
       "    </tr>\n",
       "  </tbody>\n",
       "</table>\n",
       "<p>2 rows × 833 columns</p>\n",
       "</div>"
      ],
      "text/plain": [
       "     RRID    genotype_ID    LABID  Sph(d18:1)  Sph(d18:2)  S1P(d16:1)  \\\n",
       "0  BD0009  BD0009_BD4009  10Y0308    0.275791    0.549473    0.721941   \n",
       "1  BD0058  BD0058_BD4058  10Y0246    2.874146    2.689427    0.118917   \n",
       "\n",
       "   S1P(d18:0)  S1P(d18:1)  S1P(d18:2)  dhCer(d18:0/16:0)  ...  \\\n",
       "0    1.557758    1.322990    0.270136           1.181562  ...   \n",
       "1    1.633277    1.847306    1.474152           0.553985  ...   \n",
       "\n",
       "   TG(O-54:4) [NL-18:2]  Ubiquinone  CE(18:2) [+OH]  CE(20:4) [+OH]  \\\n",
       "0             -0.065122    0.033647        1.205709        0.897438   \n",
       "1             -0.411708    0.301072        1.222128        1.754571   \n",
       "\n",
       "   LPC(18:2) [+OH]  LPC(20:4) [+OH]  LPC(22:6) [+OH]  PC(34:2) [+OH]  \\\n",
       "0         0.353739         0.117593        -0.357713        0.627687   \n",
       "1         1.206090         1.780087         1.669920       -0.772111   \n",
       "\n",
       "   PC(36:4) [+OH]  PC(38:6) [+OH]  \n",
       "0       -0.706694       -0.918218  \n",
       "1        1.120944        0.108486  \n",
       "\n",
       "[2 rows x 833 columns]"
      ]
     },
     "metadata": {},
     "output_type": "display_data"
    },
    {
     "data": {
      "text/html": [
       "<div>\n",
       "<style scoped>\n",
       "    .dataframe tbody tr th:only-of-type {\n",
       "        vertical-align: middle;\n",
       "    }\n",
       "\n",
       "    .dataframe tbody tr th {\n",
       "        vertical-align: top;\n",
       "    }\n",
       "\n",
       "    .dataframe thead th {\n",
       "        text-align: right;\n",
       "    }\n",
       "</style>\n",
       "<table border=\"1\" class=\"dataframe\">\n",
       "  <thead>\n",
       "    <tr style=\"text-align: right;\">\n",
       "      <th></th>\n",
       "      <th>genotype_ID</th>\n",
       "      <th>chr5:132316836:A:C</th>\n",
       "      <th>chr5:132328945:T:A</th>\n",
       "      <th>chr5:132341354:G:T</th>\n",
       "      <th>chr5:132341949:A:G</th>\n",
       "      <th>chr5:132350453:G:A</th>\n",
       "      <th>chr5:132358384:T:C</th>\n",
       "      <th>chr5:132369766:C:G</th>\n",
       "      <th>chr5:132371737:G:A</th>\n",
       "      <th>chr5:132374707:A:C</th>\n",
       "      <th>chr5:132381358:G:A</th>\n",
       "      <th>chr19:47816091:A:T</th>\n",
       "    </tr>\n",
       "  </thead>\n",
       "  <tbody>\n",
       "    <tr>\n",
       "      <th>0</th>\n",
       "      <td>BD0009_BD4009</td>\n",
       "      <td>1</td>\n",
       "      <td>0</td>\n",
       "      <td>1</td>\n",
       "      <td>0</td>\n",
       "      <td>0</td>\n",
       "      <td>0</td>\n",
       "      <td>1</td>\n",
       "      <td>1</td>\n",
       "      <td>1</td>\n",
       "      <td>0</td>\n",
       "      <td>0</td>\n",
       "    </tr>\n",
       "    <tr>\n",
       "      <th>1</th>\n",
       "      <td>BD0058_BD4058</td>\n",
       "      <td>0</td>\n",
       "      <td>0</td>\n",
       "      <td>1</td>\n",
       "      <td>0</td>\n",
       "      <td>0</td>\n",
       "      <td>0</td>\n",
       "      <td>0.998</td>\n",
       "      <td>0.998</td>\n",
       "      <td>0.998</td>\n",
       "      <td>0</td>\n",
       "      <td>1</td>\n",
       "    </tr>\n",
       "  </tbody>\n",
       "</table>\n",
       "</div>"
      ],
      "text/plain": [
       "     genotype_ID chr5:132316836:A:C chr5:132328945:T:A chr5:132341354:G:T  \\\n",
       "0  BD0009_BD4009                  1                  0                  1   \n",
       "1  BD0058_BD4058                  0                  0                  1   \n",
       "\n",
       "  chr5:132341949:A:G chr5:132350453:G:A chr5:132358384:T:C chr5:132369766:C:G  \\\n",
       "0                  0                  0                  0                  1   \n",
       "1                  0                  0                  0              0.998   \n",
       "\n",
       "  chr5:132371737:G:A chr5:132374707:A:C chr5:132381358:G:A chr19:47816091:A:T  \n",
       "0                  1                  1                  0                  0  \n",
       "1              0.998              0.998                  0                  1  "
      ]
     },
     "metadata": {},
     "output_type": "display_data"
    },
    {
     "name": "stdout",
     "output_type": "stream",
     "text": [
      "# - Shape of X, y: (1606, 11) (1606,)\n"
     ]
    }
   ],
   "source": [
    "data_type = 'train'\n",
    "lipid_type = 'species'\n",
    "pval_threshold = 'pval_1e-07'\n",
    "maf_threshold = 'maf_0.01'\n",
    "lipid = 'AC-16:0--OH'\n",
    "\n",
    "print('#', '#' * 30, 'Load dosage', '#' * 30)\n",
    "set_logging.set_logging('test_run.log')\n",
    "\n",
    "dosage_dir = '/data100t1/home/wanying/CCHC/lipidomics/20231211_rerun/inputs/genotype_dosage/train/lipid_species'\n",
    "dosage_fn = 'lipid_species_chr*.pval_0.001_maf_0.05.vcf.dosage.gz'\n",
    "\n",
    "snp_dir = f'/data100t1/home/wanying/CCHC/lipidomics/20231211_rerun/outputs/fastGWA/lipid_{lipid_type}_filter_by_{pval_threshold}_{maf_threshold}'\n",
    "snp_fn = f'{lipid}_SNPs.{pval_threshold}.{maf_threshold}.txt'\n",
    "\n",
    "df_dosage = load_dosage.load_dosage(snp_dir, snp_fn,\n",
    "                                    dosage_dir = dosage_dir,\n",
    "                                    dosage_fn = dosage_fn)\n",
    "\n",
    "print('\\n#', '#' * 30, 'Load lipid trait', '#' * 30)\n",
    "# Load lipid trait\n",
    "trait_dir = '/data100t1/home/wanying/CCHC/lipidomics/20231211_rerun/inputs/lipid_trait'\n",
    "trait_fn = f'lipid_{lipid_type}_ID_matched.no_dup.residual.{data_type}.txt'\n",
    "fn_trait_name_matching = f'/data100t1/home/wanying/CCHC/lipidomics/20231211_rerun/inputs/lipid_trait/lipid_{lipid_type}.list'\n",
    "df_lipid_trait, dict_lipid_name_matching = load_trait_values.load_trait_values(trait_dir,\n",
    "                                                                               trait_fn,\n",
    "                                                                               fn_trait_name_matching)\n",
    "\n",
    "print('\\n#', '#' * 30, 'Reorder samples', '#' * 30)\n",
    "print('# - Reorder samples, remove sample with missing value')\n",
    "# Reorder dosage and trait dataframes\n",
    "# Take the shorter one between dosage and lipid measure to avoid missing values\n",
    "if len(df_dosage) < len(df_lipid_trait):\n",
    "    df_lipid_trait = df_lipid_trait.set_index(keys='genotype_ID').reindex(df_dosage['genotype_ID']).reset_index()\n",
    "else:\n",
    "    df_dosage = df_dosage.set_index(keys='genotype_ID').reindex(df_lipid_trait['genotype_ID']).reset_index()\n",
    "print('# - Shape of lipid trait, dosage:', df_lipid_trait.shape, df_dosage.shape)\n",
    "display(df_lipid_trait.head(2))\n",
    "display(df_dosage.head(2))\n",
    "\n",
    "# Create X, y for model training\n",
    "X = df_dosage.iloc[:, 1:].values\n",
    "y = df_lipid_trait[dict_lipid_name_matching[lipid]]\n",
    "print('# - Shape of X, y:', X.shape, y.shape)"
   ]
  },
  {
   "cell_type": "code",
   "execution_count": 113,
   "id": "71b779e3-24f9-43cc-8efb-c46dd64e8084",
   "metadata": {
    "tags": []
   },
   "outputs": [
    {
     "name": "stdout",
     "output_type": "stream",
     "text": [
      "\n",
      "# #################### Test run of AC-16:0--OH ####################\n",
      "# - Estimator: DT regressor\n",
      "# HalvingGridSearchCV\n",
      "{'learning_rate': 0.2, 'n_estimators': 100}\n",
      "-0.07811081965692737\n",
      "0.05066722030860116\n",
      "\n",
      "# GridSearchCV\n",
      "{'learning_rate': 1, 'n_estimators': 20}\n",
      "-0.06322441264862368\n",
      "0.0509886727087564\n"
     ]
    },
    {
     "data": {
      "text/plain": [
       "Text(0.5, 1.0, 'GridSearchCV')"
      ]
     },
     "execution_count": 113,
     "metadata": {},
     "output_type": "execute_result"
    },
    {
     "data": {
      "image/png": "[encoded data removed]",
      "text/plain": [
       "<Figure size 864x360 with 2 Axes>"
      ]
     },
     "metadata": {
      "needs_background": "light"
     },
     "output_type": "display_data"
    }
   ],
   "source": [
    "print('\\n#', '#' * 20, f'Test run of {lipid}', '#' * 20)\n",
    "print('# - Estimator: DT regressor')\n",
    "regr = AdaBoostRegressor(random_state=0)\n",
    "\n",
    "param_grid = {'n_estimators':[20, 50, 100, 200],\n",
    "              'learning_rate':[0.1, 0.2, 0.3, 0.4, 0.5, 0.6, 0.7, 0.8, 0.9, 1]}\n",
    "\n",
    "fig, ax = plt.subplots(ncols=2, figsize=(12, 4), sharey=True)\n",
    "\n",
    "print('# HalvingGridSearchCV')\n",
    "search = HalvingGridSearchCV(estimator=regr, param_grid=param_grid, cv=10, n_jobs=8, random_state=1).fit(X, y)\n",
    "print(search.best_params_)\n",
    "print(search.best_score_)\n",
    "df_halving = pd.DataFrame(search.cv_results_)\n",
    "print(search.score(X, y))\n",
    "ax[0].plot(y.values, search.predict(X), ls='', marker='.')\n",
    "ax[0].set_xlabel('True')\n",
    "ax[0].set_xlabel('Pred')\n",
    "ax[0].set_title('HalvingGridSearchCV')\n",
    "\n",
    "print('\\n# GridSearchCV')\n",
    "search = GridSearchCV(estimator=regr, param_grid=param_grid, cv=10, n_jobs=8).fit(X, y)\n",
    "print(search.best_params_)\n",
    "print(search.best_score_)\n",
    "df_gridsearch = pd.DataFrame(search.cv_results_)\n",
    "print(search.score(X, y))\n",
    "ax[1].plot(y.values, search.predict(X), ls='', marker='.')\n",
    "ax[1].set_xlabel('True')\n",
    "ax[1].set_xlabel('Pred')\n",
    "ax[1].set_title('GridSearchCV')"
   ]
  },
  {
   "cell_type": "code",
   "execution_count": 116,
   "id": "be8380fe-fa24-499e-a2bf-8a5558c60f71",
   "metadata": {},
   "outputs": [
    {
     "name": "stdout",
     "output_type": "stream",
     "text": [
      "# - Estimator: OLS linear regressor\n",
      "# HalvingGridSearchCV\n",
      "{'learning_rate': 0.4, 'n_estimators': 200}\n",
      "-0.06791569102474422\n",
      "0.042877012052299324\n",
      "\n",
      "# GridSearchCV\n",
      "{'learning_rate': 0.4, 'n_estimators': 20}\n",
      "-0.06092604231182382\n",
      "0.043591703333823784\n"
     ]
    },
    {
     "data": {
      "text/plain": [
       "Text(0.5, 1.0, 'GridSearchCV')"
      ]
     },
     "execution_count": 116,
     "metadata": {},
     "output_type": "execute_result"
    },
    {
     "data": {
      "image/png": "[encoded data removed]",
      "text/plain": [
       "<Figure size 864x288 with 2 Axes>"
      ]
     },
     "metadata": {
      "needs_background": "light"
     },
     "output_type": "display_data"
    }
   ],
   "source": [
    "print('# - Estimator: OLS linear regressor')\n",
    "base_estimator = LinearRegression()\n",
    "\n",
    "regr = AdaBoostRegressor(random_state=0, estimator=base_estimator)\n",
    "\n",
    "param_grid = {'n_estimators':[20, 50, 100, 200],\n",
    "              'learning_rate':[0.1, 0.2, 0.3, 0.4, 0.5, 0.6, 0.7, 0.8, 0.9, 1]}\n",
    "\n",
    "fig, ax = plt.subplots(ncols=2, figsize=(12, 4), sharey=True)\n",
    "\n",
    "print('# HalvingGridSearchCV')\n",
    "search = HalvingGridSearchCV(estimator=regr, param_grid=param_grid, cv=10, n_jobs=8, random_state=1).fit(X, y)\n",
    "print(search.best_params_)\n",
    "print(search.best_score_)\n",
    "df_halving = pd.DataFrame(search.cv_results_)\n",
    "print(search.score(X, y))\n",
    "ax[0].plot(y.values, search.predict(X), ls='', marker='.')\n",
    "ax[0].set_xlabel('True')\n",
    "ax[0].set_xlabel('Pred')\n",
    "ax[0].set_title('HalvingGridSearchCV')\n",
    "\n",
    "print('\\n# GridSearchCV')\n",
    "search = GridSearchCV(estimator=regr, param_grid=param_grid, cv=10, n_jobs=8).fit(X, y)\n",
    "print(search.best_params_)\n",
    "print(search.best_score_)\n",
    "df_gridsearch = pd.DataFrame(search.cv_results_)\n",
    "print(search.score(X, y))\n",
    "ax[1].plot(y.values, search.predict(X), ls='', marker='.')\n",
    "ax[1].set_xlabel('True')\n",
    "ax[1].set_xlabel('Pred')\n",
    "ax[1].set_title('GridSearchCV')"
   ]
  },
  {
   "cell_type": "code",
   "execution_count": 118,
   "id": "f232a7b0-f40c-41e8-9167-2dfac94cac11",
   "metadata": {},
   "outputs": [
    {
     "name": "stdout",
     "output_type": "stream",
     "text": [
      "# - Estimator: elastic net\n",
      "# HalvingGridSearchCV\n",
      "{'learning_rate': 0.8, 'n_estimators': 50}\n",
      "-0.09864748508753632\n",
      "-0.0001324288283128805\n",
      "\n",
      "# GridSearchCV\n",
      "{'learning_rate': 1, 'n_estimators': 20}\n",
      "-0.0951168476265228\n",
      "-1.2001076481471529e-06\n"
     ]
    },
    {
     "data": {
      "text/plain": [
       "Text(0.5, 1.0, 'GridSearchCV')"
      ]
     },
     "execution_count": 118,
     "metadata": {},
     "output_type": "execute_result"
    },
    {
     "data": {
      "image/png": "[encoded data removed]",
      "text/plain": [
       "<Figure size 864x288 with 2 Axes>"
      ]
     },
     "metadata": {
      "needs_background": "light"
     },
     "output_type": "display_data"
    }
   ],
   "source": [
    "print('# - Estimator: elastic net')\n",
    "base_estimator = ElasticNet()\n",
    "\n",
    "regr = AdaBoostRegressor(random_state=0, estimator=base_estimator)\n",
    "\n",
    "param_grid = {'n_estimators':[20, 50, 100, 200],\n",
    "              'learning_rate':[0.1, 0.2, 0.3, 0.4, 0.5, 0.6, 0.7, 0.8, 0.9, 1]}\n",
    "\n",
    "fig, ax = plt.subplots(ncols=2, figsize=(12, 4), sharey=True)\n",
    "\n",
    "print('# HalvingGridSearchCV')\n",
    "search = HalvingGridSearchCV(estimator=regr, param_grid=param_grid, cv=10, n_jobs=8, random_state=1).fit(X, y)\n",
    "print(search.best_params_)\n",
    "print(search.best_score_)\n",
    "df_halving = pd.DataFrame(search.cv_results_)\n",
    "print(search.score(X, y))\n",
    "ax[0].plot(y.values, search.predict(X), ls='', marker='.')\n",
    "ax[0].set_xlabel('True')\n",
    "ax[0].set_xlabel('Pred')\n",
    "ax[0].set_title('HalvingGridSearchCV')\n",
    "\n",
    "print('\\n# GridSearchCV')\n",
    "search = GridSearchCV(estimator=regr, param_grid=param_grid, cv=10, n_jobs=8).fit(X, y)\n",
    "print(search.best_params_)\n",
    "print(search.best_score_)\n",
    "df_gridsearch = pd.DataFrame(search.cv_results_)\n",
    "print(search.score(X, y))\n",
    "ax[1].plot(y.values, search.predict(X), ls='', marker='.')\n",
    "ax[1].set_xlabel('True')\n",
    "ax[1].set_xlabel('Pred')\n",
    "ax[1].set_title('GridSearchCV')"
   ]
  },
  {
   "cell_type": "code",
   "execution_count": 122,
   "id": "9f107223-e2ea-478f-931a-542f78e7fc36",
   "metadata": {},
   "outputs": [
    {
     "name": "stdout",
     "output_type": "stream",
     "text": [
      "# - Estimator: elastic net\n",
      "# HalvingGridSearchCV\n",
      "{'learning_rate': 0.8, 'n_estimators': 50}\n",
      "-0.09864748508753632\n",
      "-0.0001324288283128805\n",
      "\n",
      "# GridSearchCV\n",
      "{'learning_rate': 1, 'n_estimators': 20}\n",
      "-0.0951168476265228\n",
      "-1.2001076481471529e-06\n"
     ]
    },
    {
     "data": {
      "text/plain": [
       "Text(0.5, 1.0, 'GridSearchCV')"
      ]
     },
     "execution_count": 122,
     "metadata": {},
     "output_type": "execute_result"
    },
    {
     "data": {
      "image/png": "[encoded data removed]",
      "text/plain": [
       "<Figure size 864x288 with 2 Axes>"
      ]
     },
     "metadata": {
      "needs_background": "light"
     },
     "output_type": "display_data"
    }
   ],
   "source": [
    "print('# - Estimator: elastic net')\n",
    "base_estimator = Lasso()\n",
    "\n",
    "regr = AdaBoostRegressor(random_state=0, estimator=base_estimator)\n",
    "\n",
    "param_grid = {'n_estimators':[20, 50, 100, 200],\n",
    "              'learning_rate':[0.1, 0.2, 0.3, 0.4, 0.5, 0.6, 0.7, 0.8, 0.9, 1]}\n",
    "\n",
    "fig, ax = plt.subplots(ncols=2, figsize=(12, 4), sharey=True)\n",
    "\n",
    "print('# HalvingGridSearchCV')\n",
    "search = HalvingGridSearchCV(estimator=regr, param_grid=param_grid, cv=10, n_jobs=8, random_state=1).fit(X, y)\n",
    "print(search.best_params_)\n",
    "print(search.best_score_)\n",
    "df_halving = pd.DataFrame(search.cv_results_)\n",
    "print(search.score(X, y))\n",
    "ax[0].plot(y.values, search.predict(X), ls='', marker='.')\n",
    "ax[0].set_xlabel('True')\n",
    "ax[0].set_xlabel('Pred')\n",
    "ax[0].set_title('HalvingGridSearchCV')\n",
    "\n",
    "print('\\n# GridSearchCV')\n",
    "search = GridSearchCV(estimator=regr, param_grid=param_grid, cv=10, n_jobs=8).fit(X, y)\n",
    "print(search.best_params_)\n",
    "print(search.best_score_)\n",
    "df_gridsearch = pd.DataFrame(search.cv_results_)\n",
    "print(search.score(X, y))\n",
    "ax[1].plot(y.values, search.predict(X), ls='', marker='.')\n",
    "ax[1].set_xlabel('True')\n",
    "ax[1].set_xlabel('Pred')\n",
    "ax[1].set_title('GridSearchCV')"
   ]
  },
  {
   "cell_type": "markdown",
   "id": "00e2df85-45c7-41e3-878b-4f76d2a44cba",
   "metadata": {},
   "source": [
    "## 2.2 Test run of gradient boosting\n",
    "Gradient boosting function does not accept other base estimtors.\n",
    "It uses decision tree regressor, which might be the best option in many cases"
   ]
  },
  {
   "cell_type": "code",
   "execution_count": 124,
   "id": "102be74c-6626-46b1-ad28-02c8d63e1e41",
   "metadata": {},
   "outputs": [
    {
     "name": "stdout",
     "output_type": "stream",
     "text": [
      "\n",
      "# ########## Test run of AC-16:0--OH using gradient boosting ##########\n",
      "# - Estimator: DT regressor\n",
      "# HalvingGridSearchCV\n",
      "{'learning_rate': 0.1, 'n_estimators': 20}\n",
      "-0.079162674293823\n",
      "0.07128524528022795\n",
      "\n",
      "# GridSearchCV\n",
      "{'learning_rate': 0.1, 'n_estimators': 20}\n",
      "-0.07673847032446729\n",
      "0.07128524528022795\n"
     ]
    },
    {
     "data": {
      "text/plain": [
       "Text(0.5, 1.0, 'GridSearchCV')"
      ]
     },
     "execution_count": 124,
     "metadata": {},
     "output_type": "execute_result"
    },
    {
     "data": {
      "image/png": "[encoded data removed]",
      "text/plain": [
       "<Figure size 864x288 with 2 Axes>"
      ]
     },
     "metadata": {
      "needs_background": "light"
     },
     "output_type": "display_data"
    }
   ],
   "source": [
    "print('\\n#', '#' * 10, f'Test run of {lipid} using gradient boosting', '#' * 10)\n",
    "print('# - Estimator: DT regressor')\n",
    "regr = GradientBoostingRegressor(random_state=0)\n",
    "\n",
    "param_grid = {'n_estimators':[20, 50, 100, 200],\n",
    "              'learning_rate':[0.1, 0.2, 0.3, 0.4, 0.5, 0.6, 0.7, 0.8, 0.9, 1]}\n",
    "\n",
    "fig, ax = plt.subplots(ncols=2, figsize=(12, 4), sharey=True)\n",
    "\n",
    "print('# HalvingGridSearchCV')\n",
    "search = HalvingGridSearchCV(estimator=regr, param_grid=param_grid, cv=10, n_jobs=8, random_state=1).fit(X, y)\n",
    "print(search.best_params_)\n",
    "print(search.best_score_)\n",
    "df_halving = pd.DataFrame(search.cv_results_)\n",
    "print(search.score(X, y))\n",
    "ax[0].plot(y.values, search.predict(X), ls='', marker='.')\n",
    "ax[0].set_xlabel('True')\n",
    "ax[0].set_xlabel('Pred')\n",
    "ax[0].set_title('HalvingGridSearchCV')\n",
    "\n",
    "print('\\n# GridSearchCV')\n",
    "search = GridSearchCV(estimator=regr, param_grid=param_grid, cv=10, n_jobs=8).fit(X, y)\n",
    "print(search.best_params_)\n",
    "print(search.best_score_)\n",
    "df_gridsearch = pd.DataFrame(search.cv_results_)\n",
    "print(search.score(X, y))\n",
    "ax[1].plot(y.values, search.predict(X), ls='', marker='.')\n",
    "ax[1].set_xlabel('True')\n",
    "ax[1].set_xlabel('Pred')\n",
    "ax[1].set_title('GridSearchCV')"
   ]
  }
 ],
 "metadata": {
  "kernelspec": {
   "display_name": "Python 3",
   "language": "python",
   "name": "python3"
  },
  "language_info": {
   "codemirror_mode": {
    "name": "ipython",
    "version": 3
   },
   "file_extension": ".py",
   "mimetype": "text/x-python",
   "name": "python",
   "nbconvert_exporter": "python",
   "pygments_lexer": "ipython3",
   "version": "3.9.7"
  }
 },
 "nbformat": 4,
 "nbformat_minor": 5
}
