{
 "cells": [
  {
   "cell_type": "code",
   "execution_count": 1,
   "metadata": {
    "ExecuteTime": {
     "end_time": "2024-01-03T07:08:55.303995Z",
     "start_time": "2024-01-03T07:08:50.868775Z"
    },
    "collapsed": true
   },
   "outputs": [
    {
     "name": "stdout",
     "output_type": "stream",
     "text": [
      "Last run 2024-01-03\n"
     ]
    }
   ],
   "source": [
    "import pandas as pd\n",
    "import datetime\n",
    "import os\n",
    "print('Last run', datetime.datetime.now().strftime('%Y-%m-%d'))"
   ]
  },
  {
   "cell_type": "markdown",
   "metadata": {
    "collapsed": false
   },
   "source": [
    "# 1. Create a master file containing all filtered GWAS snps"
   ]
  },
  {
   "cell_type": "code",
   "execution_count": 2,
   "metadata": {
    "ExecuteTime": {
     "end_time": "2024-01-01T04:33:04.015925Z",
     "start_time": "2024-01-01T04:33:04.012792Z"
    },
    "collapsed": false
   },
   "outputs": [],
   "source": [
    "def merge_gwas_snps(input_dir, input_suffix, output_fn, output_dir=None):\n",
    "    '''\n",
    "    :param\n",
    "        - input_dir: input directory with filtered fastGWA output files\n",
    "        - input_suffix: suffix of input file\n",
    "    :return: Save merged file in the same directory\n",
    "    '''\n",
    "    print()\n",
    "    if output_dir is None:\n",
    "        output_dir = os.path.expanduser(input_dir)\n",
    "        if os.path.isfile(os.path.join(output_dir, output_fn)):\n",
    "            os.remove(os.path.join(output_dir, output_fn))\n",
    "\n",
    "    total = 0 # Get total number of files to be processed\n",
    "\n",
    "    for fn in os.listdir(os.path.expanduser(input_dir)):\n",
    "        if fn.endswith(input_suffix):\n",
    "            total += 1\n",
    "    c = 0\n",
    "    lst_dfs = []\n",
    "    cols_to_save = ['CHR', 'SNP', 'POS', 'A1', 'A2', 'N', 'AF1']\n",
    "    for fn in os.listdir(os.path.expanduser(input_dir)):\n",
    "        if fn.endswith(input_suffix):\n",
    "            lst_dfs.append(pd.read_csv(os.path.join(input_dir, fn), sep='\\t')[cols_to_save])\n",
    "            # if c==0: # If the first file\n",
    "            #     df = pd.read_csv(os.path.join(input_dir, fn), sep='\\t')[cols_to_save]\n",
    "            # else:\n",
    "            #     df_tmp = pd.read_csv(os.path.join(input_dir, fn), sep='\\t')[cols_to_save]\n",
    "            #     df = pd.concat([df, df_tmp]).drop_duplicates(subset=['SNP'])\n",
    "            c += 1\n",
    "            print(f'\\r# File processed: {c}/{total}    ', flush=True, end='')\n",
    "    print('\\n# - Concat dfs and save to output')\n",
    "    df = pd.concat(lst_dfs).drop_duplicates(subset='SNP').sort_values(by=['CHR', 'POS'])\n",
    "    df.to_csv(os.path.join(output_dir, output_fn), sep='\\t', index=False)\n",
    "    return df"
   ]
  },
  {
   "cell_type": "code",
   "execution_count": 8,
   "metadata": {
    "ExecuteTime": {
     "end_time": "2023-12-22T08:52:24.156886Z",
     "start_time": "2023-12-22T08:52:09.085823Z"
    },
    "collapsed": false
   },
   "outputs": [
    {
     "name": "stdout",
     "output_type": "stream",
     "text": [
      "\n",
      "# File processed: 49/49    \n",
      "# - Concat dfs and save to output\n",
      "# Filter by pval<0.05 (1400163, 7)\n",
      "\n",
      "# File processed: 49/49    \n",
      "# - Concat dfs and save to output\n",
      "# Filter by pval<0.05 adn MAF>0.01 (280013, 7)\n",
      "\n",
      "# File processed: 49/49    \n",
      "# - Concat dfs and save to output\n",
      "# Filter by pval<0.05 adn MAF>0.05 (193613, 7)\n"
     ]
    }
   ],
   "source": [
    "# Merged SNPs of GWAS on lipid class, for step 2: subset dosage files\n",
    "# Optional, but could speed up training process\n",
    "# Only need to do this on filtered SNP file using p value threshold of 1e-3\n",
    "df_lipid_class_pval005 = merge_gwas_snps(input_dir='~/CCHC/lipidomics/20231211_rerun/outputs/fastGWA/lipid_class_filter_by_pval_1e-3',\n",
    "                                                input_suffix='.pval_0.001.txt',\n",
    "                                                output_fn='all_SNPs.pval_0.001.txt',\n",
    "                                                output_dir=None)\n",
    "print('# Filter by pval<0.05', df_lipid_class_pval005.shape)\n",
    "\n",
    "df_lipid_class_pval005_maf001 = merge_gwas_snps(input_dir='~/CCHC/lipidomics/20231211_rerun/outputs/fastGWA/lipid_class_filter_by_pval_1e-3_MAF_1e-2',\n",
    "                                                output_fn='all_SNPs.pval_0.001_maf_0.01.txt',\n",
    "                                                input_suffix='.pval_0.001.maf_0.01.txt',\n",
    "                                                output_dir=None)\n",
    "print('# Filter by pval<0.05 and MAF>0.01', df_lipid_class_pval005_maf001.shape)\n",
    "\n",
    "df_lipid_class_pval005_maf005 = merge_gwas_snps(input_dir='~/CCHC/lipidomics/20231211_rerun/outputs/fastGWA/lipid_class_filter_by_pval_1e-3_MAF_5e-2',\n",
    "                                                output_fn='all_SNPs.pval_0.001_maf_0.05.txt',\n",
    "                                                input_suffix='.pval_0.001.maf_0.05.txt',\n",
    "                                                output_dir=None)\n",
    "print('# Filter by pval<0.05 and MAF>0.05', df_lipid_class_pval005_maf005.shape)\n",
    "\n",
    "\n"
   ]
  },
  {
   "cell_type": "code",
   "execution_count": 9,
   "metadata": {
    "ExecuteTime": {
     "end_time": "2023-12-22T08:57:08.909900Z",
     "start_time": "2023-12-22T08:52:53.169116Z"
    },
    "collapsed": false
   },
   "outputs": [
    {
     "name": "stdout",
     "output_type": "stream",
     "text": [
      "\n",
      "# File processed: 830/830    \n",
      "# - Concat dfs and save to output\n",
      "# Filter by pval<0.05 (8925292, 7)\n",
      "\n",
      "# File processed: 830/830    \n",
      "# - Concat dfs and save to output\n",
      "# Filter by pval<0.05 adn MAF>0.01 (1845793, 7)\n",
      "\n",
      "# File processed: 830/830    \n",
      "# - Concat dfs and save to output\n",
      "# Filter by pval<0.05 adn MAF>0.05 (1263037, 7)\n"
     ]
    }
   ],
   "source": [
    "# Merged SNPs of GWAS on lipid species\n",
    "df_lipid_species_pval005 = merge_gwas_snps(input_dir='~/CCHC/lipidomics/20231211_rerun/outputs/fastGWA/lipid_species_filter_by_pval_1e-3',\n",
    "                                                input_suffix='.pval_0.001.txt',\n",
    "                                                output_fn='all_SNPs.pval_0.001.txt',\n",
    "                                                output_dir=None)\n",
    "print('# Filter by pval<0.05', df_lipid_species_pval005.shape)\n",
    "\n",
    "df_lipid_species_pval005_maf001 = merge_gwas_snps(input_dir='~/CCHC/lipidomics/20231211_rerun/outputs/fastGWA/lipid_species_filter_by_pval_1e-3_MAF_1e-2',\n",
    "                                                output_fn='all_SNPs.pval_0.001_maf_0.01.txt',\n",
    "                                                input_suffix='.pval_0.001.maf_0.01.txt',\n",
    "                                                output_dir=None)\n",
    "print('# Filter by pval<0.05 and MAF>0.01', df_lipid_species_pval005_maf001.shape)\n",
    "\n",
    "df_lipid_species_pval005_maf005 = merge_gwas_snps(input_dir='~/CCHC/lipidomics/20231211_rerun/outputs/fastGWA/lipid_species_filter_by_pval_1e-3_MAF_5e-2',\n",
    "                                                output_fn='all_SNPs.pval_0.001_maf_0.05.txt',\n",
    "                                                input_suffix='.pval_0.001.maf_0.05.txt',\n",
    "                                                output_dir=None)\n",
    "print('# Filter by pval<0.05 and MAF>0.05', df_lipid_species_pval005_maf005.shape)\n"
   ]
  },
  {
   "cell_type": "markdown",
   "metadata": {
    "collapsed": false
   },
   "source": [
    "# 2. Get dosage from vcfs\n",
    "(based on merged filtered files. Multiallelic sites will be skipped) \\\n",
    "Do the same for train and test files"
   ]
  },
  {
   "cell_type": "code",
   "execution_count": 1,
   "metadata": {
    "collapsed": false
   },
   "outputs": [],
   "source": [
    "%%bash\n",
    "# Modified from ~/CCHC/lipidomics/code/3-1_extract_snps_and_get_dosage.py\n",
    "# Saved in ~/CCHC/lipidomics/20231211_rerun/code/ML_02_extract_snps_and_get_dosage.py\n",
    "# Run in terminal\n",
    "\n",
    "# Lipid class\n",
    "python ML_02_extract_snps_and_get_dosage.py \\\n",
    "--input_dir /data100t1/home/wanying/CCHC/lipidomics/input_docs/lipidomic_sample_vcfs/202312_redo_training_vcfs \\\n",
    "--input_fn max_unrelated_set_chr*.vcf.gz  \\\n",
    "--output_dir /data100t1/home/wanying/CCHC/lipidomics/20231211_rerun/inputs/genotype_dosage/train/lipid_class \\\n",
    "--output_fn lipid_class_chr*.pval_0.001_maf_0.05.vcf \\\n",
    "--result_dir /data100t1/home/wanying/CCHC/lipidomics/20231211_rerun/outputs/fastGWA/lipid_class_filter_by_pval_1e-3 \\\n",
    "--all_snps_fn all_SNPs.pval_0.001.txt \\\n",
    "--chr_range 1-22 # or something like --chr_range 3\n",
    "\n",
    "# Lipid species\n",
    "python ML_02_extract_snps_and_get_dosage.py \\\n",
    "--input_dir /data100t1/home/wanying/CCHC/lipidomics/input_docs/lipidomic_sample_vcfs/202312_redo_training_vcfs \\\n",
    "--input_fn max_unrelated_set_chr*.vcf.gz  \\\n",
    "--output_dir /data100t1/home/wanying/CCHC/lipidomics/20231211_rerun/inputs/genotype_dosage/train/lipid_species \\\n",
    "--output_fn lipid_species_chr*.pval_0.001_maf_0.05.vcf \\\n",
    "--result_dir /data100t1/home/wanying/CCHC/lipidomics/20231211_rerun/outputs/fastGWA/lipid_species_filter_by_pval_1e-3 \\\n",
    "--all_snps_fn all_SNPs.pval_0.001.txt \\\n",
    "--chr_range 1-22\n"
   ]
  },
  {
   "cell_type": "code",
   "execution_count": null,
   "metadata": {
    "collapsed": false
   },
   "outputs": [],
   "source": [
    "%%bash\n",
    "# bgzip and tabix index dosage files\n",
    "fn=lipid_species_chr9.pval_0.001_maf_0.05.vcf.dosage.gz\n",
    "tabix -b 2 -e 2 -f $fn"
   ]
  },
  {
   "cell_type": "code",
   "execution_count": null,
   "metadata": {
    "collapsed": false
   },
   "outputs": [],
   "source": [
    "%%bash\n",
    "# For test vcfs\n",
    "# /data100t1/home/wanying/CCHC/lipidomics/input_docs/lipidomic_sample_vcfs/202312_redo_test_vcfs/test_set_chr*.vcf.gz\n",
    "\n",
    "# Lipid class\n",
    "python ML_02_extract_snps_and_get_dosage.py \\\n",
    "--input_dir /data100t1/home/wanying/CCHC/lipidomics/input_docs/lipidomic_sample_vcfs/202312_redo_test_vcfs \\\n",
    "--input_fn test_set_chr*.vcf.gz  \\\n",
    "--output_dir /data100t1/home/wanying/CCHC/lipidomics/20231211_rerun/inputs/genotype_dosage/test/lipid_class \\\n",
    "--output_fn lipid_class_chr*.pval_0.001_maf_0.05.test.vcf \\\n",
    "--result_dir /data100t1/home/wanying/CCHC/lipidomics/20231211_rerun/outputs/fastGWA/lipid_class_filter_by_pval_1e-03 \\\n",
    "--all_snps_fn all_SNPs.pval_1e-03.txt \\\n",
    "--chr_range 1-22 # or something like --chr_range 3\n",
    "\n",
    "# Lipid species\n",
    "python ML_02_extract_snps_and_get_dosage.py \\\n",
    "--input_dir /data100t1/home/wanying/CCHC/lipidomics/input_docs/lipidomic_sample_vcfs/202312_redo_test_vcfs \\\n",
    "--input_fn test_set_chr*.vcf.gz  \\\n",
    "--output_dir /data100t1/home/wanying/CCHC/lipidomics/20231211_rerun/inputs/genotype_dosage/test/lipid_species/tmp \\\n",
    "--output_fn lipid_species_chr*.pval_0.001_maf_0.05.test.vcf \\\n",
    "--result_dir /data100t1/home/wanying/CCHC/lipidomics/20231211_rerun/outputs/fastGWA/lipid_species_filter_by_pval_1e-03 \\\n",
    "--all_snps_fn all_SNPs.pval_1e-03.txt \\\n",
    "--chr_range 1-22"
   ]
  },
  {
   "cell_type": "markdown",
   "metadata": {
    "collapsed": false
   },
   "source": [
    "# 3. Format trait file"
   ]
  },
  {
   "cell_type": "code",
   "execution_count": 33,
   "metadata": {
    "ExecuteTime": {
     "end_time": "2023-12-28T23:21:57.307687Z",
     "start_time": "2023-12-28T23:21:54.965303Z"
    },
    "collapsed": false
   },
   "outputs": [
    {
     "name": "stdout",
     "output_type": "stream",
     "text": [
      "# Lipid class file saved: /data100t1/home/wanying/CCHC/lipidomics/20231211_rerun/inputs/lipid_trait/lipid_class_ID_matched.no_dup.residual.train.txt\n",
      "# Lipid species file saved: /data100t1/home/wanying/CCHC/lipidomics/20231211_rerun/inputs/lipid_trait/lipid_species_ID_matched.no_dup.residual.train.txt\n"
     ]
    }
   ],
   "source": [
    "# Use residuals of lipidomics measures\n",
    "# Rows are samples, columns are lipid traits\n",
    "# Must have a column \"genotype_ID\" matching genotype IDs\n",
    "id_mapping_fn = '/data100t1/home/wanying/CCHC/doc/samples_IDs/20220916_IDs_genotyped_all.txt'\n",
    "output_dir = '/data100t1/home/wanying/CCHC/lipidomics/20231211_rerun/inputs/lipid_trait'\n",
    "df_id_mapping = pd.read_csv(id_mapping_fn, sep='\\t')\n",
    "\n",
    "for lip_type in ['class', 'species']:\n",
    "    trait_fn = f'/data100t1/home/wanying/CCHC/lipidomics/input_docs/lipidomic_measures/lipid_{lip_type}_with_covar.no_dup.residual.train.txt'\n",
    "    output_fn = os.path.join(output_dir, f'lipid_{lip_type}_ID_matched.no_dup.residual.train.txt')\n",
    "    df_trait = pd.read_csv(trait_fn, sep='\\t')\n",
    "    if not os.path.isfile(output_fn):\n",
    "        print(f'# Lipid {lip_type} file saved: {output_fn}')\n",
    "        df_id_mapping.merge(df_trait, on='RRID').to_csv(output_fn, sep='\\t', index=False)\n",
    "    else:\n",
    "        print(f'# File already exists. Skip saving: {output_fn}')"
   ]
  },
  {
   "cell_type": "code",
   "execution_count": null,
   "metadata": {
    "collapsed": false
   },
   "outputs": [],
   "source": []
  },
  {
   "cell_type": "markdown",
   "metadata": {
    "collapsed": false
   },
   "source": [
    "# 4. Create commands for model training\n",
    "Train models"
   ]
  },
  {
   "cell_type": "code",
   "execution_count": null,
   "metadata": {
    "collapsed": false
   },
   "outputs": [],
   "source": [
    "%%bash\n",
    "\n",
    "# Use ~/CCHC/lipidomics/20231211_rerun/code/ML_03_model_train.py\n",
    "lip_type=species\n",
    "lipid=\"PC(44:5)\"\n",
    "OMP_NUM_THREADS=1 python ML_03_model_train.py \\\n",
    "--output_prefix test_run \\\n",
    "--output_dir /data100t1/home/wanying/CCHC/lipidomics/20231211_rerun/outputs/prediction_models/elastic_net/${lip_type} \\\n",
    "--dosage_dir /data100t1/home/wanying/CCHC/lipidomics/20231211_rerun/inputs/genotype_dosage/train/lipid_${lip_type} \\\n",
    "--dosage_fn lipid_${lip_type}_chr*.pval_0.001_maf_0.05.vcf.dosage.gz \\\n",
    "--gwas_snp_dir /data100t1/home/wanying/CCHC/lipidomics/20231211_rerun/outputs/fastGWA/lipid_${lip_type}_filter_by_pval_1e-05 \\\n",
    "--gwas_snp_fn PC-44:5-_SNPs.pval_1e-05.txt \\\n",
    "--lip_name ${lipid} \\\n",
    "--n_alphas 100 \\\n",
    "--multiallelic False \\\n",
    "--train True \\\n",
    "--reg_type elastic_net\n",
    "\n",
    "\n"
   ]
  },
  {
   "cell_type": "code",
   "execution_count": 2,
   "metadata": {
    "ExecuteTime": {
     "end_time": "2024-01-01T23:02:12.927472Z",
     "start_time": "2024-01-01T23:02:12.919332Z"
    },
    "collapsed": false
   },
   "outputs": [],
   "source": [
    "def write_cmds_model_train(lipid_type = 'species', filter_threshold = 'pval_1e-07', output_fn_prefix='run_ML_model_train'):\n",
    "    '''\n",
    "    Write commands to file\n",
    "    :param lipid_type: modified lipid names\n",
    "    :param filter_threshold: by p value (and MAF)\n",
    "    :return:\n",
    "    '''\n",
    "    # Load Lipid names of class or species\n",
    "    fn_lipid = f'/data100t1/home/wanying/CCHC/lipidomics/input_docs/lipidomic_measures/lipid_{lipid_type}.txt'\n",
    "    with open(fn_lipid) as fh:\n",
    "        lst_lipid = fh.readline().strip().split('\\t')[2:]\n",
    "    print(f'# Number of lipid found in lipid measures ({lipid_type}):', len(lst_lipid))\n",
    "    output_fn = f'{output_fn_prefix}_{filter_threshold}.txt'\n",
    "    fh = open(output_fn, 'w')\n",
    "    for lipid in lst_lipid:\n",
    "        # Modify special characters\n",
    "        lipid_name = lipid.replace('\\\\', '-').replace('/', '-').replace('(','-').replace(')','-').replace(' ','_')\n",
    "        cmd = f'''OMP_NUM_THREADS=1 python ML_03_model_train.py \\\n",
    "    --output_prefix {lipid_name}_{filter_threshold} \\\n",
    "    --output_dir /data100t1/home/wanying/CCHC/lipidomics/20231211_rerun/outputs/prediction_models/elastic_net/{lipid_type}/{filter_threshold} \\\n",
    "    --dosage_dir /data100t1/home/wanying/CCHC/lipidomics/20231211_rerun/inputs/genotype_dosage/train/lipid_{lipid_type} \\\n",
    "    --dosage_fn lipid_{lipid_type}_chr*.pval_0.001_maf_0.05.vcf.dosage.gz \\\n",
    "    --gwas_snp_dir /data100t1/home/wanying/CCHC/lipidomics/20231211_rerun/outputs/fastGWA/lipid_{lipid_type}_filter_by_{filter_threshold} \\\n",
    "    --gwas_snp_fn {lipid_name}_SNPs.{filter_threshold.replace('_maf','.maf')}.txt \\\n",
    "    --lip_name \"{lipid}\" \\\n",
    "    --trait_fn /data100t1/home/wanying/CCHC/lipidomics/20231211_rerun/inputs/lipid_trait/lipid_{lipid_type}_ID_matched.no_dup.residual.train.txt \\\n",
    "    --n_alphas 100 \\\n",
    "    --multiallelic False \\\n",
    "    --train True \\\n",
    "    --reg_type elastic_net'''\n",
    "        fh.write(cmd+'\\n')\n",
    "    fh.close()\n",
    "    return lst_lipid\n"
   ]
  },
  {
   "cell_type": "code",
   "execution_count": 14,
   "metadata": {
    "ExecuteTime": {
     "end_time": "2024-01-01T23:09:46.713526Z",
     "start_time": "2024-01-01T23:09:46.563357Z"
    },
    "collapsed": false
   },
   "outputs": [
    {
     "name": "stdout",
     "output_type": "stream",
     "text": [
      "# Number of lipid found in lipid measures (species): 830\n",
      "# Number of lipid found in lipid measures (species): 830\n",
      "# Number of lipid found in lipid measures (species): 830\n",
      "# Number of lipid found in lipid measures (species): 830\n",
      "# Number of lipid found in lipid measures (species): 830\n",
      "# Number of lipid found in lipid measures (species): 830\n",
      "# Number of lipid found in lipid measures (species): 830\n",
      "# Number of lipid found in lipid measures (species): 830\n",
      "# Number of lipid found in lipid measures (species): 830\n",
      "# Number of lipid found in lipid measures (species): 830\n",
      "# Number of lipid found in lipid measures (species): 830\n",
      "# Number of lipid found in lipid measures (species): 830\n",
      "# Number of lipid found in lipid measures (class): 49\n",
      "# Number of lipid found in lipid measures (class): 49\n",
      "# Number of lipid found in lipid measures (class): 49\n",
      "# Number of lipid found in lipid measures (class): 49\n",
      "# Number of lipid found in lipid measures (class): 49\n",
      "# Number of lipid found in lipid measures (class): 49\n",
      "# Number of lipid found in lipid measures (class): 49\n",
      "# Number of lipid found in lipid measures (class): 49\n",
      "# Number of lipid found in lipid measures (class): 49\n",
      "# Number of lipid found in lipid measures (class): 49\n",
      "# Number of lipid found in lipid measures (class): 49\n",
      "# Number of lipid found in lipid measures (class): 49\n"
     ]
    }
   ],
   "source": [
    "# Filtering thresholds:\n",
    "# pval_1e-3, pval_1e-3_maf_1e-2\n",
    "# pval_1e-05, pval_1e-05_maf_0.01\n",
    "# pval_1e-06, pval_1e-06_maf_0.01\n",
    "# pval_1e-07, pval_1e-07_maf_0.01\n",
    "# pval_5e-08, pval_5e-08_maf_0.01\n",
    "for lipid_type in ['species', 'class']:\n",
    "    for filter_threshold in ['pval_1e-03', 'pval_1e-03_maf_0.01',\n",
    "                             'pval_1e-05', 'pval_1e-05_maf_0.01',\n",
    "                             'pval_1e-04', 'pval_1e-04_maf_0.01',\n",
    "                             'pval_1e-06', 'pval_1e-06_maf_0.01',\n",
    "                             'pval_1e-07', 'pval_1e-07_maf_0.01',\n",
    "                             'pval_5e-08', 'pval_5e-08_maf_0.01']:\n",
    "        lst_lipid = write_cmds_model_train(lipid_type = lipid_type,\n",
    "                               filter_threshold = filter_threshold,\n",
    "                               output_fn_prefix=f'run_ML_model_train_{lipid_type}')"
   ]
  },
  {
   "cell_type": "code",
   "execution_count": 19,
   "metadata": {
    "ExecuteTime": {
     "end_time": "2024-01-01T22:59:35.232826Z",
     "start_time": "2024-01-01T22:59:35.224151Z"
    },
    "collapsed": false
   },
   "outputs": [
    {
     "data": {
      "text/plain": [
       "'/Users/wanying/CCHC/lipidomics/input_docs/lipidomic_measures/lipid_species.txt'"
      ]
     },
     "execution_count": 19,
     "metadata": {},
     "output_type": "execute_result"
    }
   ],
   "source": [
    "%%bash\n",
    "# Output screen log to a file for future reference (Use SLURM if it is free)\n",
    "# Example:\n",
    "screen_name=class_pval_1e-5; screen -L -Logfile ${screen_name}.log -S ${screen_name}\n",
    "bash run_ML_model_train_class_pval_1e-5\n"
   ]
  },
  {
   "cell_type": "code",
   "execution_count": 57,
   "metadata": {
    "ExecuteTime": {
     "end_time": "2024-01-02T03:23:43.750074Z",
     "start_time": "2024-01-02T03:23:43.659156Z"
    },
    "collapsed": false
   },
   "outputs": [
    {
     "name": "stdout",
     "output_type": "stream",
     "text": [
      "# 20 commands selected\n"
     ]
    }
   ],
   "source": [
    "# For pval 1e-03, select 10+10 lipid traits with top and bottom heritability to save time\n",
    "# (Training others later)\n",
    "\n",
    "# Load most recent heritability estimation\n",
    "heritability_fn = '/data100t1/home/wanying/CCHC/lipidomics/output/traininig_set_lipid_species_GWAS/heritability_by_GREML_species/heritability_all.txt'\n",
    "\n",
    "df_h2 = pd.read_csv(heritability_fn, sep='\\t').sort_values(by='Variance')\n",
    "top_lipid_species = df_h2.iloc[:10, 0]\n",
    "bottom_lipid_species = df_h2.iloc[-10:, 0]\n",
    "file_dir = '/data100t1/home/wanying/CCHC/lipidomics/20231211_rerun/code/cmd_ML_model_train/'\n",
    "input_cmd_fn = os.path.join(file_dir, 'run_ML_model_train_species_pval_1e-03.txt')\n",
    "output_fn = os.path.join(file_dir, 'run_ML_model_train_species_pval_1e-03.top10_bottom10.txt')\n",
    "output_fn_leftover = os.path.join(file_dir, 'run_ML_model_train_species_pval_1e-03.leftover.txt')\n",
    "fh_output = open(output_fn, 'w')\n",
    "fh_output_leftover = open(output_fn_leftover, 'w')\n",
    "fh_input = open(input_cmd_fn)\n",
    "c = 0\n",
    "for line in fh_input:\n",
    "    flag = False\n",
    "    for lip in list(top_lipid_species)+list(bottom_lipid_species):\n",
    "        # Create commands for selected lipid species\n",
    "        if '--output_prefix '+lip+'_pval_1e-03' in line:\n",
    "            c += 1\n",
    "            flag = True\n",
    "            fh_output.write(line)\n",
    "    if not flag: # Write rest of commands to another file\n",
    "        fh_output_leftover.write(line)\n",
    "print(f'# {c} commands selected')\n",
    "fh_input.close()\n",
    "fh_output.close()\n",
    "fh_output_leftover.close()"
   ]
  },
  {
   "cell_type": "markdown",
   "metadata": {
    "collapsed": false
   },
   "source": [
    "# 5. Create commands to save model parameters to SQL database"
   ]
  },
  {
   "cell_type": "code",
   "execution_count": 6,
   "metadata": {
    "ExecuteTime": {
     "end_time": "2024-01-03T20:14:01.484626Z",
     "start_time": "2024-01-03T20:14:01.473851Z"
    },
    "collapsed": false
   },
   "outputs": [],
   "source": [
    "output_fh = open('cmd_save_coefficients_to_SQL.txt', 'w')\n",
    "for lip_type in ['class', 'species']:\n",
    "    for pval_threshold in ['pval_1e-03', 'pval_1e-04', 'pval_1e-05',\n",
    "                      'pval_1e-06', 'pval_1e-07']:\n",
    "        for threshold in [pval_threshold, pval_threshold+'_maf_0.01']:\n",
    "            cmd = f'''threshold={threshold}; python  /data100t1/home/wanying/CCHC/lipidomics/20231211_rerun/code/ML_04_convert_coefficients_to_sql_database.py \\\n",
    "    --search_dir /data100t1/home/wanying/CCHC/lipidomics/20231211_rerun/outputs/prediction_models/elastic_net/{lip_type}/$threshold \\\n",
    "    --model_param_file_suffix elastic_net \\\n",
    "    --merged_model_param_dir /data100t1/home/wanying/CCHC/lipidomics/20231211_rerun/outputs/prediction_models/elastic_net/{lip_type}/$threshold \\\n",
    "    --merged_model_param_fn all_{lip_type}_merged_$threshold.txt \\\n",
    "    --output_dir /data100t1/home/wanying/CCHC/lipidomics/20231211_rerun/outputs/prediction_models/elastic_net/{lip_type}/merged_model_params \\\n",
    "    --output_fn_prefix train_coeff_{lip_type}_$threshold \\\n",
    "    --overwrite False'''\n",
    "#         cmd_maf = f'''threshold={pval_threshold}_maf_0.01; python  /data100t1/home/wanying/CCHC/lipidomics/20231211_rerun/code/ML_04_convert_coefficients_to_sql_database.py \\\n",
    "# --search_dir /data100t1/home/wanying/CCHC/lipidomics/20231211_rerun/outputs/prediction_models/elastic_net/{lip_type}/$threshold \\\n",
    "# --model_param_file_suffix elastic_net \\\n",
    "# --merged_model_param_dir /data100t1/home/wanying/CCHC/lipidomics/20231211_rerun/outputs/prediction_models/elastic_net/{lip_type}/$threshold \\\n",
    "# --merged_model_param_fn all_{lip_type}_merged_$threshold.txt \\\n",
    "# --output_dir /data100t1/home/wanying/CCHC/lipidomics/20231211_rerun/outputs/prediction_models/elastic_net/{lip_type}/merged_model_params \\\n",
    "# --output_fn_prefix train_coeff_{lip_type}_$threshold \\\n",
    "# --overwrite False'''\n",
    "            output_fh.write(cmd+'\\n')\n",
    "output_fh.close()\n"
   ]
  },
  {
   "cell_type": "code",
   "execution_count": 6,
   "metadata": {
    "ExecuteTime": {
     "end_time": "2024-01-03T20:14:02.795938Z",
     "start_time": "2024-01-03T20:14:02.777254Z"
    },
    "collapsed": false
   },
   "outputs": [],
   "source": []
  },
  {
   "cell_type": "code",
   "execution_count": null,
   "metadata": {
    "collapsed": false
   },
   "outputs": [],
   "source": []
  }
 ],
 "metadata": {
  "kernelspec": {
   "display_name": "Python 3",
   "language": "python",
   "name": "python3"
  },
  "language_info": {
   "codemirror_mode": {
    "name": "ipython",
    "version": 2
   },
   "file_extension": ".py",
   "mimetype": "text/x-python",
   "name": "python",
   "nbconvert_exporter": "python",
   "pygments_lexer": "ipython2",
   "version": "2.7.6"
  }
 },
 "nbformat": 4,
 "nbformat_minor": 0
}
