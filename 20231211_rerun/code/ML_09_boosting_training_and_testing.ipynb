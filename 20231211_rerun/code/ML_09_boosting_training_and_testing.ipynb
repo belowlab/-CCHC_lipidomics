{
 "cells": [
  {
   "cell_type": "markdown",
   "metadata": {},
   "source": [
    "Create commands to train boosting model"
   ]
  },
  {
   "cell_type": "code",
   "execution_count": 6,
   "metadata": {
    "ExecuteTime": {
     "end_time": "2024-01-10T23:58:11.062279Z",
     "start_time": "2024-01-10T23:58:11.058689Z"
    },
    "collapsed": false,
    "jupyter": {
     "outputs_hidden": false
    }
   },
   "outputs": [],
   "source": [
    "import pandas as pd"
   ]
  },
  {
   "cell_type": "code",
   "execution_count": null,
   "metadata": {
    "collapsed": false,
    "jupyter": {
     "outputs_hidden": false
    }
   },
   "outputs": [],
   "source": []
  },
  {
   "cell_type": "markdown",
   "metadata": {},
   "source": [
    "# 1. AdaBoost"
   ]
  },
  {
   "cell_type": "code",
   "execution_count": null,
   "metadata": {
    "collapsed": false,
    "jupyter": {
     "outputs_hidden": false
    }
   },
   "outputs": [],
   "source": [
    "%%bash\n",
    "# Example call\n",
    "lip_type=species\n",
    "lipid=\"PC(44:5)\"\n",
    "output_prefix=PC-44:5-\n",
    "python ML_08_boosting_model_train.py \\\n",
    "--output_prefix ${output_prefix} \\\n",
    "--output_dir /data100t1/home/wanying/CCHC/lipidomics/20231211_rerun/outputs/prediction_models/AdaBoost/${lip_type} \\\n",
    "--dosage_dir_train /data100t1/home/wanying/CCHC/lipidomics/20231211_rerun/inputs/genotype_dosage/train/lipid_${lip_type} \\\n",
    "--dosage_fn_train lipid_${lip_type}_chr*.pval_0.001_maf_0.05.vcf.dosage.gz \\\n",
    "--dosage_dir_test /data100t1/home/wanying/CCHC/lipidomics/20231211_rerun/inputs/genotype_dosage/test/lipid_${lip_type} \\\n",
    "--dosage_fn_test lipid_${lip_type}_chr*.pval_0.001_maf_0.05.test.vcf.dosage.gz \\\n",
    "--gwas_snp_dir /data100t1/home/wanying/CCHC/lipidomics/20231211_rerun/outputs/fastGWA/lipid_${lip_type}_filter_by_pval_1e-07 \\\n",
    "--gwas_snp_fn PC-44:5-_SNPs.pval_1e-07.txt \\\n",
    "--lipid_name ${lipid} \\\n",
    "--trait_fn_train /data100t1/home/wanying/CCHC/lipidomics/20231211_rerun/inputs/lipid_trait/lipid_${lip_type}_ID_matched.no_dup.residual.train.txt \\\n",
    "--trait_fn_test /data100t1/home/wanying/CCHC/lipidomics/20231211_rerun/inputs/lipid_trait/lipid_${lip_type}_ID_matched.no_dup.residual.test.txt \\\n",
    "--multiallelic False \\\n",
    "--train True \\\n",
    "--n_estimator 10 \\\n",
    "--boost_type Ada"
   ]
  },
  {
   "cell_type": "markdown",
   "metadata": {
    "jupyter": {
     "outputs_hidden": false
    }
   },
   "source": [
    "## 1.1 Create commands to run"
   ]
  },
  {
   "cell_type": "code",
   "execution_count": 7,
   "metadata": {
    "ExecuteTime": {
     "end_time": "2024-01-11T00:40:29.683473Z",
     "start_time": "2024-01-11T00:40:29.660489Z"
    },
    "collapsed": false,
    "jupyter": {
     "outputs_hidden": false
    }
   },
   "outputs": [
    {
     "name": "stdout",
     "output_type": "stream",
     "text": [
      "Process 830"
     ]
    }
   ],
   "source": [
    "# Load list of lipid\n",
    "lip_type='species'\n",
    "threshold = 'pval_1e-05'\n",
    "fn_lst_lipid = f'/data100t1/home/wanying/CCHC/lipidomics/20231211_rerun/inputs/lipid_trait/lipid_{lip_type}.list'\n",
    "cmd_output_fn = f'cmd_AdaBoost_train.{lip_type}.{threshold}.txt'\n",
    "fh_cmd = open(cmd_output_fn, 'w')\n",
    "lst_lipids = []\n",
    "with open(fn_lst_lipid) as fh:\n",
    "    for line in fh:\n",
    "        lst_lipids.append(line.strip())\n",
    "c = 0\n",
    "for lipid in lst_lipids:\n",
    "    lipid_name = lipid.replace('\\\\', '-').replace('/', '-').replace('(','-').replace(')','-').replace(' ', '_')\n",
    "    cmd = f'lip_type={lip_type};'\n",
    "    cmd += f'lipid=\"{lipid}\";'\n",
    "    cmd += f'output_prefix=\"{lipid_name}\";'\n",
    "    cmd += '''python ML_08_boosting_model_train.py \\\n",
    "--output_prefix ${output_prefix} \\\n",
    "--output_dir /data100t1/home/wanying/CCHC/lipidomics/20231211_rerun/outputs/prediction_models/AdaBoost/${lip_type} \\\n",
    "--dosage_dir_train /data100t1/home/wanying/CCHC/lipidomics/20231211_rerun/inputs/genotype_dosage/train/lipid_${lip_type} \\\n",
    "--dosage_fn_train lipid_${lip_type}_chr*.pval_0.001_maf_0.05.vcf.dosage.gz \\\n",
    "--dosage_dir_test /data100t1/home/wanying/CCHC/lipidomics/20231211_rerun/inputs/genotype_dosage/test/lipid_${lip_type} \\\n",
    "--dosage_fn_test lipid_${lip_type}_chr*.pval_0.001_maf_0.05.test.vcf.dosage.gz \\\n",
    "--gwas_snp_dir /data100t1/home/wanying/CCHC/lipidomics/20231211_rerun/outputs/fastGWA/lipid_${lip_type}_filter_by_%s \\\n",
    "--gwas_snp_fn %s_SNPs.%s.txt \\\n",
    "--lipid_name \"${lipid}\" \\\n",
    "--trait_fn_train /data100t1/home/wanying/CCHC/lipidomics/20231211_rerun/inputs/lipid_trait/lipid_${lip_type}_ID_matched.no_dup.residual.train.txt \\\n",
    "--trait_fn_test /data100t1/home/wanying/CCHC/lipidomics/20231211_rerun/inputs/lipid_trait/lipid_${lip_type}_ID_matched.no_dup.residual.test.txt \\\n",
    "--multiallelic False \\\n",
    "--train True \\\n",
    "--n_estimator 100 \\\n",
    "--boost_type Ada''' % (threshold, lipid_name, threshold)\n",
    "    fh_cmd.write(cmd + '\\n')\n",
    "    c += 1\n",
    "    print(f'\\rProcess {c}', end='', flush=True)\n",
    "\n",
    "fh_cmd.close()"
   ]
  },
  {
   "cell_type": "code",
   "execution_count": 8,
   "metadata": {
    "ExecuteTime": {
     "end_time": "2024-01-11T00:32:48.134100Z",
     "start_time": "2024-01-11T00:32:48.089913Z"
    },
    "collapsed": false,
    "jupyter": {
     "outputs_hidden": false
    }
   },
   "outputs": [],
   "source": [
    "df = pd.read_csv('cmd_AdaBoost_train.species.pval_1e-05.txt', header=None)\n",
    "# df.sample(frac=0.1).sample(frac=1).to_csv('cmd_AdaBoost_train.species.pval_1e-07.83sample.txt', index=False, header=False)\n",
    "with open('cmd_AdaBoost_train.species.pval_1e-05.83sample.txt', 'w') as o_fh:\n",
    "    for i in range(83):\n",
    "        o_fh.write(df.sample(frac=0.1).sample(frac=1).iloc[i, :].values[0]+'\\n')"
   ]
  },
  {
   "cell_type": "code",
   "execution_count": 9,
   "metadata": {
    "ExecuteTime": {
     "end_time": "2024-01-10T23:55:41.963715Z",
     "start_time": "2024-01-10T23:55:41.888801Z"
    },
    "collapsed": false,
    "jupyter": {
     "outputs_hidden": false
    }
   },
   "outputs": [
    {
     "name": "stdout",
     "output_type": "stream",
     "text": [
      "Process 49"
     ]
    }
   ],
   "source": [
    "# Do the same for lipid class\n",
    "# Load list of lipid\n",
    "lip_type='class'\n",
    "threshold = 'pval_1e-05'\n",
    "fn_lst_lipid = f'/data100t1/home/wanying/CCHC/lipidomics/20231211_rerun/inputs/lipid_trait/lipid_{lip_type}.list'\n",
    "cmd_output_fn = f'cmd_AdaBoost_train.{lip_type}.{threshold}.txt'\n",
    "fh_cmd = open(cmd_output_fn, 'w')\n",
    "lst_lipids = []\n",
    "with open(fn_lst_lipid) as fh:\n",
    "    for line in fh:\n",
    "        lst_lipids.append(line.strip())\n",
    "c = 0\n",
    "for lipid in lst_lipids:\n",
    "    lipid_name = lipid.replace('\\\\', '-').replace('/', '-').replace('(','-').replace(')','-').replace(' ', '_')\n",
    "    cmd = f'lip_type={lip_type};'\n",
    "    cmd += f'lipid=\"{lipid}\";'\n",
    "    cmd += f'output_prefix=\"{lipid_name}\";'\n",
    "    cmd += '''python ML_08_boosting_model_train.py \\\n",
    "--output_prefix ${output_prefix} \\\n",
    "--output_dir /data100t1/home/wanying/CCHC/lipidomics/20231211_rerun/outputs/prediction_models/AdaBoost/${lip_type} \\\n",
    "--dosage_dir_train /data100t1/home/wanying/CCHC/lipidomics/20231211_rerun/inputs/genotype_dosage/train/lipid_${lip_type} \\\n",
    "--dosage_fn_train lipid_${lip_type}_chr*.pval_0.001_maf_0.05.vcf.dosage.gz \\\n",
    "--dosage_dir_test /data100t1/home/wanying/CCHC/lipidomics/20231211_rerun/inputs/genotype_dosage/test/lipid_${lip_type} \\\n",
    "--dosage_fn_test lipid_${lip_type}_chr*.pval_0.001_maf_0.05.test.vcf.dosage.gz \\\n",
    "--gwas_snp_dir /data100t1/home/wanying/CCHC/lipidomics/20231211_rerun/outputs/fastGWA/lipid_${lip_type}_filter_by_%s \\\n",
    "--gwas_snp_fn %s_SNPs.%s.txt \\\n",
    "--lipid_name \"${lipid}\" \\\n",
    "--trait_fn_train /data100t1/home/wanying/CCHC/lipidomics/20231211_rerun/inputs/lipid_trait/lipid_${lip_type}_ID_matched.no_dup.residual.train.txt \\\n",
    "--trait_fn_test /data100t1/home/wanying/CCHC/lipidomics/20231211_rerun/inputs/lipid_trait/lipid_${lip_type}_ID_matched.no_dup.residual.test.txt \\\n",
    "--multiallelic False \\\n",
    "--train True \\\n",
    "--n_estimator 100 \\\n",
    "--boost_type Ada''' % (threshold, lipid_name, threshold)\n",
    "    fh_cmd.write(cmd + '\\n')\n",
    "    c += 1\n",
    "    print(f'\\rProcess {c}', end='', flush=True)\n",
    "\n",
    "fh_cmd.close()"
   ]
  },
  {
   "cell_type": "code",
   "execution_count": null,
   "metadata": {
    "collapsed": false,
    "jupyter": {
     "outputs_hidden": false
    }
   },
   "outputs": [],
   "source": []
  }
 ],
 "metadata": {
  "kernelspec": {
   "display_name": "Python 3",
   "language": "python",
   "name": "python3"
  },
  "language_info": {
   "codemirror_mode": {
    "name": "ipython",
    "version": 3
   },
   "file_extension": ".py",
   "mimetype": "text/x-python",
   "name": "python",
   "nbconvert_exporter": "python",
   "pygments_lexer": "ipython3",
   "version": "3.9.7"
  }
 },
 "nbformat": 4,
 "nbformat_minor": 4
}
