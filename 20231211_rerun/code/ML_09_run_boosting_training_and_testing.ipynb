{
 "cells": [
  {
   "cell_type": "markdown",
   "metadata": {},
   "source": [
    "Create commands to train boosting model"
   ]
  },
  {
   "cell_type": "code",
   "execution_count": 1,
   "metadata": {
    "ExecuteTime": {
     "end_time": "2024-01-29T12:44:13.113506Z",
     "start_time": "2024-01-29T12:44:05.038025Z"
    },
    "collapsed": false,
    "jupyter": {
     "outputs_hidden": false
    }
   },
   "outputs": [],
   "source": [
    "import pandas as pd\n",
    "import os\n",
    "import matplotlib.pyplot as plt"
   ]
  },
  {
   "cell_type": "code",
   "execution_count": null,
   "metadata": {
    "collapsed": false,
    "jupyter": {
     "outputs_hidden": false
    }
   },
   "outputs": [],
   "source": []
  },
  {
   "cell_type": "markdown",
   "metadata": {},
   "source": [
    "# 1. AdaBoost"
   ]
  },
  {
   "cell_type": "code",
   "execution_count": null,
   "metadata": {
    "collapsed": false,
    "jupyter": {
     "outputs_hidden": false
    }
   },
   "outputs": [],
   "source": [
    "%%bash\n",
    "# Example call\n",
    "lip_type=species\n",
    "lipid=\"PC(44:5)\"\n",
    "output_prefix=PC-44:5-\n",
    "python ML_08_boosting_model_train.py \\\n",
    "--output_prefix ${output_prefix} \\\n",
    "--output_dir /data100t1/home/wanying/CCHC/lipidomics/20231211_rerun/outputs/prediction_models/AdaBoost/${lip_type} \\\n",
    "--dosage_dir_train /data100t1/home/wanying/CCHC/lipidomics/20231211_rerun/inputs/genotype_dosage/train/lipid_${lip_type} \\\n",
    "--dosage_fn_train lipid_${lip_type}_chr*.pval_0.001_maf_0.05.vcf.dosage.gz \\\n",
    "--dosage_dir_test /data100t1/home/wanying/CCHC/lipidomics/20231211_rerun/inputs/genotype_dosage/test/lipid_${lip_type} \\\n",
    "--dosage_fn_test lipid_${lip_type}_chr*.pval_0.001_maf_0.05.test.vcf.dosage.gz \\\n",
    "--gwas_snp_dir /data100t1/home/wanying/CCHC/lipidomics/20231211_rerun/outputs/fastGWA/lipid_${lip_type}_filter_by_pval_1e-07 \\\n",
    "--gwas_snp_fn PC-44:5-_SNPs.pval_1e-07.txt \\\n",
    "--lipid_name ${lipid} \\\n",
    "--trait_fn_train /data100t1/home/wanying/CCHC/lipidomics/20231211_rerun/inputs/lipid_trait/lipid_${lip_type}_ID_matched.no_dup.residual.train.txt \\\n",
    "--trait_fn_test /data100t1/home/wanying/CCHC/lipidomics/20231211_rerun/inputs/lipid_trait/lipid_${lip_type}_ID_matched.no_dup.residual.test.txt \\\n",
    "--multiallelic False \\\n",
    "--train True \\\n",
    "--n_estimator 10 \\\n",
    "--boost_type Ada"
   ]
  },
  {
   "cell_type": "markdown",
   "metadata": {
    "jupyter": {
     "outputs_hidden": false
    }
   },
   "source": [
    "## 1.1 Create commands to run"
   ]
  },
  {
   "cell_type": "code",
   "execution_count": 4,
   "metadata": {
    "ExecuteTime": {
     "end_time": "2024-01-11T00:40:29.683473Z",
     "start_time": "2024-01-11T00:40:29.660489Z"
    },
    "collapsed": false,
    "jupyter": {
     "outputs_hidden": false
    }
   },
   "outputs": [
    {
     "name": "stdout",
     "output_type": "stream",
     "text": [
      "Process 830"
     ]
    }
   ],
   "source": [
    "# Load list of lipid\n",
    "lip_type='species'\n",
    "threshold = 'pval_1e-05'\n",
    "fn_lst_lipid = f'/data100t1/home/wanying/CCHC/lipidomics/20231211_rerun/inputs/lipid_trait/lipid_{lip_type}.list'\n",
    "cmd_output_fn = f'cmd_AdaBoost_train.{lip_type}.{threshold}.500_estimator.txt'\n",
    "fh_cmd = open(cmd_output_fn, 'w')\n",
    "lst_lipids = []\n",
    "with open(fn_lst_lipid) as fh:\n",
    "    for line in fh:\n",
    "        lst_lipids.append(line.strip())\n",
    "c = 0\n",
    "for lipid in lst_lipids:\n",
    "    lipid_name = lipid.replace('\\\\', '-').replace('/', '-').replace('(','-').replace(')','-').replace(' ', '_')\n",
    "    cmd = f'lip_type={lip_type};'\n",
    "    cmd += f'lipid=\"{lipid}\";'\n",
    "    cmd += f'output_prefix=\"{lipid_name}\";'\n",
    "    cmd += '''python ML_08_boosting_model_train.py \\\n",
    "--output_prefix ${output_prefix}.500_estimator \\\n",
    "--output_dir /data100t1/home/wanying/CCHC/lipidomics/20231211_rerun/outputs/prediction_models/AdaBoost/${lip_type} \\\n",
    "--dosage_dir_train /data100t1/home/wanying/CCHC/lipidomics/20231211_rerun/inputs/genotype_dosage/train/lipid_${lip_type} \\\n",
    "--dosage_fn_train lipid_${lip_type}_chr*.pval_0.001_maf_0.05.vcf.dosage.gz \\\n",
    "--dosage_dir_test /data100t1/home/wanying/CCHC/lipidomics/20231211_rerun/inputs/genotype_dosage/test/lipid_${lip_type} \\\n",
    "--dosage_fn_test lipid_${lip_type}_chr*.pval_0.001_maf_0.05.test.vcf.dosage.gz \\\n",
    "--gwas_snp_dir /data100t1/home/wanying/CCHC/lipidomics/20231211_rerun/outputs/fastGWA/lipid_${lip_type}_filter_by_%s \\\n",
    "--gwas_snp_fn %s_SNPs.%s.txt \\\n",
    "--lipid_name \"${lipid}\" \\\n",
    "--trait_fn_train /data100t1/home/wanying/CCHC/lipidomics/20231211_rerun/inputs/lipid_trait/lipid_${lip_type}_ID_matched.no_dup.residual.train.txt \\\n",
    "--trait_fn_test /data100t1/home/wanying/CCHC/lipidomics/20231211_rerun/inputs/lipid_trait/lipid_${lip_type}_ID_matched.no_dup.residual.test.txt \\\n",
    "--multiallelic False \\\n",
    "--train True \\\n",
    "--n_estimator 500 \\\n",
    "--boost_type Ada''' % (threshold, lipid_name, threshold)\n",
    "    fh_cmd.write(cmd + '\\n')\n",
    "    c += 1\n",
    "    print(f'\\rProcess {c}', end='', flush=True)\n",
    "\n",
    "fh_cmd.close()"
   ]
  },
  {
   "cell_type": "code",
   "execution_count": 8,
   "metadata": {
    "ExecuteTime": {
     "end_time": "2024-01-11T00:32:48.134100Z",
     "start_time": "2024-01-11T00:32:48.089913Z"
    },
    "collapsed": false,
    "jupyter": {
     "outputs_hidden": false
    }
   },
   "outputs": [],
   "source": [
    "df = pd.read_csv('cmd_AdaBoost_train.species.pval_1e-05.txt', header=None)\n",
    "# df.sample(frac=0.1).sample(frac=1).to_csv('cmd_AdaBoost_train.species.pval_1e-07.83sample.txt', index=False, header=False)\n",
    "with open('cmd_AdaBoost_train.species.pval_1e-05.83sample.txt', 'w') as o_fh:\n",
    "    for i in range(83):\n",
    "        o_fh.write(df.sample(frac=0.1).sample(frac=1).iloc[i, :].values[0]+'\\n')"
   ]
  },
  {
   "cell_type": "markdown",
   "metadata": {},
   "source": [
    "## 1.2 Create a quick run using 20 lipid species with the highest h2"
   ]
  },
  {
   "cell_type": "code",
   "execution_count": 17,
   "metadata": {},
   "outputs": [
    {
     "name": "stdout",
     "output_type": "stream",
     "text": [
      "merged_h2_r2_test_species_pval_1e-05.txt\n"
     ]
    },
    {
     "data": {
      "text/html": [
       "<div>\n",
       "<style scoped>\n",
       "    .dataframe tbody tr th:only-of-type {\n",
       "        vertical-align: middle;\n",
       "    }\n",
       "\n",
       "    .dataframe tbody tr th {\n",
       "        vertical-align: top;\n",
       "    }\n",
       "\n",
       "    .dataframe thead th {\n",
       "        text-align: right;\n",
       "    }\n",
       "</style>\n",
       "<table border=\"1\" class=\"dataframe\">\n",
       "  <thead>\n",
       "    <tr style=\"text-align: right;\">\n",
       "      <th></th>\n",
       "      <th>Lipid_name</th>\n",
       "      <th>h2</th>\n",
       "      <th>se</th>\n",
       "      <th>95CI</th>\n",
       "      <th>Lipid</th>\n",
       "      <th>pearson_r2</th>\n",
       "      <th>pearson_pval</th>\n",
       "      <th>model_fitting_r2</th>\n",
       "    </tr>\n",
       "  </thead>\n",
       "  <tbody>\n",
       "    <tr>\n",
       "      <th>829</th>\n",
       "      <td>CE-20:5-</td>\n",
       "      <td>0.999999</td>\n",
       "      <td>0.188218</td>\n",
       "      <td>0.368907</td>\n",
       "      <td>CE(20:5)</td>\n",
       "      <td>0.053283</td>\n",
       "      <td>1.092933e-09</td>\n",
       "      <td>-0.146570</td>\n",
       "    </tr>\n",
       "    <tr>\n",
       "      <th>828</th>\n",
       "      <td>CE-20:4-</td>\n",
       "      <td>0.999999</td>\n",
       "      <td>0.185907</td>\n",
       "      <td>0.364378</td>\n",
       "      <td>CE(20:4)</td>\n",
       "      <td>0.041802</td>\n",
       "      <td>7.340825e-08</td>\n",
       "      <td>-0.265375</td>\n",
       "    </tr>\n",
       "    <tr>\n",
       "      <th>827</th>\n",
       "      <td>DE-20:4-</td>\n",
       "      <td>0.998330</td>\n",
       "      <td>0.191236</td>\n",
       "      <td>0.374823</td>\n",
       "      <td>DE(20:4)</td>\n",
       "      <td>0.037772</td>\n",
       "      <td>3.200640e-07</td>\n",
       "      <td>-0.247450</td>\n",
       "    </tr>\n",
       "    <tr>\n",
       "      <th>826</th>\n",
       "      <td>PC-16:0_20:4-</td>\n",
       "      <td>0.976646</td>\n",
       "      <td>0.179809</td>\n",
       "      <td>0.352426</td>\n",
       "      <td>PC(16:0_20:4)</td>\n",
       "      <td>0.101952</td>\n",
       "      <td>1.322630e-17</td>\n",
       "      <td>-0.000614</td>\n",
       "    </tr>\n",
       "    <tr>\n",
       "      <th>825</th>\n",
       "      <td>PC-18:0_20:4-</td>\n",
       "      <td>0.946600</td>\n",
       "      <td>0.180321</td>\n",
       "      <td>0.353429</td>\n",
       "      <td>PC(18:0_20:4)</td>\n",
       "      <td>0.122469</td>\n",
       "      <td>4.731261e-21</td>\n",
       "      <td>0.071183</td>\n",
       "    </tr>\n",
       "  </tbody>\n",
       "</table>\n",
       "</div>"
      ],
      "text/plain": [
       "        Lipid_name        h2        se      95CI          Lipid  pearson_r2  \\\n",
       "829       CE-20:5-  0.999999  0.188218  0.368907       CE(20:5)    0.053283   \n",
       "828       CE-20:4-  0.999999  0.185907  0.364378       CE(20:4)    0.041802   \n",
       "827       DE-20:4-  0.998330  0.191236  0.374823       DE(20:4)    0.037772   \n",
       "826  PC-16:0_20:4-  0.976646  0.179809  0.352426  PC(16:0_20:4)    0.101952   \n",
       "825  PC-18:0_20:4-  0.946600  0.180321  0.353429  PC(18:0_20:4)    0.122469   \n",
       "\n",
       "     pearson_pval  model_fitting_r2  \n",
       "829  1.092933e-09         -0.146570  \n",
       "828  7.340825e-08         -0.265375  \n",
       "827  3.200640e-07         -0.247450  \n",
       "826  1.322630e-17         -0.000614  \n",
       "825  4.731261e-21          0.071183  "
      ]
     },
     "metadata": {},
     "output_type": "display_data"
    },
    {
     "data": {
      "text/html": [
       "<div>\n",
       "<style scoped>\n",
       "    .dataframe tbody tr th:only-of-type {\n",
       "        vertical-align: middle;\n",
       "    }\n",
       "\n",
       "    .dataframe tbody tr th {\n",
       "        vertical-align: top;\n",
       "    }\n",
       "\n",
       "    .dataframe thead th {\n",
       "        text-align: right;\n",
       "    }\n",
       "</style>\n",
       "<table border=\"1\" class=\"dataframe\">\n",
       "  <thead>\n",
       "    <tr style=\"text-align: right;\">\n",
       "      <th></th>\n",
       "      <th>Lipid_name</th>\n",
       "      <th>h2</th>\n",
       "      <th>se</th>\n",
       "      <th>95CI</th>\n",
       "      <th>Lipid</th>\n",
       "      <th>pearson_r2</th>\n",
       "      <th>pearson_pval</th>\n",
       "      <th>model_fitting_r2</th>\n",
       "    </tr>\n",
       "  </thead>\n",
       "  <tbody>\n",
       "    <tr>\n",
       "      <th>140</th>\n",
       "      <td>PE-O-16:0-22:6-</td>\n",
       "      <td>0.000001</td>\n",
       "      <td>0.188499</td>\n",
       "      <td>0.369458</td>\n",
       "      <td>PE(O-16:0/22:6)</td>\n",
       "      <td>5.595276e-03</td>\n",
       "      <td>0.051037</td>\n",
       "      <td>-0.247109</td>\n",
       "    </tr>\n",
       "    <tr>\n",
       "      <th>139</th>\n",
       "      <td>PE-P-18:0-22:5-_-n6-</td>\n",
       "      <td>0.000001</td>\n",
       "      <td>0.188001</td>\n",
       "      <td>0.368482</td>\n",
       "      <td>PE(P-18:0/22:5) (n6)</td>\n",
       "      <td>1.195597e-03</td>\n",
       "      <td>0.367619</td>\n",
       "      <td>-0.378982</td>\n",
       "    </tr>\n",
       "    <tr>\n",
       "      <th>138</th>\n",
       "      <td>TG-50:0-_[NL-18:0]</td>\n",
       "      <td>0.000001</td>\n",
       "      <td>0.187011</td>\n",
       "      <td>0.366542</td>\n",
       "      <td>TG(50:0) [NL-18:0]</td>\n",
       "      <td>2.674842e-03</td>\n",
       "      <td>0.177633</td>\n",
       "      <td>-0.275413</td>\n",
       "    </tr>\n",
       "    <tr>\n",
       "      <th>137</th>\n",
       "      <td>PC-18:0_18:1-</td>\n",
       "      <td>0.000001</td>\n",
       "      <td>0.188027</td>\n",
       "      <td>0.368533</td>\n",
       "      <td>PC(18:0_18:1)</td>\n",
       "      <td>1.083240e-07</td>\n",
       "      <td>0.993160</td>\n",
       "      <td>-0.426993</td>\n",
       "    </tr>\n",
       "    <tr>\n",
       "      <th>0</th>\n",
       "      <td>CE-18:2-</td>\n",
       "      <td>0.000001</td>\n",
       "      <td>0.183280</td>\n",
       "      <td>0.359229</td>\n",
       "      <td>CE(18:2)</td>\n",
       "      <td>4.966405e-04</td>\n",
       "      <td>0.561534</td>\n",
       "      <td>-0.373347</td>\n",
       "    </tr>\n",
       "  </tbody>\n",
       "</table>\n",
       "</div>"
      ],
      "text/plain": [
       "               Lipid_name        h2        se      95CI                 Lipid  \\\n",
       "140       PE-O-16:0-22:6-  0.000001  0.188499  0.369458       PE(O-16:0/22:6)   \n",
       "139  PE-P-18:0-22:5-_-n6-  0.000001  0.188001  0.368482  PE(P-18:0/22:5) (n6)   \n",
       "138    TG-50:0-_[NL-18:0]  0.000001  0.187011  0.366542    TG(50:0) [NL-18:0]   \n",
       "137         PC-18:0_18:1-  0.000001  0.188027  0.368533         PC(18:0_18:1)   \n",
       "0                CE-18:2-  0.000001  0.183280  0.359229              CE(18:2)   \n",
       "\n",
       "       pearson_r2  pearson_pval  model_fitting_r2  \n",
       "140  5.595276e-03      0.051037         -0.247109  \n",
       "139  1.195597e-03      0.367619         -0.378982  \n",
       "138  2.674842e-03      0.177633         -0.275413  \n",
       "137  1.083240e-07      0.993160         -0.426993  \n",
       "0    4.966405e-04      0.561534         -0.373347  "
      ]
     },
     "metadata": {},
     "output_type": "display_data"
    },
    {
     "name": "stdout",
     "output_type": "stream",
     "text": [
      "Process 20"
     ]
    }
   ],
   "source": [
    "# Create a quick run using 20 lipid species with the highest h2\n",
    "# Load h2 data to selet lipid with highest h2\n",
    "h2_dir = '/data100t1/home/wanying/CCHC/lipidomics/20231211_rerun/outputs/prediction_models/elastic_net/merged_h2_r2'\n",
    "fn = f'merged_h2_r2_test_species_pval_1e-05.txt'\n",
    "print(fn)\n",
    "df_h2 = pd.read_csv(os.path.join(h2_dir, fn), sep='\\t').sort_values('h2', ascending=False)\n",
    "top_20 = df_h2.head(20)\n",
    "bottom_20 = df_h2.tail(20)\n",
    "display(df_h2.head(5))\n",
    "display(df_h2.tail(5))\n",
    "\n",
    "lip_type='species'\n",
    "threshold = 'pval_1e-05'\n",
    "fn_lst_lipid = f'/data100t1/home/wanying/CCHC/lipidomics/20231211_rerun/inputs/lipid_trait/lipid_{lip_type}.list'\n",
    "cmd_output_fn = f'cmd_AdaBoost_train.{lip_type}.{threshold}.top_20_h2.txt'\n",
    "fh_cmd = open(cmd_output_fn, 'w')\n",
    "lst_lipids = top_20['Lipid']\n",
    "c = 0\n",
    "for lipid in lst_lipids:\n",
    "    lipid_name = lipid.replace('\\\\', '-').replace('/', '-').replace('(','-').replace(')','-').replace(' ', '_')\n",
    "    cmd = f'lip_type={lip_type};'\n",
    "    cmd += f'lipid=\"{lipid}\";'\n",
    "    cmd += f'output_prefix=\"{lipid_name}\";'\n",
    "    cmd += '''python ML_08_boosting_model_train.py \\\n",
    "--output_prefix ${output_prefix} \\\n",
    "--output_dir /data100t1/home/wanying/CCHC/lipidomics/20231211_rerun/outputs/prediction_models/AdaBoost/${lip_type} \\\n",
    "--dosage_dir_train /data100t1/home/wanying/CCHC/lipidomics/20231211_rerun/inputs/genotype_dosage/train/lipid_${lip_type} \\\n",
    "--dosage_fn_train lipid_${lip_type}_chr*.pval_0.001_maf_0.05.vcf.dosage.gz \\\n",
    "--dosage_dir_test /data100t1/home/wanying/CCHC/lipidomics/20231211_rerun/inputs/genotype_dosage/test/lipid_${lip_type} \\\n",
    "--dosage_fn_test lipid_${lip_type}_chr*.pval_0.001_maf_0.05.test.vcf.dosage.gz \\\n",
    "--gwas_snp_dir /data100t1/home/wanying/CCHC/lipidomics/20231211_rerun/outputs/fastGWA/lipid_${lip_type}_filter_by_%s \\\n",
    "--gwas_snp_fn %s_SNPs.%s.txt \\\n",
    "--lipid_name \"${lipid}\" \\\n",
    "--trait_fn_train /data100t1/home/wanying/CCHC/lipidomics/20231211_rerun/inputs/lipid_trait/lipid_${lip_type}_ID_matched.no_dup.residual.train.txt \\\n",
    "--trait_fn_test /data100t1/home/wanying/CCHC/lipidomics/20231211_rerun/inputs/lipid_trait/lipid_${lip_type}_ID_matched.no_dup.residual.test.txt \\\n",
    "--multiallelic False \\\n",
    "--train True \\\n",
    "--n_estimator 100 \\\n",
    "--boost_type Ada''' % (threshold, lipid_name, threshold)\n",
    "    fh_cmd.write(cmd + '\\n')\n",
    "    c += 1\n",
    "    print(f'\\rProcess {c}', end='', flush=True)\n",
    "\n",
    "fh_cmd.close()\n",
    "    "
   ]
  },
  {
   "cell_type": "code",
   "execution_count": 9,
   "metadata": {
    "ExecuteTime": {
     "end_time": "2024-01-10T23:55:41.963715Z",
     "start_time": "2024-01-10T23:55:41.888801Z"
    },
    "collapsed": false,
    "jupyter": {
     "outputs_hidden": false
    }
   },
   "outputs": [
    {
     "name": "stdout",
     "output_type": "stream",
     "text": [
      "Process 49"
     ]
    }
   ],
   "source": [
    "# Do the same for lipid class\n",
    "# Load list of lipid\n",
    "lip_type='class'\n",
    "threshold = 'pval_1e-05'\n",
    "fn_lst_lipid = f'/data100t1/home/wanying/CCHC/lipidomics/20231211_rerun/inputs/lipid_trait/lipid_{lip_type}.list'\n",
    "cmd_output_fn = f'cmd_AdaBoost_train.{lip_type}.{threshold}.txt'\n",
    "fh_cmd = open(cmd_output_fn, 'w')\n",
    "lst_lipids = []\n",
    "with open(fn_lst_lipid) as fh:\n",
    "    for line in fh:\n",
    "        lst_lipids.append(line.strip())\n",
    "c = 0\n",
    "for lipid in lst_lipids:\n",
    "    lipid_name = lipid.replace('\\\\', '-').replace('/', '-').replace('(','-').replace(')','-').replace(' ', '_')\n",
    "    cmd = f'lip_type={lip_type};'\n",
    "    cmd += f'lipid=\"{lipid}\";'\n",
    "    cmd += f'output_prefix=\"{lipid_name}\";'\n",
    "    cmd += '''python ML_08_boosting_model_train.py \\\n",
    "--output_prefix ${output_prefix} \\\n",
    "--output_dir /data100t1/home/wanying/CCHC/lipidomics/20231211_rerun/outputs/prediction_models/AdaBoost/${lip_type} \\\n",
    "--dosage_dir_train /data100t1/home/wanying/CCHC/lipidomics/20231211_rerun/inputs/genotype_dosage/train/lipid_${lip_type} \\\n",
    "--dosage_fn_train lipid_${lip_type}_chr*.pval_0.001_maf_0.05.vcf.dosage.gz \\\n",
    "--dosage_dir_test /data100t1/home/wanying/CCHC/lipidomics/20231211_rerun/inputs/genotype_dosage/test/lipid_${lip_type} \\\n",
    "--dosage_fn_test lipid_${lip_type}_chr*.pval_0.001_maf_0.05.test.vcf.dosage.gz \\\n",
    "--gwas_snp_dir /data100t1/home/wanying/CCHC/lipidomics/20231211_rerun/outputs/fastGWA/lipid_${lip_type}_filter_by_%s \\\n",
    "--gwas_snp_fn %s_SNPs.%s.txt \\\n",
    "--lipid_name \"${lipid}\" \\\n",
    "--trait_fn_train /data100t1/home/wanying/CCHC/lipidomics/20231211_rerun/inputs/lipid_trait/lipid_${lip_type}_ID_matched.no_dup.residual.train.txt \\\n",
    "--trait_fn_test /data100t1/home/wanying/CCHC/lipidomics/20231211_rerun/inputs/lipid_trait/lipid_${lip_type}_ID_matched.no_dup.residual.test.txt \\\n",
    "--multiallelic False \\\n",
    "--train True \\\n",
    "--n_estimator 100 \\\n",
    "--boost_type Ada''' % (threshold, lipid_name, threshold)\n",
    "    fh_cmd.write(cmd + '\\n')\n",
    "    c += 1\n",
    "    print(f'\\rProcess {c}', end='', flush=True)\n",
    "\n",
    "fh_cmd.close()"
   ]
  },
  {
   "cell_type": "markdown",
   "metadata": {
    "collapsed": false
   },
   "source": [
    "# 2. Gradient boosting"
   ]
  },
  {
   "cell_type": "code",
   "execution_count": null,
   "metadata": {
    "collapsed": false
   },
   "outputs": [],
   "source": [
    "%%bash\n",
    "# Example call\n",
    "lip_type=species\n",
    "lipid=\"AC(16:1)-OH\"\n",
    "output_prefix=AC-16:1--OH\n",
    "python ML_08v2_boosting_model_train_and_test.py \\\n",
    "--output_prefix ${output_prefix} \\\n",
    "--output_dir /data100t1/home/wanying/CCHC/lipidomics/20231211_rerun/outputs/prediction_models/GradientBoosting/species \\\n",
    "--dosage_dir_train /data100t1/home/wanying/CCHC/lipidomics/20231211_rerun/inputs/genotype_dosage/train/lipid_${lip_type} \\\n",
    "--dosage_fn_train lipid_${lip_type}_chr*.pval_0.001_maf_0.05.vcf.dosage.gz \\\n",
    "--dosage_dir_test /data100t1/home/wanying/CCHC/lipidomics/20231211_rerun/inputs/genotype_dosage/test/lipid_${lip_type} \\\n",
    "--dosage_fn_test lipid_${lip_type}_chr*.pval_0.001_maf_0.05.test.vcf.dosage.gz \\\n",
    "--gwas_snp_fn /data100t1/home/wanying/CCHC/lipidomics/20231211_rerun/outputs/fastGWA/lipid_species_filter_by_pval_1e-07/AC-16:1--OH_SNPs.pval_1e-07.txt \\\n",
    "--lipid_name ${lipid} \\\n",
    "--trait_fn_train /data100t1/home/wanying/CCHC/lipidomics/20231211_rerun/inputs/lipid_trait/lipid_${lip_type}_ID_matched.no_dup.residual.train.txt \\\n",
    "--trait_fn_test /data100t1/home/wanying/CCHC/lipidomics/20231211_rerun/inputs/lipid_trait/lipid_${lip_type}_ID_matched.no_dup.residual.test.txt \\\n",
    "--multiallelic False \\\n",
    "--n_estimator 20,30,50,75,100,150,200,250,300,500 \\\n",
    "--learning_rate 0.002,0.004,0.006,0.008,0.01,0.02,0.04,0.06,0.08,0.1,0.2,0.4,0.5 \\\n",
    "--model Gradient"
   ]
  },
  {
   "cell_type": "code",
   "execution_count": 2,
   "metadata": {
    "ExecuteTime": {
     "end_time": "2024-01-29T23:44:39.523672Z",
     "start_time": "2024-01-29T23:44:39.316556Z"
    },
    "collapsed": false
   },
   "outputs": [
    {
     "name": "stdout",
     "output_type": "stream",
     "text": [
      "Process 349"
     ]
    }
   ],
   "source": [
    "# create cmds\n",
    "# Load all lipid names\n",
    "lip_type='species'\n",
    "threshold = 'pval_1e-05'\n",
    "fn_lst_lipid = f'/data100t1/home/wanying/CCHC/lipidomics/20231211_rerun/inputs/lipid_trait/lipid_{lip_type}.list'\n",
    "cmd_output_fn = f'cmd_GradientBoosting_train.{lip_type}.{threshold}.txt'\n",
    "fh_cmd = open(cmd_output_fn, 'w')\n",
    "lst_lipids = []\n",
    "with open(fn_lst_lipid) as fh:\n",
    "    for line in fh:\n",
    "        lst_lipids.append(line.strip())\n",
    "\n",
    "c = 0\n",
    "for lipid in lst_lipids:\n",
    "    lipid_name = lipid.replace('\\\\', '-').replace('/', '-').replace('(','-').replace(')','-').replace(' ', '_')\n",
    "    cmd = f'lip_type={lip_type};'\n",
    "    cmd += f'lipid=\"{lipid}\";'\n",
    "    cmd += f'output_prefix=\"{lipid_name}\";'\n",
    "    cmd += '''python ML_08v2_boosting_model_train_and_test.py \\\n",
    "--output_prefix ${output_prefix} \\\n",
    "--output_dir /data100t1/home/wanying/CCHC/lipidomics/20231211_rerun/outputs/prediction_models/GradientBoosting/species \\\n",
    "--dosage_dir_train /data100t1/home/wanying/CCHC/lipidomics/20231211_rerun/inputs/genotype_dosage/train/lipid_${lip_type} \\\n",
    "--dosage_fn_train lipid_${lip_type}_chr*.pval_0.001_maf_0.05.vcf.dosage.gz \\\n",
    "--dosage_dir_test /data100t1/home/wanying/CCHC/lipidomics/20231211_rerun/inputs/genotype_dosage/test/lipid_${lip_type} \\\n",
    "--dosage_fn_test lipid_${lip_type}_chr*.pval_0.001_maf_0.05.test.vcf.dosage.gz \\\n",
    "--gwas_snp_fn /data100t1/home/wanying/CCHC/lipidomics/20231211_rerun/outputs/fastGWA/lipid_species_filter_by_%s/%s_SNPs.%s.txt \\\n",
    "--lipid_name \"${lipid}\" \\\n",
    "--trait_fn_train /data100t1/home/wanying/CCHC/lipidomics/20231211_rerun/inputs/lipid_trait/lipid_${lip_type}_ID_matched.no_dup.residual.train.txt \\\n",
    "--trait_fn_test /data100t1/home/wanying/CCHC/lipidomics/20231211_rerun/inputs/lipid_trait/lipid_${lip_type}_ID_matched.no_dup.residual.test.txt \\\n",
    "--multiallelic False \\\n",
    "--n_estimator 20,30,50,75,100,150,200,250,300,500 \\\n",
    "--learning_rate 0.002,0.004,0.006,0.008,0.01,0.02,0.04,0.06,0.08,0.1,0.2,0.4,0.5 \\\n",
    "--model Gradient''' % (threshold, lipid_name, threshold)\n",
    "    fh_cmd.write(cmd + '\\n')\n",
    "    c += 1\n",
    "    print(f'\\rProcess {c}', end='', flush=True)\n",
    "\n",
    "fh_cmd.close()"
   ]
  },
  {
   "cell_type": "code",
   "execution_count": null,
   "metadata": {
    "collapsed": false
   },
   "outputs": [],
   "source": []
  }
 ],
 "metadata": {
  "kernelspec": {
   "display_name": "Python 3",
   "language": "python",
   "name": "python3"
  },
  "language_info": {
   "codemirror_mode": {
    "name": "ipython",
    "version": 3
   },
   "file_extension": ".py",
   "mimetype": "text/x-python",
   "name": "python",
   "nbconvert_exporter": "python",
   "pygments_lexer": "ipython3",
   "version": "3.9.7"
  }
 },
 "nbformat": 4,
 "nbformat_minor": 4
}
