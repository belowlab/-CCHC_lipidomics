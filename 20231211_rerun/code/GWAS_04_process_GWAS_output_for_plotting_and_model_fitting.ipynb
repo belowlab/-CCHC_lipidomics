{
 "cells": [
  {
   "cell_type": "code",
   "execution_count": 1,
   "metadata": {
    "ExecuteTime": {
     "end_time": "2024-01-01T02:00:28.517838Z",
     "start_time": "2024-01-01T02:00:14.435924Z"
    },
    "collapsed": true
   },
   "outputs": [
    {
     "name": "stdout",
     "output_type": "stream",
     "text": [
      "Last run: 2023-12-31\n"
     ]
    }
   ],
   "source": [
    "import pandas as pd\n",
    "import numpy as np\n",
    "import matplotlib .pyplot as plt\n",
    "import os\n",
    "import datetime\n",
    "print('Last run:', datetime.datetime.now().strftime('%Y-%m-%d'))"
   ]
  },
  {
   "cell_type": "markdown",
   "metadata": {
    "collapsed": false
   },
   "source": [
    "# 1. Filter SNPs by MAF and GWAS p value"
   ]
  },
  {
   "cell_type": "code",
   "execution_count": 43,
   "metadata": {
    "ExecuteTime": {
     "end_time": "2023-12-20T23:09:02.281455Z",
     "start_time": "2023-12-20T23:09:02.018098Z"
    },
    "collapsed": false
   },
   "outputs": [
    {
     "data": {
      "text/plain": [
       "(array([  1.,   1.,   1.,   3.,   8.,   6.,  14.,  36.,  46.,  52.,  73.,\n",
       "         82., 109., 144., 161., 149., 148., 118., 118.,  97.,  74.,  67.,\n",
       "         27.,  32.,  15.,  13.,   4.,   2.,   4.,   1.]),\n",
       " array([-3.52839296, -3.30079803, -3.0732031 , -2.84560816, -2.61801323,\n",
       "        -2.3904183 , -2.16282337, -1.93522843, -1.7076335 , -1.48003857,\n",
       "        -1.25244364, -1.02484871, -0.79725377, -0.56965884, -0.34206391,\n",
       "        -0.11446898,  0.11312596,  0.34072089,  0.56831582,  0.79591075,\n",
       "         1.02350569,  1.25110062,  1.47869555,  1.70629048,  1.93388542,\n",
       "         2.16148035,  2.38907528,  2.61667021,  2.84426515,  3.07186008,\n",
       "         3.29945501]),\n",
       " <BarContainer object of 30 artists>)"
      ]
     },
     "execution_count": 43,
     "metadata": {},
     "output_type": "execute_result"
    },
    {
     "data": {
      "image/png": "[encoded data removed]",
      "text/plain": [
       "<Figure size 432x288 with 1 Axes>"
      ]
     },
     "metadata": {
      "needs_background": "light"
     },
     "output_type": "display_data"
    }
   ],
   "source": [
    "# Troubleshoot\n",
    "# Check lipid species: CE-24:4-\n",
    "# fastGWA did not complete due to error: fastGWA-REML can't converge\n",
    "df_lip_pheno = pd.read_csv('/data100t1/home/wanying/CCHC/lipidomics/20231211_rerun/supporting_files/GWAS_files/lipid_species/CE-24:4-.pheno',\n",
    "                           sep=' ', header=None)\n",
    "# Compare to old residuals\n",
    "fig, ax = plt.subplots()\n",
    "ax.hist(df_lip_pheno[2], bins=30)"
   ]
  },
  {
   "cell_type": "markdown",
   "metadata": {
    "collapsed": false
   },
   "source": [
    "## 1.1 Lipid class"
   ]
  },
  {
   "cell_type": "code",
   "execution_count": 8,
   "metadata": {
    "ExecuteTime": {
     "end_time": "2024-01-01T02:10:26.568538Z",
     "start_time": "2024-01-01T02:10:26.567266Z"
    },
    "collapsed": false
   },
   "outputs": [],
   "source": [
    "# Create commands to subset GWAS result, filter by gwas pval with and without given MAF\n",
    "# Below code is based on pre-filterd GWAS files at pval of 1e-3. Change gwas_result_dir if needed\n",
    "def create_commands_to_subset_GWAS_result(lipid_type, pval_threshold, maf_threshold, suffix):\n",
    "    '''\n",
    "    :param lipid_type: class or species\n",
    "    :param pval_threshold: p value threshold\n",
    "    :param maf_threshold: MAF threshold\n",
    "    :param suffix: suffix of GWAS result file. For fastGWA the result files ends with .fastGWA\n",
    "    :return: Save commands into file using given p value threshold, with or without MAF threshold\n",
    "    '''\n",
    "    print(f'Lipid_type:{lipid_type}; pval threshold: {pval_threshold}; MAF threshold: {maf_threshold}')\n",
    "    gwas_result_dir = f'/data100t1/home/wanying/CCHC/lipidomics/20231211_rerun/outputs/fastGWA/lipid_{lipid_type}_filter_by_pval_1e-03'\n",
    "    output_no_maf = f'/data100t1/home/wanying/CCHC/lipidomics/20231211_rerun/outputs/fastGWA/lipid_{lipid_type}_filter_by_pval_{pval_threshold}'\n",
    "    output_with_maf = f'/data100t1/home/wanying/CCHC/lipidomics/20231211_rerun/outputs/fastGWA/lipid_{lipid_type}_filter_by_pval_{pval_threshold}_MAF_{maf_threshold}'\n",
    "    script_dir = '/data100t1/home/wanying/CCHC/lipidomics/20231211_rerun/code'\n",
    "\n",
    "    cmd_fn_no_maf = f'run_filter_gwas_snps_lipid_{lipid_type}_cmds.pval_{pval_threshold}.txt'\n",
    "    cmd_fn_with_maf = f'run_filter_gwas_snps_lipid_{lipid_type}_cmds.pval_{pval_threshold}.maf_{maf_threshold}.txt'\n",
    "\n",
    "    fh_no_maf = open(cmd_fn_no_maf, 'w')\n",
    "    fh_with_maf = open(cmd_fn_with_maf, 'w')\n",
    "    for fn in os.listdir(gwas_result_dir):\n",
    "        if fn.endswith(suffix) and fn!='all_SNPs.pval_0.001.txt': # Ignore mreged SNP if redo the subsetting\n",
    "            cmd_no_maf = f'python {script_dir}/GWAS_03_filter_gwas_snps.py --input {gwas_result_dir}/{fn} --output_dir {output_no_maf} --pval {pval_threshold}'\n",
    "            cmd_with_maf = f'python {script_dir}/GWAS_03_filter_gwas_snps.py --input {gwas_result_dir}/{fn} --output_dir {output_with_maf} --pval {pval_threshold} --maf {maf_threshold}'\n",
    "\n",
    "            fh_no_maf.write(cmd_no_maf+'\\n')\n",
    "            fh_with_maf.write(cmd_with_maf+'\\n')\n",
    "    fh_no_maf.close()\n",
    "    fh_with_maf.close()\n",
    "    print('DONE\\n')"
   ]
  },
  {
   "cell_type": "code",
   "execution_count": 9,
   "metadata": {
    "ExecuteTime": {
     "end_time": "2024-01-01T02:10:27.903421Z",
     "start_time": "2024-01-01T02:10:27.892098Z"
    },
    "collapsed": false
   },
   "outputs": [
    {
     "name": "stdout",
     "output_type": "stream",
     "text": [
      "Lipid_type:class; pval threshold: 0.0001; MAF threshold: 0.01\n",
      "DONE\n",
      "\n"
     ]
    }
   ],
   "source": [
    "# Test p value of 1e-3 to 5e-8.\n",
    "# According to literature, genome-wide pval<5e-8 is better with less overfitting\n",
    "create_commands_to_subset_GWAS_result(lipid_type = 'class', pval_threshold = 1e-4, maf_threshold = 1e-2, suffix='txt')\n",
    "create_commands_to_subset_GWAS_result(lipid_type = 'class', pval_threshold = 1e-5, maf_threshold = 1e-2, suffix='txt')\n",
    "create_commands_to_subset_GWAS_result(lipid_type = 'class', pval_threshold = 1e-6, maf_threshold = 1e-2, suffix='txt')\n",
    "create_commands_to_subset_GWAS_result(lipid_type = 'class', pval_threshold = 1e-7, maf_threshold = 1e-2, suffix='txt')\n",
    "create_commands_to_subset_GWAS_result(lipid_type = 'class', pval_threshold = 5e-8, maf_threshold = 1e-2, suffix='txt')\n"
   ]
  },
  {
   "cell_type": "markdown",
   "metadata": {
    "collapsed": false
   },
   "source": [
    "## 1.2 Lipid species"
   ]
  },
  {
   "cell_type": "code",
   "execution_count": 27,
   "metadata": {
    "ExecuteTime": {
     "end_time": "2023-12-21T17:47:37.089825Z",
     "start_time": "2023-12-21T17:47:36.966761Z"
    },
    "collapsed": false
   },
   "outputs": [
    {
     "name": "stdout",
     "output_type": "stream",
     "text": [
      "DONE\n"
     ]
    }
   ],
   "source": [
    "# Create commands to subset GWAS result\n",
    "gwas_result_dir = '/data100t1/home/wanying/CCHC/lipidomics/20231211_rerun/outputs/fastGWA/lipid_species'\n",
    "input_dir = '/data100t1/home/wanying/CCHC/lipidomics/20231211_rerun/outputs/fastGWA/lipid_species'\n",
    "output_no_maf = '/data100t1/home/wanying/CCHC/lipidomics/20231211_rerun/outputs/fastGWA/lipid_species_filter_by_pval_1e-3'\n",
    "output_with_maf = '/data100t1/home/wanying/CCHC/lipidomics/20231211_rerun/outputs/fastGWA/lipid_species_filter_by_pval_1e-3_MAF_5e-2'\n",
    "script_dir = '/data100t1/home/wanying/CCHC/lipidomics/20231211_rerun/code'\n",
    "\n",
    "cmd_fn_no_maf = 'filter_gwas_snps_lipid_species_cmds_no_maf.txt'\n",
    "cmd_fn_with_maf = 'filter_gwas_snps_lipid_species_cmds.txt'\n",
    "\n",
    "fh_no_maf = open(cmd_fn_no_maf, 'w')\n",
    "fh_with_maf = open(cmd_fn_with_maf, 'w')\n",
    "for fn in os.listdir(input_dir):\n",
    "    if fn.endswith('fastGWA'):\n",
    "        cmd_no_maf = f'python {script_dir}/GWAS_03_filter_gwas_snps.py --input {gwas_result_dir}/{fn} --output_dir {output_no_maf} --pval 1e-3'\n",
    "        cmd_with_maf = f'python {script_dir}/GWAS_03_filter_gwas_snps.py --input {gwas_result_dir}/{fn} --output_dir {output_with_maf} --pval 1e-3 --maf 0.05'\n",
    "\n",
    "        fh_no_maf.write(cmd_no_maf+'\\n')\n",
    "        fh_with_maf.write(cmd_with_maf+'\\n')\n",
    "\n",
    "fh_no_maf.close()\n",
    "fh_with_maf.close()\n",
    "print('DONE')"
   ]
  },
  {
   "cell_type": "code",
   "execution_count": 33,
   "metadata": {
    "ExecuteTime": {
     "end_time": "2023-12-21T17:52:22.830443Z",
     "start_time": "2023-12-21T17:52:22.782Z"
    },
    "collapsed": false
   },
   "outputs": [
    {
     "name": "stdout",
     "output_type": "stream",
     "text": [
      "DONE\n"
     ]
    }
   ],
   "source": [
    "c = 0\n",
    "num_batch = 1\n",
    "# o_fn = f'run_filter_gwas_snps_lipid_species_cmds_with_maf_{num_batch}.txt'\n",
    "o_fn = f'run_filter_gwas_snps_lipid_species_cmds_no_maf_{num_batch}.txt'\n",
    "out_fh = open(o_fn, 'w')\n",
    "cmd_fn_no_maf = 'run_filter_gwas_snps_lipid_species_cmds_no_maf.txt'\n",
    "cmd_fn_with_maf = 'run_filter_gwas_snps_lipid_species_cmds.txt'\n",
    "with open(cmd_fn_no_maf) as fh:\n",
    "    for line in fh:\n",
    "        out_fh.write(line)\n",
    "        c += 1\n",
    "        if c==93:\n",
    "            c=0\n",
    "            num_batch += 1\n",
    "            out_fh.close()\n",
    "            # o_fn = f'run_filter_gwas_snps_lipid_species_cmds_with_maf_{num_batch}.txt'\n",
    "            o_fn = f'run_filter_gwas_snps_lipid_species_cmds_no_maf_{num_batch}.txt'\n",
    "            out_fh = open(o_fn, 'w')\n",
    "out_fh.close()\n",
    "print('DONE')"
   ]
  },
  {
   "cell_type": "code",
   "execution_count": 45,
   "metadata": {
    "ExecuteTime": {
     "end_time": "2023-12-21T21:43:03.789639Z",
     "start_time": "2023-12-21T21:43:03.759859Z"
    },
    "collapsed": false
   },
   "outputs": [],
   "source": [
    "# MAF>0.05 might be too high, since we are interested in population specific SNPs\n",
    "# Further subset byp value<0.05 and MAF>0.01 using filtered files\n",
    "def subset_filtered_snps_by_maf(maf_threshold = 0.01,\n",
    "                                input_dir = '/data100t1/home/wanying/CCHC/lipidomics/20231211_rerun/outputs/fastGWA/lipid_class_filter_by_pval_1e-3',\n",
    "                                output_dir = '/data100t1/home/wanying/CCHC/lipidomics/20231211_rerun/outputs/fastGWA/lipid_class_filter_by_pval_1e-3_MAF_1e-2'):\n",
    "    total_num_files = len(os.listdir(input_dir))\n",
    "    c = 0\n",
    "\n",
    "    if not os.path.isdir(os.path.expanduser(output_dir)):\n",
    "        print('# Output path does not exist, create a new one:', os.path.expanduser(output_dir))\n",
    "        os.mkdir(os.path.expanduser(output_dir))\n",
    "\n",
    "    for fn in os.listdir(input_dir):\n",
    "        lip = fn.split('_SNPs')[0]\n",
    "        df = pd.read_csv(f'{input_dir}/{fn}', sep='\\t')\n",
    "        mask = (df['AF1']>maf_threshold) & (df['AF1']<(1-maf_threshold))\n",
    "        df[mask].to_csv(f'{output_dir}/{lip}_SNPs.pval_0.001.maf_{maf_threshold}.txt', sep='\\t', index=False)\n",
    "        c += 1\n",
    "        print(f'\\r# Processing {c}/{total_num_files}    ', end='', flush=True)\n",
    "    print('\\n# DONE')\n"
   ]
  },
  {
   "cell_type": "code",
   "execution_count": 46,
   "metadata": {
    "ExecuteTime": {
     "end_time": "2023-12-21T21:45:38.542480Z",
     "start_time": "2023-12-21T21:43:03.820489Z"
    },
    "collapsed": false
   },
   "outputs": [
    {
     "name": "stdout",
     "output_type": "stream",
     "text": [
      "# Processing 49/49    \n",
      "# DONE\n",
      "# Output path does not exist, create a new one: /data100t1/home/wanying/CCHC/lipidomics/20231211_rerun/outputs/fastGWA/lipid_species_filter_by_pval_1e-3_MAF_1e-2\n",
      "# Processing 830/830    \n",
      "# DONE\n"
     ]
    }
   ],
   "source": [
    "# Lipid class\n",
    "subset_filtered_snps_by_maf(maf_threshold = 0.01,\n",
    "                            input_dir = '/data100t1/home/wanying/CCHC/lipidomics/20231211_rerun/outputs/fastGWA/lipid_class_filter_by_pval_1e-3',\n",
    "                            output_dir = '/data100t1/home/wanying/CCHC/lipidomics/20231211_rerun/outputs/fastGWA/lipid_class_filter_by_pval_1e-3_MAF_1e-2')\n",
    "\n",
    "# Lipid species\n",
    "subset_filtered_snps_by_maf(maf_threshold = 0.01,\n",
    "                            input_dir = '/data100t1/home/wanying/CCHC/lipidomics/20231211_rerun/outputs/fastGWA/lipid_species_filter_by_pval_1e-3',\n",
    "                            output_dir = '/data100t1/home/wanying/CCHC/lipidomics/20231211_rerun/outputs/fastGWA/lipid_species_filter_by_pval_1e-3_MAF_1e-2')"
   ]
  },
  {
   "cell_type": "code",
   "execution_count": null,
   "metadata": {
    "collapsed": false
   },
   "outputs": [],
   "source": [
    "# Test p value of 1e-3 to 5e-8.\n",
    "# According to literature, genome-wide pval<5e-8 is better with less overfitting\n",
    "create_commands_to_subset_GWAS_result(lipid_type = 'species', pval_threshold = 1e-4, maf_threshold = 1e-2, suffix='txt')\n",
    "create_commands_to_subset_GWAS_result(lipid_type = 'species', pval_threshold = 1e-5, maf_threshold = 1e-2, suffix='txt')\n",
    "create_commands_to_subset_GWAS_result(lipid_type = 'species', pval_threshold = 1e-6, maf_threshold = 1e-2, suffix='txt')\n",
    "create_commands_to_subset_GWAS_result(lipid_type = 'species', pval_threshold = 1e-7, maf_threshold = 1e-2, suffix='txt')\n",
    "create_commands_to_subset_GWAS_result(lipid_type = 'species', pval_threshold = 5e-8, maf_threshold = 1e-2, suffix='txt')"
   ]
  }
 ],
 "metadata": {
  "kernelspec": {
   "display_name": "Python 3",
   "language": "python",
   "name": "python3"
  },
  "language_info": {
   "codemirror_mode": {
    "name": "ipython",
    "version": 2
   },
   "file_extension": ".py",
   "mimetype": "text/x-python",
   "name": "python",
   "nbconvert_exporter": "python",
   "pygments_lexer": "ipython2",
   "version": "2.7.6"
  }
 },
 "nbformat": 4,
 "nbformat_minor": 0
}
