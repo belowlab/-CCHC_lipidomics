{
 "cells": [
  {
   "cell_type": "markdown",
   "id": "5defb59f-e2ae-4185-8259-f751e00715c2",
   "metadata": {},
   "source": [
    "## Fine mapping tools\n",
    "1. susieR (R)\n",
    "2. GTEx:\n",
    "    * CAVIAR\n",
    "    * CaVEMaN\n",
    "    * DAP-G\n"
   ]
  },
  {
   "cell_type": "code",
   "execution_count": 1,
   "id": "d4b59903-e983-4b0f-957f-41dcb0ace756",
   "metadata": {},
   "outputs": [
    {
     "name": "stdout",
     "output_type": "stream",
     "text": [
      "# Last run: 2023-08-25\n"
     ]
    }
   ],
   "source": [
    "import pandas as pd\n",
    "import datetime\n",
    "import os\n",
    "print('# Last run:', datetime.datetime.now().strftime('%Y-%m-%d'))"
   ]
  },
  {
   "cell_type": "markdown",
   "id": "cf7197ac-3942-4e76-99ef-2697a77184f2",
   "metadata": {
    "tags": []
   },
   "source": [
    "## 1. Calculate LD btween significant SNPs\n",
    "1. pval<=5e-8, or\n",
    "2. pval<=6e-11 (also adjusted for number of lipid species 0.05/1000000/830)"
   ]
  },
  {
   "cell_type": "code",
   "execution_count": null,
   "id": "6b3bcee9-27e2-4e68-844b-04fbb005d598",
   "metadata": {},
   "outputs": [],
   "source": [
    "output_dir = '/data100t1/home/wanying/CCHC/lipidomics/output/finamapping'\n"
   ]
  },
  {
   "cell_type": "code",
   "execution_count": 4,
   "id": "ae5b22b1-9dfe-48ca-86ff-5206baaa18d3",
   "metadata": {},
   "outputs": [
    {
     "data": {
      "text/plain": [
       "6.024096385542169e-11"
      ]
     },
     "execution_count": 4,
     "metadata": {},
     "output_type": "execute_result"
    }
   ],
   "source": [
    "x"
   ]
  },
  {
   "cell_type": "code",
   "execution_count": null,
   "id": "99a19903-db56-43ab-8163-e5386c7081d9",
   "metadata": {},
   "outputs": [],
   "source": []
  }
 ],
 "metadata": {
  "kernelspec": {
   "display_name": "Python 3",
   "language": "python",
   "name": "python3"
  },
  "language_info": {
   "codemirror_mode": {
    "name": "ipython",
    "version": 3
   },
   "file_extension": ".py",
   "mimetype": "text/x-python",
   "name": "python",
   "nbconvert_exporter": "python",
   "pygments_lexer": "ipython3",
   "version": "3.9.7"
  }
 },
 "nbformat": 4,
 "nbformat_minor": 5
}
