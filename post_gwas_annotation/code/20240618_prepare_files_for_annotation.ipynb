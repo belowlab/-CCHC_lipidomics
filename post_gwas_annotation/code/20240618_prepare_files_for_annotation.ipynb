{
 "cells": [
  {
   "cell_type": "code",
   "execution_count": null,
   "id": "ce01f2fd-ff63-4e7f-8fa0-270070e70846",
   "metadata": {},
   "outputs": [],
   "source": [
    "# Prepare input file (in VCF) for VEP annotation"
   ]
  },
  {
   "cell_type": "code",
   "execution_count": 1,
   "id": "4658c19e-02e6-43f0-96a6-5fc74f9961c4",
   "metadata": {},
   "outputs": [
    {
     "name": "stdout",
     "output_type": "stream",
     "text": [
      "2024-06-18\n"
     ]
    }
   ],
   "source": [
    "import pandas as pd\n",
    "import os\n",
    "import sys\n",
    "sys.path = sys.path + ['/data100t1/home/wanying/lab_code/utils']\n",
    "from snp_id2vcf import snp_id2vcf\n",
    "import datetime\n",
    "print(datetime.datetime.now().strftime('%Y-%m-%d'))"
   ]
  },
  {
   "cell_type": "code",
   "execution_count": 2,
   "id": "535a4ff6-134c-438b-a979-de4973020e1c",
   "metadata": {},
   "outputs": [
    {
     "name": "stdout",
     "output_type": "stream",
     "text": [
      "\n",
      "# Processing: species\n",
      "# - Initial merge: (62261, 11)\n",
      "# - No dup: (7612, 11)\n",
      "\n",
      "# Processing: class\n",
      "# - Initial merge: (833, 11)\n",
      "# - No dup: (691, 11)\n"
     ]
    }
   ],
   "source": [
    "lipid_type = 'species'\n",
    "for lipid_type in ['species', 'class']:\n",
    "    print('\\n# Processing:', lipid_type)\n",
    "\n",
    "    fn_gwas_result = f'/data100t1/home/wanying/CCHC/lipidomics/output/lipidomics_GWAS_significant_SNPs/lipid_{lipid_type}_age_sex_pc.significant_SNPs.BF_corrected_by_effective_size.txt'\n",
    "    df = pd.read_csv(fn_gwas_result, sep='\\t')\n",
    "    \n",
    "    # Keep duplicate SNPs with the smallest p-value\n",
    "    df.sort_values(by=['CHR', 'POS', 'A1', 'P'], inplace=True)\n",
    "    print('# - Initial merge:', df.shape)\n",
    "    \n",
    "    df.drop_duplicates(subset='SNP', inplace=True)\n",
    "    print('# - No dup:', df.shape)\n",
    "    snp_id2vcf(data=df, output_prefix=f'../supporting_files/VEP_input_lipid_{lipid_type}_age_sex_pc.significant_SNPs.BF_corrected_by_effective_size', id_col_name='SNP')"
   ]
  },
  {
   "cell_type": "code",
   "execution_count": 3,
   "id": "abf73384-2003-475c-9866-8b865d5281c7",
   "metadata": {},
   "outputs": [],
   "source": []
  },
  {
   "cell_type": "code",
   "execution_count": null,
   "id": "2e452d4e-df83-4037-9de2-9601e42b0533",
   "metadata": {},
   "outputs": [],
   "source": []
  }
 ],
 "metadata": {
  "kernelspec": {
   "display_name": "Python 3 (ipykernel)",
   "language": "python",
   "name": "python3"
  },
  "language_info": {
   "codemirror_mode": {
    "name": "ipython",
    "version": 3
   },
   "file_extension": ".py",
   "mimetype": "text/x-python",
   "name": "python",
   "nbconvert_exporter": "python",
   "pygments_lexer": "ipython3",
   "version": "3.12.3"
  }
 },
 "nbformat": 4,
 "nbformat_minor": 5
}
