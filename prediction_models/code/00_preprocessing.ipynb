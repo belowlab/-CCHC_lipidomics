{
 "cells": [
  {
   "cell_type": "code",
   "execution_count": 1,
   "id": "8239047a-050c-4a37-ab0b-f47731552580",
   "metadata": {},
   "outputs": [],
   "source": [
    "import pandas as pd\n",
    "import matplotlib.pyplot as plt\n",
    "from sklearn.linear_model import LinearRegression\n",
    "import numpy as np\n",
    "import os"
   ]
  },
  {
   "cell_type": "markdown",
   "id": "8a8caf14-8158-4e1e-abdb-da7a3a115daa",
   "metadata": {},
   "source": [
    "# 1. Adjustment\n",
    "Predixcan and JTI model used adjusted gene expression as:\n",
    "```\n",
    "The gene expression level used for training and testing was the residual of the normalized expression level after adjusting for covariates: gender, platform, first five principal components, and PEER factors for each tissue\n",
    "```"
   ]
  },
  {
   "cell_type": "code",
   "execution_count": 29,
   "id": "1f3f454b-ba5e-4ae9-8930-ffcb169be9c8",
   "metadata": {},
   "outputs": [
    {
     "name": "stdout",
     "output_type": "stream",
     "text": [
      "# Load INVed lipidomic data\n",
      "# Load unrelated set from PRIMUS\n",
      "# Load ID mapping\n",
      "# ########### Run linear model ###########\n",
      "# - Save result to /data100t1/home/wanying/CCHC/lipidomics/prediction_models/input_docs/lipid_traits_residuals/train/lipid_species_residuals_adj_for_sex_age_pc1-5.txt\n",
      ".........................................# - Reformat residual file (for training purpose)\n",
      "# Done. 830 lipids processed\n"
     ]
    }
   ],
   "source": [
    "# Adjust lipid traits:\n",
    "# Take residuals of model: lipid trait ~ sex + age + PC1-5 (+ lipid lowering meds)\n",
    "print('# Load INVed lipidomic data')\n",
    "file_dir = '/data100t1/home/wanying/CCHC/lipidomics/input_docs/pheno_covar_files/'\n",
    "fn_lip_species = 'lipid_species_INVed_covar.txt'\n",
    "fn_lip_class = 'lipid_class_INVed_covar.txt'\n",
    "\n",
    "df_lip_species = pd.read_csv(file_dir+fn_lip_species, sep='\\t')\n",
    "df_lip_class = pd.read_csv(file_dir+fn_lip_class, sep='\\t')\n",
    "# display(df_lip_species.head())\n",
    "\n",
    "print('# Load unrelated set from PRIMUS')\n",
    "fn_unrel = '/data100t1/home/wanying/CCHC/lipidomics/input_docs/primus/primus_rel_3/plink.genome_maximum_independent_set_PRIMUS'\n",
    "df_unrelated = pd.read_csv(fn_unrel,sep='\\t')\n",
    "\n",
    "print('# Load ID mapping')\n",
    "fn_id_mapping = '/data100t1/home/wanying/CCHC/doc/samples_IDs/202211_merged_RNA_lipid_protein_genotype_mapping_and_availability.txt'\n",
    "df_id_mapping = pd.read_csv(fn_id_mapping, sep='\\t')\n",
    "\n",
    "df_unrelated = df_unrelated.merge(df_id_mapping,\n",
    "                                  left_on='FID',\n",
    "                                  right_on='genotype_ID').drop_duplicates(subset='RRID')\n",
    "\n",
    "print('# ########### Run linear model ###########')\n",
    "output = '/data100t1/home/wanying/CCHC/lipidomics/prediction_models/input_docs/lipid_traits_residuals/train/lipid_species_residuals_adj_for_sex_age_pc1-5.txt'\n",
    "# output = '/data100t1/home/wanying/CCHC/lipidomics/prediction_models/input_docs/lipid_traits_residuals/train/lipid_species_residuals_adj_for_sex_age_statin_pc1-5.txt'\n",
    "if os.path.isfile(output):\n",
    "    print('# - File already exist, skip saving')\n",
    "    print(f'# Done')\n",
    "else:\n",
    "    print(f'# - Save result to {output}')\n",
    "    fh_output = open(output, 'w')\n",
    "    c = 0\n",
    "    df_lip_species = df_unrelated[['RRID']].merge(df_lip_species, on='RRID')\n",
    "    df_lip_species['ON_STATIN'] = df_lip_species['ON_STATIN'].replace(np.nan, 0)\n",
    "    # Write header line\n",
    "    header = '\\t'.join([x for x in df_lip_species['LABID']])\n",
    "    fh_output.write('Lipid\\t'+header+'\\n')\n",
    "    for lip in df_lip_species.columns[32:]:\n",
    "        # print('# Processing:', lip)\n",
    "        cov_cols = ['GENDER', 'AGE_AT_VISIT', 'PC1', 'PC2', 'PC3', 'PC4', 'PC5']\n",
    "        # cov_cols = ['GENDER', 'AGE_AT_VISIT', 'ON_STATIN', 'PC1', 'PC2', 'PC3', 'PC4', 'PC5']\n",
    "        X = df_lip_species[cov_cols]\n",
    "        y = df_lip_species[lip]\n",
    "        # Run OLS regression, get residuals\n",
    "        reg = LinearRegression().fit(X,y)\n",
    "        residuals = reg.predict(X) - y\n",
    "        output_line = '\\t'.join(str(val) for val in residuals)\n",
    "        fh_output.write(lip+'\\t'+output_line+'\\n')\n",
    "        c += 1\n",
    "        if c%20==0:\n",
    "            print('.', end='', flush=True)\n",
    "    fh_output.close()\n",
    "    print('# - Reformat residual file (for training purpose)')\n",
    "    df_residuals = pd.read_csv(output, sep='\\t').T.reset_index()\n",
    "    df_residuals.columns = df_residuals.iloc[0, :].values\n",
    "    df_residuals.drop(index=0, inplace=True)\n",
    "    df_residuals.rename(columns={'Lipid':'Sample ID'}, inplace=True)\n",
    "    df_residuals.to_csv(output+'.reformatted', sep='\\t', index=False)\n",
    "    print(f'# Done. {c} lipids processed')"
   ]
  },
  {
   "cell_type": "code",
   "execution_count": 43,
   "id": "319ea0f7-4d34-45db-bec5-a5da26bbe08d",
   "metadata": {},
   "outputs": [
    {
     "data": {
      "image/png": "[encoded data removed]",
      "text/plain": [
       "<Figure size 432x288 with 12 Axes>"
      ]
     },
     "metadata": {
      "needs_background": "light"
     },
     "output_type": "display_data"
    }
   ],
   "source": [
    "# Check normality of residuals (randomly pick 9 lipids)\n",
    "# Look fine!\n",
    "for col in df_residuals.columns[1:]:\n",
    "    df_residuals[col] = pd.to_numeric(df_residuals[col], errors='coerce')\n",
    "    \n",
    "fig = df_residuals.iloc[:, 110:120].hist()"
   ]
  }
 ],
 "metadata": {
  "kernelspec": {
   "display_name": "Python 3",
   "language": "python",
   "name": "python3"
  },
  "language_info": {
   "codemirror_mode": {
    "name": "ipython",
    "version": 3
   },
   "file_extension": ".py",
   "mimetype": "text/x-python",
   "name": "python",
   "nbconvert_exporter": "python",
   "pygments_lexer": "ipython3",
   "version": "3.9.7"
  }
 },
 "nbformat": 4,
 "nbformat_minor": 5
}
