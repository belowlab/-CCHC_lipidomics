{
 "cells": [
  {
   "cell_type": "code",
   "execution_count": 1,
   "id": "12368e7d-4a18-4c21-a5f6-7fb61924257d",
   "metadata": {},
   "outputs": [],
   "source": [
    "# Apply model on test set\n",
    "# Already got subset with bcftools, extracted SNPs and dosage"
   ]
  },
  {
   "cell_type": "code",
   "execution_count": 1,
   "id": "35953946-1ebd-4f54-9bac-804fc6d5fa98",
   "metadata": {},
   "outputs": [
    {
     "name": "stdout",
     "output_type": "stream",
     "text": [
      "Last run: 2023-04-28\n"
     ]
    }
   ],
   "source": [
    "import sqlite3\n",
    "import argparse\n",
    "import datetime\n",
    "import time\n",
    "import numpy as np\n",
    "\n",
    "print('Last run:', datetime.datetime.now().strftime('%Y-%m-%d'))"
   ]
  },
  {
   "cell_type": "code",
   "execution_count": 4,
   "id": "dda1c9ca-d173-4088-848c-be08881b2b98",
   "metadata": {},
   "outputs": [],
   "source": [
    "parser = argparse.ArgumentParser()"
   ]
  },
  {
   "cell_type": "code",
   "execution_count": null,
   "id": "f5fe84ec-c07b-44a2-957c-b7b8923e35ad",
   "metadata": {},
   "outputs": [],
   "source": [
    "db_fn = '/data100t1/home/wanying/CCHC/lipidomics/prediction_models/input_docs/sqlDB/dosage_test.db'"
   ]
  }
 ],
 "metadata": {
  "kernelspec": {
   "display_name": "Python 3",
   "language": "python",
   "name": "python3"
  },
  "language_info": {
   "codemirror_mode": {
    "name": "ipython",
    "version": 3
   },
   "file_extension": ".py",
   "mimetype": "text/x-python",
   "name": "python",
   "nbconvert_exporter": "python",
   "pygments_lexer": "ipython3",
   "version": "3.9.7"
  }
 },
 "nbformat": 4,
 "nbformat_minor": 5
}
