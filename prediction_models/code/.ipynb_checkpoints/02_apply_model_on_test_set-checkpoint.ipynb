{
 "cells": [
  {
   "cell_type": "code",
   "execution_count": 1,
   "id": "12368e7d-4a18-4c21-a5f6-7fb61924257d",
   "metadata": {},
   "outputs": [],
   "source": [
    "# Apply model on test set\n",
    "# Already got subset with bcftools, extracted SNPs and dosage"
   ]
  },
  {
   "cell_type": "code",
   "execution_count": 1,
   "id": "ea848bd7-c35d-484c-9665-6d8d2b21264d",
   "metadata": {},
   "outputs": [],
   "source": [
    "import sqlite3\n",
    "import argparse\n",
    "import datetime\n",
    "import time\n",
    "import numpy as np\n",
    "import os"
   ]
  },
  {
   "cell_type": "code",
   "execution_count": 29,
   "id": "4de2e891-d933-45e8-8bb6-ad3088694e4a",
   "metadata": {},
   "outputs": [
    {
     "name": "stdout",
     "output_type": "stream",
     "text": [
      "Last run: 2023-05-01\n",
      "#Connect to dosage and coefficient databases\n",
      "#Load lipid list\n",
      "#Run finished in 0.1257 min\n"
     ]
    }
   ],
   "source": [
    "print('Last run:', datetime.datetime.now().strftime('%Y-%m-%d'))\n",
    "start_time = time.time()\n",
    "\n",
    "parser = argparse.ArgumentParser()\n",
    "parser.add_argument('--dosage', default='/data100t1/home/wanying/CCHC/lipidomics/prediction_models/input_docs/sqlDB/dosage_test.db',\n",
    "                    help='Input SQL database containing SNP dosage')\n",
    "parser.add_argument('--coeff', default='/data100t1/home/wanying/CCHC/lipidomics/prediction_models/elastic_net/training/model_params/coeff_100_alpha.db',\n",
    "                    help='Coefficient SQL database file')\n",
    "parser.add_argument('--output', default='/data100t1/home/wanying/CCHC/lipidomics/prediction_models/elastic_net/test/pred_vals.txt',\n",
    "                    help='Output filename (including directory)')\n",
    "parser.add_argument('--lipid_list', default='/data100t1/home/wanying/CCHC/lipidomics/prediction_models/input_docs/lipid_traits_residuals/train/lipid_species_list.txt',\n",
    "                    help='A list of lipid to test. One lipid per row without header line.')\n",
    "args = parser.parse_args('--dosage /data100t1/home/wanying/CCHC/lipidomics/prediction_models/input_docs/sqlDB/dosage_test.db'.split())\n",
    "\n",
    "# if os.path.isfile(args.output):\n",
    "#     print(f'#Output file already exists: {args.output}')\n",
    "#     print('#Skip saving. Exit')\n",
    "#     exit()\n",
    "\n",
    "# Connect to databases\n",
    "print('#Connect to dosage and coefficient databases')\n",
    "con_coeff = sqlite3.connect(args.coeff)\n",
    "cur_coeff = con_coeff.cursor()\n",
    "\n",
    "con_dosage = sqlite3.connect(args.dosage)\n",
    "cur_dosage = con_dosage.cursor()\n",
    "# Get sample IDs\n",
    "headers = cur_dosage.execute('SELECT * FROM dosage').description\n",
    "sample_ids = [val[0] for val in headers][6:]\n",
    "\n",
    "print('#Load lipid list')\n",
    "fh_lipid_list = open(args.lipid_list)\n",
    "lipid = fh_lipid_list.readline().strip()\n",
    "count = 1\n",
    "# while lipid != '':\n",
    "#     print(f'# - Process lipid #{count}: {lipid}')\n",
    "\n",
    "#     pred_vals = get_pred_vals(lipid, cur_coeff, cur_dosage, sample_ids)\n",
    "#     lipid = fh_lipid_list.readline().strip()\n",
    "#     count += 1\n",
    "\n",
    "res_coeff = cur_coeff.execute(f\"SELECT snp_id, weight FROM weights WHERE lipid='{lipid}'\")\n",
    "result_coeff = res_coeff.fetchall()\n",
    "snp = [\"'\"+val[0]+\"'\" for val in result_coeff] # Load SNP IDs\n",
    "coeff_array = np.array([val[1] for val in result_coeff]) # Load coefficients\n",
    "\n",
    "# Order is retained as original order in the database. So SNPs and coefficients are lined up already, no need to sort\n",
    "res_dosage = cur_dosage.execute(f\"SELECT {','.join(sample_ids)} FROM dosage WHERE ID IN ({','.join(snp)})\")\n",
    "dosage = res_dosage.fetchall()\n",
    "\n",
    "end_time = time.time()\n",
    "print(f'#Run finished in {(end_time-start_time)/60:.4f} min')\n",
    "\n",
    "\n",
    "# fh_lipid_list.close()\n",
    "# con_coeff.close()\n",
    "# con_dosage.close()"
   ]
  },
  {
   "cell_type": "code",
   "execution_count": 39,
   "id": "3d11376e-3e98-4a3e-ad57-494223cc36b6",
   "metadata": {},
   "outputs": [
    {
     "name": "stdout",
     "output_type": "stream",
     "text": [
      "1251 682\n"
     ]
    }
   ],
   "source": [
    "print(len(dosage), len(dosage[0]))"
   ]
  },
  {
   "cell_type": "code",
   "execution_count": 32,
   "id": "02039af5-5477-4df4-b585-0e9cc9b28509",
   "metadata": {},
   "outputs": [],
   "source": [
    "dosage_array = np.array(dosage)"
   ]
  },
  {
   "cell_type": "code",
   "execution_count": 33,
   "id": "662f9c61-0130-4c46-bfb8-7ac8bd6599ed",
   "metadata": {},
   "outputs": [
    {
     "data": {
      "text/plain": [
       "(1251, 682)"
      ]
     },
     "execution_count": 33,
     "metadata": {},
     "output_type": "execute_result"
    }
   ],
   "source": [
    "dosage_array.shape"
   ]
  },
  {
   "cell_type": "code",
   "execution_count": 34,
   "id": "155d47e2-8361-405d-b3b3-ab08e41ae091",
   "metadata": {},
   "outputs": [
    {
     "data": {
      "text/plain": [
       "array([[0.   , 0.   , 0.   , ..., 0.   , 0.   , 0.   ],\n",
       "       [0.   , 0.   , 0.   , ..., 0.   , 0.   , 0.   ],\n",
       "       [0.   , 0.128, 1.997, ..., 0.951, 0.951, 0.   ],\n",
       "       ...,\n",
       "       [0.   , 0.   , 0.   , ..., 0.   , 0.   , 0.   ],\n",
       "       [0.   , 0.   , 0.   , ..., 0.   , 0.   , 0.   ],\n",
       "       [0.   , 0.   , 0.   , ..., 0.149, 0.149, 0.   ]])"
      ]
     },
     "execution_count": 34,
     "metadata": {},
     "output_type": "execute_result"
    }
   ],
   "source": [
    "dosage_array"
   ]
  },
  {
   "cell_type": "code",
   "execution_count": 36,
   "id": "7acbef53-fc40-4350-8797-77aae7b9ccc5",
   "metadata": {},
   "outputs": [
    {
     "name": "stdout",
     "output_type": "stream",
     "text": [
      "(1255,)\n"
     ]
    },
    {
     "data": {
      "text/plain": [
       "array([-0.01922263, -0.01071893, -0.00084994, ...,  0.02382914,\n",
       "        0.03180891,  0.00399275])"
      ]
     },
     "execution_count": 36,
     "metadata": {},
     "output_type": "execute_result"
    }
   ],
   "source": [
    "print(coeff_array.shape)\n",
    "coeff_array"
   ]
  },
  {
   "cell_type": "code",
   "execution_count": 45,
   "id": "c0cba4b8-446a-4774-a894-b2e644c8c3fe",
   "metadata": {},
   "outputs": [
    {
     "data": {
      "text/plain": [
       "['CHROM',\n",
       " 'POS',\n",
       " 'ID',\n",
       " 'REF',\n",
       " 'ALT',\n",
       " 'INFO',\n",
       " 'BD0010_BD4010',\n",
       " 'BD0382_BD4382',\n",
       " 'BD0550_BD4550',\n",
       " 'BD0859_BD4859']"
      ]
     },
     "execution_count": 45,
     "metadata": {},
     "output_type": "execute_result"
    }
   ],
   "source": [
    "[x[0] for x in cur_dosage.execute(f\"SELECT * FROM dosage\").description[:10]]"
   ]
  },
  {
   "cell_type": "code",
   "execution_count": 50,
   "id": "c631e2fd-9d70-4dd9-b0f7-02cdfbe605f1",
   "metadata": {},
   "outputs": [
    {
     "name": "stdout",
     "output_type": "stream",
     "text": [
      "........................................................................................................................................................................................."
     ]
    },
    {
     "ename": "KeyboardInterrupt",
     "evalue": "",
     "output_type": "error",
     "traceback": [
      "\u001b[0;31m---------------------------------------------------------------------------\u001b[0m",
      "\u001b[0;31mKeyboardInterrupt\u001b[0m                         Traceback (most recent call last)",
      "\u001b[0;32m/tmp/ipykernel_188323/1287871970.py\u001b[0m in \u001b[0;36m<module>\u001b[0;34m\u001b[0m\n\u001b[1;32m      1\u001b[0m \u001b[0mmissing\u001b[0m \u001b[0;34m=\u001b[0m \u001b[0;34m[\u001b[0m\u001b[0;34m]\u001b[0m\u001b[0;34m\u001b[0m\u001b[0;34m\u001b[0m\u001b[0m\n\u001b[1;32m      2\u001b[0m \u001b[0;32mfor\u001b[0m \u001b[0ms\u001b[0m \u001b[0;32min\u001b[0m \u001b[0msnp\u001b[0m\u001b[0;34m:\u001b[0m\u001b[0;34m\u001b[0m\u001b[0;34m\u001b[0m\u001b[0m\n\u001b[0;32m----> 3\u001b[0;31m     \u001b[0mnumber_find\u001b[0m \u001b[0;34m=\u001b[0m \u001b[0mlen\u001b[0m\u001b[0;34m(\u001b[0m\u001b[0mcur_dosage\u001b[0m\u001b[0;34m.\u001b[0m\u001b[0mexecute\u001b[0m\u001b[0;34m(\u001b[0m\u001b[0;34mf\"SELECT ID FROM dosage WHERE ID={s}\"\u001b[0m\u001b[0;34m)\u001b[0m\u001b[0;34m.\u001b[0m\u001b[0mfetchall\u001b[0m\u001b[0;34m(\u001b[0m\u001b[0;34m)\u001b[0m\u001b[0;34m)\u001b[0m\u001b[0;34m\u001b[0m\u001b[0;34m\u001b[0m\u001b[0m\n\u001b[0m\u001b[1;32m      4\u001b[0m     \u001b[0;32mif\u001b[0m \u001b[0mnumber_find\u001b[0m\u001b[0;34m==\u001b[0m\u001b[0;36m0\u001b[0m\u001b[0;34m:\u001b[0m\u001b[0;34m\u001b[0m\u001b[0;34m\u001b[0m\u001b[0m\n\u001b[1;32m      5\u001b[0m         \u001b[0mmissing\u001b[0m\u001b[0;34m.\u001b[0m\u001b[0mappend\u001b[0m\u001b[0;34m(\u001b[0m\u001b[0;34mf'{s}|n{number_find}'\u001b[0m\u001b[0;34m)\u001b[0m\u001b[0;34m\u001b[0m\u001b[0;34m\u001b[0m\u001b[0m\n",
      "\u001b[0;31mKeyboardInterrupt\u001b[0m: "
     ]
    }
   ],
   "source": [
    "missing = []\n",
    "for s in snp:\n",
    "    number_find = len(cur_dosage.execute(f\"SELECT ID FROM dosage WHERE ID={s}\").fetchall())\n",
    "    if number_find==0:\n",
    "        missing.append(f'{s}|{number_find}')\n",
    "    else: print('.', end='', flush=True)\n",
    "print('################# Missing #################')\n",
    "for val in missing:\n",
    "    print(val)"
   ]
  },
  {
   "cell_type": "code",
   "execution_count": 51,
   "id": "c0ef2d11-9d99-4d70-8314-aa78b0ef514d",
   "metadata": {},
   "outputs": [
    {
     "data": {
      "text/plain": [
       "[\"'chr1:10698556:G:GA'|n0\"]"
      ]
     },
     "execution_count": 51,
     "metadata": {},
     "output_type": "execute_result"
    }
   ],
   "source": [
    "missing"
   ]
  },
  {
   "cell_type": "code",
   "execution_count": 52,
   "id": "5eb10bfe-0a90-4ce9-8232-d97e9b03d84a",
   "metadata": {},
   "outputs": [],
   "source": [
    "tmp = cur_dosage.execute(f\"SELECT ID FROM dosage WHERE CHROM=1 AND POS=10698556\").fetchall()"
   ]
  },
  {
   "cell_type": "code",
   "execution_count": 53,
   "id": "3ff221a6-8cb6-4aee-a98e-c4065c27aff1",
   "metadata": {},
   "outputs": [
    {
     "data": {
      "text/plain": [
       "1"
      ]
     },
     "execution_count": 53,
     "metadata": {},
     "output_type": "execute_result"
    }
   ],
   "source": [
    "len(tmp)"
   ]
  },
  {
   "cell_type": "code",
   "execution_count": 55,
   "id": "4385c1dc-179c-40db-a261-4a7bd3afdf8c",
   "metadata": {},
   "outputs": [
    {
     "data": {
      "text/plain": [
       "[('chr1:10698556:G:A',)]"
      ]
     },
     "execution_count": 55,
     "metadata": {},
     "output_type": "execute_result"
    }
   ],
   "source": [
    "tmp"
   ]
  },
  {
   "cell_type": "code",
   "execution_count": null,
   "id": "b2340260-3db9-4568-9ec3-1a15ee3f056f",
   "metadata": {},
   "outputs": [],
   "source": []
  }
 ],
 "metadata": {
  "kernelspec": {
   "display_name": "Python 3",
   "language": "python",
   "name": "python3"
  },
  "language_info": {
   "codemirror_mode": {
    "name": "ipython",
    "version": 3
   },
   "file_extension": ".py",
   "mimetype": "text/x-python",
   "name": "python",
   "nbconvert_exporter": "python",
   "pygments_lexer": "ipython3",
   "version": "3.9.7"
  }
 },
 "nbformat": 4,
 "nbformat_minor": 5
}
