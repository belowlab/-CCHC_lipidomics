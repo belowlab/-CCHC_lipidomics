{
 "cells": [
  {
   "cell_type": "markdown",
   "id": "b5de7efb-475b-4e27-83d8-a2c89ade7c28",
   "metadata": {},
   "source": [
    "## Goal: Convert extracted doasage to sql database for faster random accessing"
   ]
  },
  {
   "cell_type": "code",
   "execution_count": 101,
   "id": "272e6880-ce7c-4243-86a5-eaf9c7382a6e",
   "metadata": {},
   "outputs": [
    {
     "name": "stdout",
     "output_type": "stream",
     "text": [
      "Last run: 2023-04-27\n"
     ]
    }
   ],
   "source": [
    "import sqlite3\n",
    "import os\n",
    "import datetime\n",
    "print('Last run:', datetime.datetime.now().strftime('%Y-%m-%d'))\n",
    "import time\n"
   ]
  },
  {
   "cell_type": "code",
   "execution_count": 100,
   "id": "6119f0a2-22ba-4d74-bbb3-6f5728048068",
   "metadata": {},
   "outputs": [
    {
     "name": "stdout",
     "output_type": "stream",
     "text": [
      "Insert values from species_chr1.vcf.gz.dosage\n",
      ".......................................100000 lines processed\n",
      "........"
     ]
    },
    {
     "ename": "KeyboardInterrupt",
     "evalue": "",
     "output_type": "error",
     "traceback": [
      "\u001b[0;31m---------------------------------------------------------------------------\u001b[0m",
      "\u001b[0;31mKeyboardInterrupt\u001b[0m                         Traceback (most recent call last)",
      "\u001b[0;32m/tmp/ipykernel_144168/3319442335.py\u001b[0m in \u001b[0;36m<module>\u001b[0;34m\u001b[0m\n\u001b[1;32m     40\u001b[0m             \u001b[0;32mfor\u001b[0m \u001b[0mindx\u001b[0m \u001b[0;32min\u001b[0m \u001b[0;34m[\u001b[0m\u001b[0;36m0\u001b[0m\u001b[0;34m,\u001b[0m\u001b[0;36m2\u001b[0m\u001b[0;34m,\u001b[0m\u001b[0;36m3\u001b[0m\u001b[0;34m,\u001b[0m\u001b[0;36m4\u001b[0m\u001b[0;34m,\u001b[0m\u001b[0;36m5\u001b[0m\u001b[0;34m]\u001b[0m\u001b[0;34m:\u001b[0m\u001b[0;34m\u001b[0m\u001b[0;34m\u001b[0m\u001b[0m\n\u001b[1;32m     41\u001b[0m                 \u001b[0mtmp_list\u001b[0m\u001b[0;34m[\u001b[0m\u001b[0mindx\u001b[0m\u001b[0;34m]\u001b[0m \u001b[0;34m=\u001b[0m \u001b[0;34mf\"'{tmp_list[indx]}'\"\u001b[0m\u001b[0;34m\u001b[0m\u001b[0;34m\u001b[0m\u001b[0m\n\u001b[0;32m---> 42\u001b[0;31m             \u001b[0mcur\u001b[0m\u001b[0;34m.\u001b[0m\u001b[0mexecute\u001b[0m\u001b[0;34m(\u001b[0m\u001b[0;34mf\"INSERT INTO dosage VALUES ({', '.join(tmp_list)})\"\u001b[0m\u001b[0;34m)\u001b[0m\u001b[0;34m\u001b[0m\u001b[0;34m\u001b[0m\u001b[0m\n\u001b[0m\u001b[1;32m     43\u001b[0m             \u001b[0mcount\u001b[0m \u001b[0;34m+=\u001b[0m \u001b[0;36m1\u001b[0m\u001b[0;34m\u001b[0m\u001b[0;34m\u001b[0m\u001b[0m\n\u001b[1;32m     44\u001b[0m             \u001b[0;32mif\u001b[0m \u001b[0mcount\u001b[0m\u001b[0;34m%\u001b[0m\u001b[0;36m100000\u001b[0m \u001b[0;34m==\u001b[0m \u001b[0;36m0\u001b[0m\u001b[0;34m:\u001b[0m\u001b[0;34m\u001b[0m\u001b[0;34m\u001b[0m\u001b[0m\n",
      "\u001b[0;31mKeyboardInterrupt\u001b[0m: "
     ]
    }
   ],
   "source": [
    "start = time.time()\n",
    "# Create a sql database\n",
    "db_dir = '/data100t1/home/wanying/CCHC/lipidomics/prediction_models/input_docs/sqlDB'\n",
    "con = sqlite3.connect(f'{db_dir}/dosage_train.db')\n",
    "cur = con.cursor()\n",
    "\n",
    "# Dosage files: species_chr*.vcf.gz.dosage\n",
    "dosage_dir = '/data100t1/home/wanying/CCHC/lipidomics/prediction_models/input_docs/subset_vcfs/train'\n",
    "# Get column names of the table\n",
    "with open(f'{dosage_dir}/species_chr1.vcf.gz.dosage') as fh:\n",
    "    header = fh.readline().strip().split()\n",
    "# Drop some columns such as QUAL, FILTER, etc.\n",
    "# Specify data types. (Recommended by AlexP)\n",
    "header = ['CHROM TEXT', 'POS INT', 'ID TEXT', 'REF TEXT', 'ALT TEXT', 'INFO TEXT'] + [f'{val} REAL' for val in header[9:]]\n",
    "cur.execute(f\"DROP TABLE IF EXISTS dosage\") # Drop before create dosage table \n",
    "cur.execute(f\"CREATE TABLE dosage ({', '.join(header)})\")\n",
    "\n",
    "# Populate dosage table with dosage of all chromosomes\n",
    "'''\n",
    "The syntex to insert values is (text must be surrounded by quotes):\n",
    "    cur.execute(\"\"\"\n",
    "        INSERT INTO movie VALUES\n",
    "            ('Monty Python and the Holy Grail', 1975, 8.2),\n",
    "            ('And Now for Something Completely Different', 1971, 7.5)\n",
    "    \"\"\")\n",
    "\n",
    "'''\n",
    "for chr_num in range(1,23):\n",
    "    fn = f'species_chr{chr_num}.vcf.gz.dosage'\n",
    "    print(f'#Insert values from {fn}')\n",
    "    with open(f'{dosage_dir}/{fn}') as fh:\n",
    "        line = fh.readline() # Skip header line\n",
    "        line = fh.readline().strip()\n",
    "        count = 0\n",
    "        while line != '':\n",
    "            # Format values for insertion\n",
    "            tmp_list = line.split()\n",
    "            for indx in [8, 6, 5]:\n",
    "                tmp_list.pop(indx) # Remove values in column QUAL, FILTER and FORMAT\n",
    "            # Add quotes to value at indices 0,2,3,4,5, so that they can be inserted as text\n",
    "            for indx in [0,2,3,4,5]:\n",
    "                tmp_list[indx] = f\"'{tmp_list[indx]}'\"\n",
    "            cur.execute(f\"INSERT INTO dosage VALUES ({', '.join(tmp_list)})\")\n",
    "            count += 1\n",
    "            if count%100000 == 0:\n",
    "                print(f'{count} lines processed', flush='True')\n",
    "            elif count%2500 == 0:\n",
    "                print('.', end='', flush=True)\n",
    "            line = fh.readline().strip()\n",
    "end = time.time()\n",
    "print('\\n#Done')\n",
    "print(f'#Finished in {(end-start)/60:.4f}m')\n",
    "con.close()"
   ]
  },
  {
   "cell_type": "code",
   "execution_count": null,
   "id": "f974e529-f4d5-42b8-83bc-8d080c573512",
   "metadata": {},
   "outputs": [],
   "source": []
  }
 ],
 "metadata": {
  "kernelspec": {
   "display_name": "Python 3",
   "language": "python",
   "name": "python3"
  },
  "language_info": {
   "codemirror_mode": {
    "name": "ipython",
    "version": 3
   },
   "file_extension": ".py",
   "mimetype": "text/x-python",
   "name": "python",
   "nbconvert_exporter": "python",
   "pygments_lexer": "ipython3",
   "version": "3.9.7"
  }
 },
 "nbformat": 4,
 "nbformat_minor": 5
}
