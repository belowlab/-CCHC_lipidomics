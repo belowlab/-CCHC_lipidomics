{
 "cells": [
  {
   "cell_type": "markdown",
   "id": "b6a963ea-4161-4717-b3bd-22eef23b6b9f",
   "metadata": {},
   "source": [
    "Phillip's code and files can be found:\n",
    "```/data100t1/home/wanying/CCHC/lipidomics/20240204_rerun_to_compare_with_phillip```"
   ]
  },
  {
   "cell_type": "code",
   "execution_count": null,
   "id": "0933b80e-d93c-44ef-8c0d-f5f9664c2dcc",
   "metadata": {},
   "outputs": [],
   "source": []
  }
 ],
 "metadata": {
  "kernelspec": {
   "display_name": "Python 3",
   "language": "python",
   "name": "python3"
  },
  "language_info": {
   "codemirror_mode": {
    "name": "ipython",
    "version": 3
   },
   "file_extension": ".py",
   "mimetype": "text/x-python",
   "name": "python",
   "nbconvert_exporter": "python",
   "pygments_lexer": "ipython3",
   "version": "3.9.7"
  }
 },
 "nbformat": 4,
 "nbformat_minor": 5
}
